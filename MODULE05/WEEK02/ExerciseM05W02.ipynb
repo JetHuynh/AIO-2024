{
  "nbformat": 4,
  "nbformat_minor": 0,
  "metadata": {
    "colab": {
      "provenance": [],
      "toc_visible": true
    },
    "kernelspec": {
      "name": "python3",
      "display_name": "Python 3"
    },
    "language_info": {
      "name": "python"
    }
  },
  "cells": [
    {
      "cell_type": "markdown",
      "source": [
        "# Softmax Regression"
      ],
      "metadata": {
        "id": "BrsWIIL3_q00"
      }
    },
    {
      "cell_type": "markdown",
      "source": [
        "# A. Credit Card Fraud Detection"
      ],
      "metadata": {
        "id": "g-cZFKuu_91i"
      }
    },
    {
      "cell_type": "markdown",
      "source": [
        "## 1.Tải bộ dữ liệu"
      ],
      "metadata": {
        "id": "7iTuaauNAjhw"
      }
    },
    {
      "cell_type": "code",
      "execution_count": null,
      "metadata": {
        "colab": {
          "base_uri": "https://localhost:8080/"
        },
        "id": "KmeCFA1QzcAU",
        "outputId": "d87099d4-0c47-4cef-a475-36aa78269ad1"
      },
      "outputs": [
        {
          "output_type": "stream",
          "name": "stdout",
          "text": [
            "/content/drive/MyDrive/Colab Notebooks/MODULE05/data\n"
          ]
        }
      ],
      "source": [
        "%cd /content/drive/MyDrive/Colab Notebooks/MODULE05/data"
      ]
    },
    {
      "cell_type": "code",
      "source": [
        "#https://drive.google.com/file/d/1NwikiUU_Yzom-l4Kwy24Cn-bG46gMmG4/view\n",
        "!gdown 1NwikiUU_Yzom-l4Kwy24Cn-bG46gMmG4"
      ],
      "metadata": {
        "colab": {
          "base_uri": "https://localhost:8080/"
        },
        "id": "1rXn5H4g_mrH",
        "outputId": "683d66c7-92e8-4674-e004-1f48fb4ac6cc"
      },
      "execution_count": null,
      "outputs": [
        {
          "output_type": "stream",
          "name": "stdout",
          "text": [
            "Downloading...\n",
            "From (original): https://drive.google.com/uc?id=1NwikiUU_Yzom-l4Kwy24Cn-bG46gMmG4\n",
            "From (redirected): https://drive.google.com/uc?id=1NwikiUU_Yzom-l4Kwy24Cn-bG46gMmG4&confirm=t&uuid=540c3d8a-5107-4a51-8391-e979fe519d33\n",
            "To: /content/drive/MyDrive/Colab Notebooks/MODULE05/data/creditcard.csv\n",
            "100% 151M/151M [00:03<00:00, 45.4MB/s]\n"
          ]
        }
      ]
    },
    {
      "cell_type": "code",
      "source": [
        "cd .."
      ],
      "metadata": {
        "colab": {
          "base_uri": "https://localhost:8080/"
        },
        "id": "HVFhfTiS_muf",
        "outputId": "62fea29a-d7c5-4756-89eb-77313bc52328"
      },
      "execution_count": null,
      "outputs": [
        {
          "output_type": "stream",
          "name": "stdout",
          "text": [
            "/content/drive/MyDrive/Colab Notebooks/MODULE05\n"
          ]
        }
      ]
    },
    {
      "cell_type": "markdown",
      "source": [
        "## 2.Import libraries"
      ],
      "metadata": {
        "id": "o0v2xTtLBhXR"
      }
    },
    {
      "cell_type": "code",
      "source": [
        "import numpy as np\n",
        "import pandas as pd\n",
        "import matplotlib . pyplot as plt\n",
        "from sklearn . model_selection import train_test_split\n",
        "from sklearn . preprocessing import StandardScaler"
      ],
      "metadata": {
        "id": "gWbQDVHT_mzR"
      },
      "execution_count": null,
      "outputs": []
    },
    {
      "cell_type": "markdown",
      "source": [
        "## 3.Đọc dữ liệu\n",
        "Sử dụng thư viện pandas để đọc file .csv thành DataFrame"
      ],
      "metadata": {
        "id": "DhiQjzhaBquD"
      }
    },
    {
      "cell_type": "code",
      "source": [
        "dataset_path = 'data/creditcard.csv'\n",
        "df = pd. read_csv (dataset_path)"
      ],
      "metadata": {
        "id": "HC3Znhch_m24"
      },
      "execution_count": null,
      "outputs": []
    },
    {
      "cell_type": "code",
      "source": [
        "df.head()"
      ],
      "metadata": {
        "colab": {
          "base_uri": "https://localhost:8080/",
          "height": 236
        },
        "id": "Vm9kN89W_m6C",
        "outputId": "e3f3f763-6416-48c0-fbcd-091e8de988cf"
      },
      "execution_count": null,
      "outputs": [
        {
          "output_type": "execute_result",
          "data": {
            "text/plain": [
              "   Time        V1        V2        V3        V4        V5        V6        V7  \\\n",
              "0   0.0 -1.359807 -0.072781  2.536347  1.378155 -0.338321  0.462388  0.239599   \n",
              "1   0.0  1.191857  0.266151  0.166480  0.448154  0.060018 -0.082361 -0.078803   \n",
              "2   1.0 -1.358354 -1.340163  1.773209  0.379780 -0.503198  1.800499  0.791461   \n",
              "3   1.0 -0.966272 -0.185226  1.792993 -0.863291 -0.010309  1.247203  0.237609   \n",
              "4   2.0 -1.158233  0.877737  1.548718  0.403034 -0.407193  0.095921  0.592941   \n",
              "\n",
              "         V8        V9  ...       V21       V22       V23       V24       V25  \\\n",
              "0  0.098698  0.363787  ... -0.018307  0.277838 -0.110474  0.066928  0.128539   \n",
              "1  0.085102 -0.255425  ... -0.225775 -0.638672  0.101288 -0.339846  0.167170   \n",
              "2  0.247676 -1.514654  ...  0.247998  0.771679  0.909412 -0.689281 -0.327642   \n",
              "3  0.377436 -1.387024  ... -0.108300  0.005274 -0.190321 -1.175575  0.647376   \n",
              "4 -0.270533  0.817739  ... -0.009431  0.798278 -0.137458  0.141267 -0.206010   \n",
              "\n",
              "        V26       V27       V28  Amount  Class  \n",
              "0 -0.189115  0.133558 -0.021053  149.62      0  \n",
              "1  0.125895 -0.008983  0.014724    2.69      0  \n",
              "2 -0.139097 -0.055353 -0.059752  378.66      0  \n",
              "3 -0.221929  0.062723  0.061458  123.50      0  \n",
              "4  0.502292  0.219422  0.215153   69.99      0  \n",
              "\n",
              "[5 rows x 31 columns]"
            ],
            "text/html": [
              "\n",
              "  <div id=\"df-d558a4ca-efba-431d-abaf-622561424bd2\" class=\"colab-df-container\">\n",
              "    <div>\n",
              "<style scoped>\n",
              "    .dataframe tbody tr th:only-of-type {\n",
              "        vertical-align: middle;\n",
              "    }\n",
              "\n",
              "    .dataframe tbody tr th {\n",
              "        vertical-align: top;\n",
              "    }\n",
              "\n",
              "    .dataframe thead th {\n",
              "        text-align: right;\n",
              "    }\n",
              "</style>\n",
              "<table border=\"1\" class=\"dataframe\">\n",
              "  <thead>\n",
              "    <tr style=\"text-align: right;\">\n",
              "      <th></th>\n",
              "      <th>Time</th>\n",
              "      <th>V1</th>\n",
              "      <th>V2</th>\n",
              "      <th>V3</th>\n",
              "      <th>V4</th>\n",
              "      <th>V5</th>\n",
              "      <th>V6</th>\n",
              "      <th>V7</th>\n",
              "      <th>V8</th>\n",
              "      <th>V9</th>\n",
              "      <th>...</th>\n",
              "      <th>V21</th>\n",
              "      <th>V22</th>\n",
              "      <th>V23</th>\n",
              "      <th>V24</th>\n",
              "      <th>V25</th>\n",
              "      <th>V26</th>\n",
              "      <th>V27</th>\n",
              "      <th>V28</th>\n",
              "      <th>Amount</th>\n",
              "      <th>Class</th>\n",
              "    </tr>\n",
              "  </thead>\n",
              "  <tbody>\n",
              "    <tr>\n",
              "      <th>0</th>\n",
              "      <td>0.0</td>\n",
              "      <td>-1.359807</td>\n",
              "      <td>-0.072781</td>\n",
              "      <td>2.536347</td>\n",
              "      <td>1.378155</td>\n",
              "      <td>-0.338321</td>\n",
              "      <td>0.462388</td>\n",
              "      <td>0.239599</td>\n",
              "      <td>0.098698</td>\n",
              "      <td>0.363787</td>\n",
              "      <td>...</td>\n",
              "      <td>-0.018307</td>\n",
              "      <td>0.277838</td>\n",
              "      <td>-0.110474</td>\n",
              "      <td>0.066928</td>\n",
              "      <td>0.128539</td>\n",
              "      <td>-0.189115</td>\n",
              "      <td>0.133558</td>\n",
              "      <td>-0.021053</td>\n",
              "      <td>149.62</td>\n",
              "      <td>0</td>\n",
              "    </tr>\n",
              "    <tr>\n",
              "      <th>1</th>\n",
              "      <td>0.0</td>\n",
              "      <td>1.191857</td>\n",
              "      <td>0.266151</td>\n",
              "      <td>0.166480</td>\n",
              "      <td>0.448154</td>\n",
              "      <td>0.060018</td>\n",
              "      <td>-0.082361</td>\n",
              "      <td>-0.078803</td>\n",
              "      <td>0.085102</td>\n",
              "      <td>-0.255425</td>\n",
              "      <td>...</td>\n",
              "      <td>-0.225775</td>\n",
              "      <td>-0.638672</td>\n",
              "      <td>0.101288</td>\n",
              "      <td>-0.339846</td>\n",
              "      <td>0.167170</td>\n",
              "      <td>0.125895</td>\n",
              "      <td>-0.008983</td>\n",
              "      <td>0.014724</td>\n",
              "      <td>2.69</td>\n",
              "      <td>0</td>\n",
              "    </tr>\n",
              "    <tr>\n",
              "      <th>2</th>\n",
              "      <td>1.0</td>\n",
              "      <td>-1.358354</td>\n",
              "      <td>-1.340163</td>\n",
              "      <td>1.773209</td>\n",
              "      <td>0.379780</td>\n",
              "      <td>-0.503198</td>\n",
              "      <td>1.800499</td>\n",
              "      <td>0.791461</td>\n",
              "      <td>0.247676</td>\n",
              "      <td>-1.514654</td>\n",
              "      <td>...</td>\n",
              "      <td>0.247998</td>\n",
              "      <td>0.771679</td>\n",
              "      <td>0.909412</td>\n",
              "      <td>-0.689281</td>\n",
              "      <td>-0.327642</td>\n",
              "      <td>-0.139097</td>\n",
              "      <td>-0.055353</td>\n",
              "      <td>-0.059752</td>\n",
              "      <td>378.66</td>\n",
              "      <td>0</td>\n",
              "    </tr>\n",
              "    <tr>\n",
              "      <th>3</th>\n",
              "      <td>1.0</td>\n",
              "      <td>-0.966272</td>\n",
              "      <td>-0.185226</td>\n",
              "      <td>1.792993</td>\n",
              "      <td>-0.863291</td>\n",
              "      <td>-0.010309</td>\n",
              "      <td>1.247203</td>\n",
              "      <td>0.237609</td>\n",
              "      <td>0.377436</td>\n",
              "      <td>-1.387024</td>\n",
              "      <td>...</td>\n",
              "      <td>-0.108300</td>\n",
              "      <td>0.005274</td>\n",
              "      <td>-0.190321</td>\n",
              "      <td>-1.175575</td>\n",
              "      <td>0.647376</td>\n",
              "      <td>-0.221929</td>\n",
              "      <td>0.062723</td>\n",
              "      <td>0.061458</td>\n",
              "      <td>123.50</td>\n",
              "      <td>0</td>\n",
              "    </tr>\n",
              "    <tr>\n",
              "      <th>4</th>\n",
              "      <td>2.0</td>\n",
              "      <td>-1.158233</td>\n",
              "      <td>0.877737</td>\n",
              "      <td>1.548718</td>\n",
              "      <td>0.403034</td>\n",
              "      <td>-0.407193</td>\n",
              "      <td>0.095921</td>\n",
              "      <td>0.592941</td>\n",
              "      <td>-0.270533</td>\n",
              "      <td>0.817739</td>\n",
              "      <td>...</td>\n",
              "      <td>-0.009431</td>\n",
              "      <td>0.798278</td>\n",
              "      <td>-0.137458</td>\n",
              "      <td>0.141267</td>\n",
              "      <td>-0.206010</td>\n",
              "      <td>0.502292</td>\n",
              "      <td>0.219422</td>\n",
              "      <td>0.215153</td>\n",
              "      <td>69.99</td>\n",
              "      <td>0</td>\n",
              "    </tr>\n",
              "  </tbody>\n",
              "</table>\n",
              "<p>5 rows × 31 columns</p>\n",
              "</div>\n",
              "    <div class=\"colab-df-buttons\">\n",
              "\n",
              "  <div class=\"colab-df-container\">\n",
              "    <button class=\"colab-df-convert\" onclick=\"convertToInteractive('df-d558a4ca-efba-431d-abaf-622561424bd2')\"\n",
              "            title=\"Convert this dataframe to an interactive table.\"\n",
              "            style=\"display:none;\">\n",
              "\n",
              "  <svg xmlns=\"http://www.w3.org/2000/svg\" height=\"24px\" viewBox=\"0 -960 960 960\">\n",
              "    <path d=\"M120-120v-720h720v720H120Zm60-500h600v-160H180v160Zm220 220h160v-160H400v160Zm0 220h160v-160H400v160ZM180-400h160v-160H180v160Zm440 0h160v-160H620v160ZM180-180h160v-160H180v160Zm440 0h160v-160H620v160Z\"/>\n",
              "  </svg>\n",
              "    </button>\n",
              "\n",
              "  <style>\n",
              "    .colab-df-container {\n",
              "      display:flex;\n",
              "      gap: 12px;\n",
              "    }\n",
              "\n",
              "    .colab-df-convert {\n",
              "      background-color: #E8F0FE;\n",
              "      border: none;\n",
              "      border-radius: 50%;\n",
              "      cursor: pointer;\n",
              "      display: none;\n",
              "      fill: #1967D2;\n",
              "      height: 32px;\n",
              "      padding: 0 0 0 0;\n",
              "      width: 32px;\n",
              "    }\n",
              "\n",
              "    .colab-df-convert:hover {\n",
              "      background-color: #E2EBFA;\n",
              "      box-shadow: 0px 1px 2px rgba(60, 64, 67, 0.3), 0px 1px 3px 1px rgba(60, 64, 67, 0.15);\n",
              "      fill: #174EA6;\n",
              "    }\n",
              "\n",
              "    .colab-df-buttons div {\n",
              "      margin-bottom: 4px;\n",
              "    }\n",
              "\n",
              "    [theme=dark] .colab-df-convert {\n",
              "      background-color: #3B4455;\n",
              "      fill: #D2E3FC;\n",
              "    }\n",
              "\n",
              "    [theme=dark] .colab-df-convert:hover {\n",
              "      background-color: #434B5C;\n",
              "      box-shadow: 0px 1px 3px 1px rgba(0, 0, 0, 0.15);\n",
              "      filter: drop-shadow(0px 1px 2px rgba(0, 0, 0, 0.3));\n",
              "      fill: #FFFFFF;\n",
              "    }\n",
              "  </style>\n",
              "\n",
              "    <script>\n",
              "      const buttonEl =\n",
              "        document.querySelector('#df-d558a4ca-efba-431d-abaf-622561424bd2 button.colab-df-convert');\n",
              "      buttonEl.style.display =\n",
              "        google.colab.kernel.accessAllowed ? 'block' : 'none';\n",
              "\n",
              "      async function convertToInteractive(key) {\n",
              "        const element = document.querySelector('#df-d558a4ca-efba-431d-abaf-622561424bd2');\n",
              "        const dataTable =\n",
              "          await google.colab.kernel.invokeFunction('convertToInteractive',\n",
              "                                                    [key], {});\n",
              "        if (!dataTable) return;\n",
              "\n",
              "        const docLinkHtml = 'Like what you see? Visit the ' +\n",
              "          '<a target=\"_blank\" href=https://colab.research.google.com/notebooks/data_table.ipynb>data table notebook</a>'\n",
              "          + ' to learn more about interactive tables.';\n",
              "        element.innerHTML = '';\n",
              "        dataTable['output_type'] = 'display_data';\n",
              "        await google.colab.output.renderOutput(dataTable, element);\n",
              "        const docLink = document.createElement('div');\n",
              "        docLink.innerHTML = docLinkHtml;\n",
              "        element.appendChild(docLink);\n",
              "      }\n",
              "    </script>\n",
              "  </div>\n",
              "\n",
              "\n",
              "<div id=\"df-8e18fe9b-07ea-4a28-a89b-eba90ccd5d10\">\n",
              "  <button class=\"colab-df-quickchart\" onclick=\"quickchart('df-8e18fe9b-07ea-4a28-a89b-eba90ccd5d10')\"\n",
              "            title=\"Suggest charts\"\n",
              "            style=\"display:none;\">\n",
              "\n",
              "<svg xmlns=\"http://www.w3.org/2000/svg\" height=\"24px\"viewBox=\"0 0 24 24\"\n",
              "     width=\"24px\">\n",
              "    <g>\n",
              "        <path d=\"M19 3H5c-1.1 0-2 .9-2 2v14c0 1.1.9 2 2 2h14c1.1 0 2-.9 2-2V5c0-1.1-.9-2-2-2zM9 17H7v-7h2v7zm4 0h-2V7h2v10zm4 0h-2v-4h2v4z\"/>\n",
              "    </g>\n",
              "</svg>\n",
              "  </button>\n",
              "\n",
              "<style>\n",
              "  .colab-df-quickchart {\n",
              "      --bg-color: #E8F0FE;\n",
              "      --fill-color: #1967D2;\n",
              "      --hover-bg-color: #E2EBFA;\n",
              "      --hover-fill-color: #174EA6;\n",
              "      --disabled-fill-color: #AAA;\n",
              "      --disabled-bg-color: #DDD;\n",
              "  }\n",
              "\n",
              "  [theme=dark] .colab-df-quickchart {\n",
              "      --bg-color: #3B4455;\n",
              "      --fill-color: #D2E3FC;\n",
              "      --hover-bg-color: #434B5C;\n",
              "      --hover-fill-color: #FFFFFF;\n",
              "      --disabled-bg-color: #3B4455;\n",
              "      --disabled-fill-color: #666;\n",
              "  }\n",
              "\n",
              "  .colab-df-quickchart {\n",
              "    background-color: var(--bg-color);\n",
              "    border: none;\n",
              "    border-radius: 50%;\n",
              "    cursor: pointer;\n",
              "    display: none;\n",
              "    fill: var(--fill-color);\n",
              "    height: 32px;\n",
              "    padding: 0;\n",
              "    width: 32px;\n",
              "  }\n",
              "\n",
              "  .colab-df-quickchart:hover {\n",
              "    background-color: var(--hover-bg-color);\n",
              "    box-shadow: 0 1px 2px rgba(60, 64, 67, 0.3), 0 1px 3px 1px rgba(60, 64, 67, 0.15);\n",
              "    fill: var(--button-hover-fill-color);\n",
              "  }\n",
              "\n",
              "  .colab-df-quickchart-complete:disabled,\n",
              "  .colab-df-quickchart-complete:disabled:hover {\n",
              "    background-color: var(--disabled-bg-color);\n",
              "    fill: var(--disabled-fill-color);\n",
              "    box-shadow: none;\n",
              "  }\n",
              "\n",
              "  .colab-df-spinner {\n",
              "    border: 2px solid var(--fill-color);\n",
              "    border-color: transparent;\n",
              "    border-bottom-color: var(--fill-color);\n",
              "    animation:\n",
              "      spin 1s steps(1) infinite;\n",
              "  }\n",
              "\n",
              "  @keyframes spin {\n",
              "    0% {\n",
              "      border-color: transparent;\n",
              "      border-bottom-color: var(--fill-color);\n",
              "      border-left-color: var(--fill-color);\n",
              "    }\n",
              "    20% {\n",
              "      border-color: transparent;\n",
              "      border-left-color: var(--fill-color);\n",
              "      border-top-color: var(--fill-color);\n",
              "    }\n",
              "    30% {\n",
              "      border-color: transparent;\n",
              "      border-left-color: var(--fill-color);\n",
              "      border-top-color: var(--fill-color);\n",
              "      border-right-color: var(--fill-color);\n",
              "    }\n",
              "    40% {\n",
              "      border-color: transparent;\n",
              "      border-right-color: var(--fill-color);\n",
              "      border-top-color: var(--fill-color);\n",
              "    }\n",
              "    60% {\n",
              "      border-color: transparent;\n",
              "      border-right-color: var(--fill-color);\n",
              "    }\n",
              "    80% {\n",
              "      border-color: transparent;\n",
              "      border-right-color: var(--fill-color);\n",
              "      border-bottom-color: var(--fill-color);\n",
              "    }\n",
              "    90% {\n",
              "      border-color: transparent;\n",
              "      border-bottom-color: var(--fill-color);\n",
              "    }\n",
              "  }\n",
              "</style>\n",
              "\n",
              "  <script>\n",
              "    async function quickchart(key) {\n",
              "      const quickchartButtonEl =\n",
              "        document.querySelector('#' + key + ' button');\n",
              "      quickchartButtonEl.disabled = true;  // To prevent multiple clicks.\n",
              "      quickchartButtonEl.classList.add('colab-df-spinner');\n",
              "      try {\n",
              "        const charts = await google.colab.kernel.invokeFunction(\n",
              "            'suggestCharts', [key], {});\n",
              "      } catch (error) {\n",
              "        console.error('Error during call to suggestCharts:', error);\n",
              "      }\n",
              "      quickchartButtonEl.classList.remove('colab-df-spinner');\n",
              "      quickchartButtonEl.classList.add('colab-df-quickchart-complete');\n",
              "    }\n",
              "    (() => {\n",
              "      let quickchartButtonEl =\n",
              "        document.querySelector('#df-8e18fe9b-07ea-4a28-a89b-eba90ccd5d10 button');\n",
              "      quickchartButtonEl.style.display =\n",
              "        google.colab.kernel.accessAllowed ? 'block' : 'none';\n",
              "    })();\n",
              "  </script>\n",
              "</div>\n",
              "\n",
              "    </div>\n",
              "  </div>\n"
            ],
            "application/vnd.google.colaboratory.intrinsic+json": {
              "type": "dataframe",
              "variable_name": "df"
            }
          },
          "metadata": {},
          "execution_count": 6
        }
      ]
    },
    {
      "cell_type": "code",
      "source": [
        "df.shape"
      ],
      "metadata": {
        "colab": {
          "base_uri": "https://localhost:8080/"
        },
        "id": "pI1TBVGR_m8g",
        "outputId": "9d9601a9-d94c-4714-dc22-84aff7eabdbe"
      },
      "execution_count": null,
      "outputs": [
        {
          "output_type": "execute_result",
          "data": {
            "text/plain": [
              "(284807, 31)"
            ]
          },
          "metadata": {},
          "execution_count": 7
        }
      ]
    },
    {
      "cell_type": "markdown",
      "source": [
        "## 4.Tách biến X, y\n",
        "Chuyển đổi DataFrame hiện tại thành array và tách hai biến X, y"
      ],
      "metadata": {
        "id": "qdG5E0_nCF0Q"
      }
    },
    {
      "cell_type": "code",
      "source": [
        "dataset_arr = df.to_numpy()\n",
        "X, y = dataset_arr[:,:-1].astype(np.float64),dataset_arr[:,-1].astype(np.uint8)"
      ],
      "metadata": {
        "id": "6gztIwf4_m_Y"
      },
      "execution_count": null,
      "outputs": []
    },
    {
      "cell_type": "code",
      "source": [
        "X.shape,y.shape"
      ],
      "metadata": {
        "colab": {
          "base_uri": "https://localhost:8080/"
        },
        "id": "IVHQH9My_nCX",
        "outputId": "2f747e32-d1c8-4fa4-bb51-ae966a9ea35d"
      },
      "execution_count": null,
      "outputs": [
        {
          "output_type": "execute_result",
          "data": {
            "text/plain": [
              "((284807, 30), (284807,))"
            ]
          },
          "metadata": {},
          "execution_count": 9
        }
      ]
    },
    {
      "cell_type": "code",
      "source": [
        "y"
      ],
      "metadata": {
        "colab": {
          "base_uri": "https://localhost:8080/"
        },
        "id": "1Xj-X2pV_nFK",
        "outputId": "8934ddbb-dbca-4ac8-d980-9e382f4a0cb0"
      },
      "execution_count": null,
      "outputs": [
        {
          "output_type": "execute_result",
          "data": {
            "text/plain": [
              "array([0, 0, 0, ..., 0, 0, 0], dtype=uint8)"
            ]
          },
          "metadata": {},
          "execution_count": 10
        }
      ]
    },
    {
      "cell_type": "code",
      "source": [
        "X"
      ],
      "metadata": {
        "colab": {
          "base_uri": "https://localhost:8080/"
        },
        "id": "mcLPLYHv_nIO",
        "outputId": "6a62e046-dfeb-4a72-c4ac-3bd5677b5bdf"
      },
      "execution_count": null,
      "outputs": [
        {
          "output_type": "execute_result",
          "data": {
            "text/plain": [
              "array([[ 0.00000000e+00, -1.35980713e+00, -7.27811733e-02, ...,\n",
              "         1.33558377e-01, -2.10530535e-02,  1.49620000e+02],\n",
              "       [ 0.00000000e+00,  1.19185711e+00,  2.66150712e-01, ...,\n",
              "        -8.98309914e-03,  1.47241692e-02,  2.69000000e+00],\n",
              "       [ 1.00000000e+00, -1.35835406e+00, -1.34016307e+00, ...,\n",
              "        -5.53527940e-02, -5.97518406e-02,  3.78660000e+02],\n",
              "       ...,\n",
              "       [ 1.72788000e+05,  1.91956501e+00, -3.01253846e-01, ...,\n",
              "         4.45477214e-03, -2.65608286e-02,  6.78800000e+01],\n",
              "       [ 1.72788000e+05, -2.40440050e-01,  5.30482513e-01, ...,\n",
              "         1.08820735e-01,  1.04532821e-01,  1.00000000e+01],\n",
              "       [ 1.72792000e+05, -5.33412522e-01, -1.89733337e-01, ...,\n",
              "        -2.41530880e-03,  1.36489143e-02,  2.17000000e+02]])"
            ]
          },
          "metadata": {},
          "execution_count": 11
        }
      ]
    },
    {
      "cell_type": "markdown",
      "source": [
        "## 5.Thêm bias vào X\n",
        "Khi sử dụng thư viện, bias sẽ được thêm tự động vào X. Tuy nhiên, khi triển khai lại từ đầu, chúng ta cần phải tự thêm bias vào mỗi mẫu dữ liệu, nhằm thỏa mãn công thức hàm dự đoán"
      ],
      "metadata": {
        "id": "-XeRhkaLCqzI"
      }
    },
    {
      "cell_type": "code",
      "source": [
        "intercept = np. ones ((X. shape [0] , 1))\n",
        "X_b = np. concatenate (( intercept , X),axis =1)"
      ],
      "metadata": {
        "id": "2x685ha7_nKq"
      },
      "execution_count": null,
      "outputs": []
    },
    {
      "cell_type": "code",
      "source": [
        "X"
      ],
      "metadata": {
        "colab": {
          "base_uri": "https://localhost:8080/"
        },
        "id": "lMg7IIza_nN7",
        "outputId": "efb38c28-7ea1-4e0b-b9dc-0447140da1d5"
      },
      "execution_count": null,
      "outputs": [
        {
          "output_type": "execute_result",
          "data": {
            "text/plain": [
              "array([[ 0.00000000e+00, -1.35980713e+00, -7.27811733e-02, ...,\n",
              "         1.33558377e-01, -2.10530535e-02,  1.49620000e+02],\n",
              "       [ 0.00000000e+00,  1.19185711e+00,  2.66150712e-01, ...,\n",
              "        -8.98309914e-03,  1.47241692e-02,  2.69000000e+00],\n",
              "       [ 1.00000000e+00, -1.35835406e+00, -1.34016307e+00, ...,\n",
              "        -5.53527940e-02, -5.97518406e-02,  3.78660000e+02],\n",
              "       ...,\n",
              "       [ 1.72788000e+05,  1.91956501e+00, -3.01253846e-01, ...,\n",
              "         4.45477214e-03, -2.65608286e-02,  6.78800000e+01],\n",
              "       [ 1.72788000e+05, -2.40440050e-01,  5.30482513e-01, ...,\n",
              "         1.08820735e-01,  1.04532821e-01,  1.00000000e+01],\n",
              "       [ 1.72792000e+05, -5.33412522e-01, -1.89733337e-01, ...,\n",
              "        -2.41530880e-03,  1.36489143e-02,  2.17000000e+02]])"
            ]
          },
          "metadata": {},
          "execution_count": 13
        }
      ]
    },
    {
      "cell_type": "code",
      "source": [
        "X.shape,X_b.shape"
      ],
      "metadata": {
        "colab": {
          "base_uri": "https://localhost:8080/"
        },
        "id": "ezZnGP7t_nQ4",
        "outputId": "015458db-4453-4925-fa68-f9ed8b1c319b"
      },
      "execution_count": null,
      "outputs": [
        {
          "output_type": "execute_result",
          "data": {
            "text/plain": [
              "((284807, 30), (284807, 31))"
            ]
          },
          "metadata": {},
          "execution_count": 14
        }
      ]
    },
    {
      "cell_type": "markdown",
      "source": [
        "## 6.One-hot encoding label\n",
        "Đối với Softmax Regression, sau khi có biến chứa nhãn dữ liệu y, ta cần phải thay đổi cách biểu diễn giá trị của nhãn trước khi thực hiện tính toán. Cụ thể (giả định với bộ dữ liệu có 2 class), với dạng biểu diễn số nguyên ban đầu y = [0, 0, 1,...1], ta biến đổi thành các vector toàn giá trị 0 với số phần tử\n",
        "bằng n_classes và gán bằng 1 tại vị trí chỉ mục theo giá trị tại nhãn ban đầu của mẫu dữ liệu tương ứng. Lúc này, ta sẽ được y_one_hot = [[1, 0], [1, 0], [0, 1],...[0, 1]]."
      ],
      "metadata": {
        "id": "xE7ihMlmDOIg"
      }
    },
    {
      "cell_type": "code",
      "source": [
        "n_classes = np.unique(y, axis =0).shape[0]\n",
        "n_samples = y.shape[0]\n",
        "y_encoded = np.array([np.zeros(n_classes) for _ in range(n_samples)])\n",
        "y_encoded[np.arange(n_samples), y] = 1"
      ],
      "metadata": {
        "id": "POy_6YgV_nTz"
      },
      "execution_count": null,
      "outputs": []
    },
    {
      "cell_type": "code",
      "source": [
        "y"
      ],
      "metadata": {
        "colab": {
          "base_uri": "https://localhost:8080/"
        },
        "id": "c6n8ZBjh_nXp",
        "outputId": "9f924d91-5ae8-4b30-f766-40bc4fa23e45"
      },
      "execution_count": null,
      "outputs": [
        {
          "output_type": "execute_result",
          "data": {
            "text/plain": [
              "array([0, 0, 0, ..., 0, 0, 0], dtype=uint8)"
            ]
          },
          "metadata": {},
          "execution_count": 16
        }
      ]
    },
    {
      "cell_type": "code",
      "source": [
        "y_encoded"
      ],
      "metadata": {
        "colab": {
          "base_uri": "https://localhost:8080/"
        },
        "id": "7flvWQHj_naJ",
        "outputId": "f9477f2b-bd8b-4d42-d143-e11d0190a1a5"
      },
      "execution_count": null,
      "outputs": [
        {
          "output_type": "execute_result",
          "data": {
            "text/plain": [
              "array([[1., 0.],\n",
              "       [1., 0.],\n",
              "       [1., 0.],\n",
              "       ...,\n",
              "       [1., 0.],\n",
              "       [1., 0.],\n",
              "       [1., 0.]])"
            ]
          },
          "metadata": {},
          "execution_count": 17
        }
      ]
    },
    {
      "cell_type": "markdown",
      "source": [
        "## 7.Chia tập train, val, test\n",
        "Sau khi đã hoàn chỉnh biến X, chúng ta tiến hành chia ba bộ train, val, test với tỉ lệ 7:2:1"
      ],
      "metadata": {
        "id": "K22nPyhSD-no"
      }
    },
    {
      "cell_type": "code",
      "source": [
        "val_size = 0.2\n",
        "test_size = 0.125\n",
        "random_state = 2\n",
        "is_shuffle = True\n",
        "\n",
        "X_train, X_val, y_train, y_val = train_test_split(X_b, y_encoded, test_size=val_size, random_state=random_state, shuffle=is_shuffle)\n",
        "X_train, X_test, y_train, y_test = train_test_split(X_train, y_train, test_size=test_size, random_state=random_state, shuffle=is_shuffle)"
      ],
      "metadata": {
        "id": "tAITPw8G_ndB"
      },
      "execution_count": null,
      "outputs": []
    },
    {
      "cell_type": "code",
      "source": [
        "X_train.shape,X_val.shape,X_test.shape"
      ],
      "metadata": {
        "colab": {
          "base_uri": "https://localhost:8080/"
        },
        "id": "3djpmen0_ngn",
        "outputId": "749b6b3f-78bb-4767-a7cf-171f65129190"
      },
      "execution_count": null,
      "outputs": [
        {
          "output_type": "execute_result",
          "data": {
            "text/plain": [
              "((199364, 31), (56962, 31), (28481, 31))"
            ]
          },
          "metadata": {},
          "execution_count": 19
        }
      ]
    },
    {
      "cell_type": "code",
      "source": [
        "y_train.shape,y_val.shape,y_test.shape"
      ],
      "metadata": {
        "colab": {
          "base_uri": "https://localhost:8080/"
        },
        "id": "QqDZvj5t_nj9",
        "outputId": "2d10118b-f47a-4848-aa30-b7da71cc7815"
      },
      "execution_count": null,
      "outputs": [
        {
          "output_type": "execute_result",
          "data": {
            "text/plain": [
              "((199364, 2), (56962, 2), (28481, 2))"
            ]
          },
          "metadata": {},
          "execution_count": 20
        }
      ]
    },
    {
      "cell_type": "markdown",
      "source": [
        "## 8.Chuẩn hóa dữ liệu\n",
        "Ta sử dụng X_train vừa tạo ở bước trên fit vào hàm chuẩn hóa StandardScaler. Sau đó, đem scaler này chuẩn hóa cho tập X_val và X_test (lưu ý rằng ta không chuẩn hóa bias nên sẽ bỏ qua cột đầu tiên trong X)"
      ],
      "metadata": {
        "id": "MCfYOgf8Ez65"
      }
    },
    {
      "cell_type": "code",
      "source": [
        "normalizer = StandardScaler()\n",
        "X_train[:,1:] = normalizer.fit_transform(X_train[:,1:])\n",
        "X_val[:,1:] = normalizer.transform(X_val[:,1:])\n",
        "X_test[:,1:] = normalizer.transform(X_test[:,1:])"
      ],
      "metadata": {
        "id": "XNYkMmby_nnB"
      },
      "execution_count": null,
      "outputs": []
    },
    {
      "cell_type": "code",
      "source": [
        "X_train"
      ],
      "metadata": {
        "colab": {
          "base_uri": "https://localhost:8080/"
        },
        "id": "Rnj3RVKyEvYa",
        "outputId": "f0615844-f797-473e-fe61-f7a6f81935af"
      },
      "execution_count": null,
      "outputs": [
        {
          "output_type": "execute_result",
          "data": {
            "text/plain": [
              "array([[ 1.        , -0.68101315,  0.71447649, ...,  0.1019486 ,\n",
              "         0.07410031, -0.29192049],\n",
              "       [ 1.        ,  1.04720051,  1.0475128 , ..., -0.19095883,\n",
              "        -0.09813199, -0.27780616],\n",
              "       [ 1.        ,  1.54445364, -1.20352757, ...,  0.31391593,\n",
              "         1.12488897, -0.34496952],\n",
              "       ...,\n",
              "       [ 1.        , -1.16327203, -0.46532359, ...,  0.05909871,\n",
              "         0.15346218,  0.26375106],\n",
              "       [ 1.        , -0.4253317 , -1.03971015, ...,  0.46421784,\n",
              "        -0.36325231, -0.32624398],\n",
              "       [ 1.        ,  1.49841793, -0.20953065, ...,  0.07337838,\n",
              "         0.39953201, -0.24272082]])"
            ]
          },
          "metadata": {},
          "execution_count": 22
        }
      ]
    },
    {
      "cell_type": "code",
      "source": [
        "X_train.shape,X_val.shape,X_test.shape"
      ],
      "metadata": {
        "colab": {
          "base_uri": "https://localhost:8080/"
        },
        "id": "qtI9uNKyEvbX",
        "outputId": "edf7fc05-f57e-4286-9bb0-bf7f9f1763c6"
      },
      "execution_count": null,
      "outputs": [
        {
          "output_type": "execute_result",
          "data": {
            "text/plain": [
              "((199364, 31), (56962, 31), (28481, 31))"
            ]
          },
          "metadata": {},
          "execution_count": 23
        }
      ]
    },
    {
      "cell_type": "markdown",
      "source": [
        "## 9.Cài đặt các hàm quan trọng\n",
        "Để thuận tiện trong việc cài đặt chương trình, ta định nghĩa sẵn một số hàm sẽ được dùng trong quá trình huấn luyện mô hình"
      ],
      "metadata": {
        "id": "gLnLmu5ZFTDm"
      }
    },
    {
      "cell_type": "markdown",
      "source": [
        "### Hàm softmax"
      ],
      "metadata": {
        "id": "U5ePN2dsFcr5"
      }
    },
    {
      "cell_type": "code",
      "source": [
        "def softmax(z):\n",
        "  exp_z = np.exp(z)\n",
        "  return exp_z/exp_z.sum(axis=1)[:,None]"
      ],
      "metadata": {
        "id": "Qti-5RikEveO"
      },
      "execution_count": null,
      "outputs": []
    },
    {
      "cell_type": "markdown",
      "source": [
        "###Hàm Predict"
      ],
      "metadata": {
        "id": "xlg22-ByFoOl"
      }
    },
    {
      "cell_type": "code",
      "source": [
        "def predict(X, theta):\n",
        "  z = np.dot(X, theta)\n",
        "  y_hat = softmax(z)\n",
        "  return y_hat"
      ],
      "metadata": {
        "id": "ouOhp8u-EvjL"
      },
      "execution_count": null,
      "outputs": []
    },
    {
      "cell_type": "markdown",
      "source": [
        "### Hàm tính loss\n",
        "Xây dựng hàm tính loss với công thức Cross-entropy"
      ],
      "metadata": {
        "id": "xlE8dwEnF2bE"
      }
    },
    {
      "cell_type": "code",
      "source": [
        "def compute_loss(y_hat, y):\n",
        "  n = y.size\n",
        "  return (-1/n)*np.sum(y*np.log(y_hat))"
      ],
      "metadata": {
        "id": "8SSJLzvpEvmk"
      },
      "execution_count": null,
      "outputs": []
    },
    {
      "cell_type": "markdown",
      "source": [
        "### Hàm tính gradient"
      ],
      "metadata": {
        "id": "j6AIPTKsGFYY"
      }
    },
    {
      "cell_type": "code",
      "source": [
        "def compute_gradient(X, y, y_hat):\n",
        "  n = y.size\n",
        "  return np.dot(X.T, (y_hat - y))/n"
      ],
      "metadata": {
        "id": "0Svtok7fEvo9"
      },
      "execution_count": null,
      "outputs": []
    },
    {
      "cell_type": "markdown",
      "source": [
        "### Hàm Update trọng số theta\n",
        "Áp dụng giải thuật Gradient Descent"
      ],
      "metadata": {
        "id": "ZdvY-AE0GTIw"
      }
    },
    {
      "cell_type": "code",
      "source": [
        "def update_theta(theta, gradient, lr):\n",
        "  return (theta - lr*gradient)"
      ],
      "metadata": {
        "id": "htmcfTG9Evr-"
      },
      "execution_count": null,
      "outputs": []
    },
    {
      "cell_type": "markdown",
      "source": [
        "### Hàm tính độ chính xác\n",
        "vì kết quả dự đoán là một vector phân bố xác suất, ta sẽ sử dụng hàm argmax để đưa dự đoán về class ID có ước lượng xác suất cao nhất"
      ],
      "metadata": {
        "id": "asf_irL-GngA"
      }
    },
    {
      "cell_type": "code",
      "source": [
        "def compute_accuracy(X, y, theta):\n",
        "  y_hat = predict(X, theta)\n",
        "  acc = (np.argmax(y_hat, axis =1) == np.argmax(y, axis=1)).mean()\n",
        "  return acc"
      ],
      "metadata": {
        "id": "pZayvgJ1Evuc"
      },
      "execution_count": null,
      "outputs": []
    },
    {
      "cell_type": "markdown",
      "source": [
        "## 10.Khai báo các siêu tham số và khởi tạo weights\n",
        "Lưu ý rằng, với Softmax Regression, mỗi class sẽ có một bộ trọng số riêng ứng với các đặc trưng đầu vào (bao gồm cả bias). Vì vậy, ta cần khởi tạo trọng số θ với shape = (n_features, n_classes)"
      ],
      "metadata": {
        "id": "P82woWjDHd5C"
      }
    },
    {
      "cell_type": "code",
      "source": [
        "lr = 0.01\n",
        "epochs = 30\n",
        "batch_size = 1024\n",
        "n_features = X_train.shape[1]\n",
        "np.random.seed(random_state)\n",
        "theta = np.random.uniform(size=(n_features, n_classes))"
      ],
      "metadata": {
        "id": "w7CN5DCh_nqz"
      },
      "execution_count": null,
      "outputs": []
    },
    {
      "cell_type": "code",
      "source": [],
      "metadata": {
        "id": "VL7arQfV_ntp"
      },
      "execution_count": null,
      "outputs": []
    },
    {
      "cell_type": "markdown",
      "source": [
        "## 11.Huấn luyện mô hình\n",
        "Chúng ta sẽ triển khai quá trình huấn luyện mô hình sử dụng thuật toán Gradient Descent, với ý tưởng chính như sau:\n",
        "\n",
        "Khởi tạo vòng lặp với số lần lặp bằng số epochs.\n",
        "\n",
        "Với mỗi lần lặp, duyệt qua toàn bộ mẫu dữ liệu (trong training set) theo từng bộ mẫu dữ liệu có kích thước batch_size (tạm gọi là cặp X_i và y_i)"
      ],
      "metadata": {
        "id": "aOECvlJYH71S"
      }
    },
    {
      "cell_type": "code",
      "source": [
        "train_accs = []\n",
        "train_losses = []\n",
        "val_accs = []\n",
        "val_losses = []\n",
        "\n",
        "for epoch in range(epochs):\n",
        "  train_batch_losses = []\n",
        "  train_batch_accs = []\n",
        "  val_batch_losses = []\n",
        "  val_batch_accs = []\n",
        "\n",
        "  for i in range(0, X_train.shape[0], batch_size):\n",
        "    X_i = X_train[i:i+batch_size]\n",
        "    y_i = y_train[i:i+batch_size]\n",
        "\n",
        "    # dự đoán kết quả của mô hình với các mẫu dữ liệu tại batch đang xét\n",
        "    y_hat = predict(X_i, theta)\n",
        "\n",
        "    # Tính loss\n",
        "    train_loss = compute_loss(y_hat, y_i)\n",
        "\n",
        "    # Tính đạo hàm\n",
        "    gradient = compute_gradient(X_i, y_i, y_hat)\n",
        "\n",
        "    #cập nhật bộ trọng số theta\n",
        "    theta = update_theta(theta, gradient, lr)\n",
        "\n",
        "    train_batch_losses.append(train_loss)\n",
        "\n",
        "    train_acc = compute_accuracy(X_train, y_train, theta)\n",
        "    train_batch_accs.append(train_acc)\n",
        "\n",
        "    y_val_hat = predict(X_val, theta)\n",
        "    val_loss = compute_loss(y_val_hat, y_val)\n",
        "    val_batch_losses.append(val_loss)\n",
        "\n",
        "    val_acc = compute_accuracy(X_val, y_val, theta)\n",
        "    val_batch_accs.append(val_acc)\n",
        "\n",
        "  train_batch_loss = sum(train_batch_losses)/len(train_batch_losses)\n",
        "  val_batch_loss = sum(val_batch_losses)/len(val_batch_losses)\n",
        "  train_batch_acc = sum(train_batch_accs)/len(train_batch_accs)\n",
        "  val_batch_acc = sum(val_batch_accs)/len(val_batch_accs)\n",
        "\n",
        "  train_losses.append(train_batch_loss)\n",
        "  val_losses.append(val_batch_loss)\n",
        "  train_accs.append(train_batch_acc)\n",
        "  val_accs.append(val_batch_acc)\n",
        "\n",
        "  print(f'\\nEPOCH{epoch+1}:\\tTraining loss:{train_batch_loss:.3f}\\tValidation loss:{val_batch_loss:.3f}')"
      ],
      "metadata": {
        "colab": {
          "base_uri": "https://localhost:8080/"
        },
        "id": "t-R6XdLRH6Qq",
        "outputId": "ec60569b-17f9-4d00-d2f6-43ce2251d55e"
      },
      "execution_count": null,
      "outputs": [
        {
          "output_type": "stream",
          "name": "stdout",
          "text": [
            "\n",
            "EPOCH1:\tTraining loss:0.176\tValidation loss:0.174\n",
            "\n",
            "EPOCH2:\tTraining loss:0.115\tValidation loss:0.113\n",
            "\n",
            "EPOCH3:\tTraining loss:0.081\tValidation loss:0.080\n",
            "\n",
            "EPOCH4:\tTraining loss:0.062\tValidation loss:0.061\n",
            "\n",
            "EPOCH5:\tTraining loss:0.049\tValidation loss:0.049\n",
            "\n",
            "EPOCH6:\tTraining loss:0.041\tValidation loss:0.041\n",
            "\n",
            "EPOCH7:\tTraining loss:0.035\tValidation loss:0.035\n",
            "\n",
            "EPOCH8:\tTraining loss:0.031\tValidation loss:0.031\n",
            "\n",
            "EPOCH9:\tTraining loss:0.028\tValidation loss:0.027\n",
            "\n",
            "EPOCH10:\tTraining loss:0.025\tValidation loss:0.025\n",
            "\n",
            "EPOCH11:\tTraining loss:0.023\tValidation loss:0.023\n",
            "\n",
            "EPOCH12:\tTraining loss:0.021\tValidation loss:0.021\n",
            "\n",
            "EPOCH13:\tTraining loss:0.020\tValidation loss:0.020\n",
            "\n",
            "EPOCH14:\tTraining loss:0.019\tValidation loss:0.018\n",
            "\n",
            "EPOCH15:\tTraining loss:0.017\tValidation loss:0.017\n",
            "\n",
            "EPOCH16:\tTraining loss:0.017\tValidation loss:0.016\n",
            "\n",
            "EPOCH17:\tTraining loss:0.016\tValidation loss:0.015\n",
            "\n",
            "EPOCH18:\tTraining loss:0.015\tValidation loss:0.015\n",
            "\n",
            "EPOCH19:\tTraining loss:0.014\tValidation loss:0.014\n",
            "\n",
            "EPOCH20:\tTraining loss:0.014\tValidation loss:0.013\n",
            "\n",
            "EPOCH21:\tTraining loss:0.013\tValidation loss:0.013\n",
            "\n",
            "EPOCH22:\tTraining loss:0.013\tValidation loss:0.012\n",
            "\n",
            "EPOCH23:\tTraining loss:0.012\tValidation loss:0.012\n",
            "\n",
            "EPOCH24:\tTraining loss:0.012\tValidation loss:0.011\n",
            "\n",
            "EPOCH25:\tTraining loss:0.011\tValidation loss:0.011\n",
            "\n",
            "EPOCH26:\tTraining loss:0.011\tValidation loss:0.011\n",
            "\n",
            "EPOCH27:\tTraining loss:0.011\tValidation loss:0.010\n",
            "\n",
            "EPOCH28:\tTraining loss:0.010\tValidation loss:0.010\n",
            "\n",
            "EPOCH29:\tTraining loss:0.010\tValidation loss:0.010\n",
            "\n",
            "EPOCH30:\tTraining loss:0.010\tValidation loss:0.009\n"
          ]
        }
      ]
    },
    {
      "cell_type": "markdown",
      "source": [
        "## 12.Trực quan hóa kết quả huấn luyện lên đồ thị"
      ],
      "metadata": {
        "id": "_8B1gP6qLAJD"
      }
    },
    {
      "cell_type": "code",
      "source": [
        "#Hình ảnh trực quan kết quả huấn luyện trên tập train và val cho bài Card Fraud Detection\n",
        "fig, ax = plt.subplots(2, 2, figsize=(12, 10))\n",
        "ax[0, 0].plot(train_losses)\n",
        "ax[0, 0].set(xlabel='Epoch', ylabel ='Loss')\n",
        "ax[0, 0].set_title('Training Loss')\n",
        "ax[0, 1].plot(val_losses, 'orange')\n",
        "ax[0, 1].set(xlabel='Epoch', ylabel='Loss')\n",
        "ax[0, 1].set_title('Validation Loss')\n",
        "ax[1, 0].plot(train_accs)\n",
        "ax[1, 0].set(xlabel='Epoch', ylabel='Accuracy')\n",
        "ax[1, 0].set_title('Training Accuracy')\n",
        "ax[1, 1].plot(val_accs,'orange')\n",
        "ax[1, 1].set( xlabel='Epoch', ylabel='Accuracy')\n",
        "ax[1, 1].set_title('Validation Accuracy')\n",
        "plt.show()"
      ],
      "metadata": {
        "colab": {
          "base_uri": "https://localhost:8080/",
          "height": 872
        },
        "id": "DlWlKo-yH6T-",
        "outputId": "dd7d208f-563f-431d-c5bc-7da4aa26a8be"
      },
      "execution_count": null,
      "outputs": [
        {
          "output_type": "display_data",
          "data": {
            "text/plain": [
              "<Figure size 1200x1000 with 4 Axes>"
            ],
            "image/png": "[encoded data removed]"
          },
          "metadata": {}
        }
      ]
    },
    {
      "cell_type": "markdown",
      "source": [
        "##13. Đánh giá mô hình\n",
        "Sử dụng bộ trọng số mô hình tìm được sau quá trình huấn luyện, ta đánh giá độ chính xác của mô hình trên hai tập val và test"
      ],
      "metadata": {
        "id": "LFGCSuQXMQGH"
      }
    },
    {
      "cell_type": "code",
      "source": [
        "val_set_acc = compute_accuracy(X_val, y_val, theta)\n",
        "test_set_acc = compute_accuracy( X_test, y_test, theta)\n",
        "print('Evaluation on validation and test set:')\n",
        "print(f'Val Accuracy: {val_set_acc}')\n",
        "print(f'Test Accuracy: {test_set_acc}')"
      ],
      "metadata": {
        "colab": {
          "base_uri": "https://localhost:8080/"
        },
        "id": "y0w4fBM2H6W0",
        "outputId": "797d59c3-021d-443a-b880-49f7dbdf66db"
      },
      "execution_count": null,
      "outputs": [
        {
          "output_type": "stream",
          "name": "stdout",
          "text": [
            "Evaluation on validation and test set:\n",
            "Val Accuracy: 0.9992977774656788\n",
            "Test Accuracy: 0.9992275552122467\n"
          ]
        }
      ]
    },
    {
      "cell_type": "markdown",
      "source": [
        "#B. Twitter Sentiment Analysis"
      ],
      "metadata": {
        "id": "WBw6uf1GNTOV"
      }
    },
    {
      "cell_type": "markdown",
      "source": [
        "## 1.Tải bộ dữ liệu"
      ],
      "metadata": {
        "id": "u8lG6VDYPGuX"
      }
    },
    {
      "cell_type": "code",
      "source": [
        "%cd /content/drive/MyDrive/Colab Notebooks/MODULE05/data"
      ],
      "metadata": {
        "colab": {
          "base_uri": "https://localhost:8080/"
        },
        "id": "Wq-wgmXO9a2a",
        "outputId": "05f0bc23-b6cd-4892-c578-05bcc69a6259"
      },
      "execution_count": null,
      "outputs": [
        {
          "output_type": "stream",
          "name": "stdout",
          "text": [
            "/content/drive/MyDrive/Colab Notebooks/MODULE05/data\n"
          ]
        }
      ]
    },
    {
      "cell_type": "code",
      "source": [
        "# https://drive.google.com/file/d/1GR3IwbvKNuiVXN5E5eMGyEQtT4pP7kCt/view?usp=drive_link\n",
        "!gdown 1GR3IwbvKNuiVXN5E5eMGyEQtT4pP7kCt"
      ],
      "metadata": {
        "colab": {
          "base_uri": "https://localhost:8080/"
        },
        "id": "M-XYNBDW9azT",
        "outputId": "fb96a20b-cae9-4701-f3d8-7b6ddda8c596"
      },
      "execution_count": null,
      "outputs": [
        {
          "output_type": "stream",
          "name": "stdout",
          "text": [
            "Downloading...\n",
            "From: https://drive.google.com/uc?id=1GR3IwbvKNuiVXN5E5eMGyEQtT4pP7kCt\n",
            "To: /content/drive/MyDrive/Colab Notebooks/MODULE05/data/Twitter_Data.csv\n",
            "\r  0% 0.00/20.9M [00:00<?, ?B/s]\r 63% 13.1M/20.9M [00:00<00:00, 128MB/s]\r100% 20.9M/20.9M [00:00<00:00, 120MB/s]\n"
          ]
        }
      ]
    },
    {
      "cell_type": "code",
      "source": [
        "%cd .."
      ],
      "metadata": {
        "colab": {
          "base_uri": "https://localhost:8080/"
        },
        "id": "fLbkz67j-DHQ",
        "outputId": "5a74f867-a8b5-4739-f2ec-ab63a11c648c"
      },
      "execution_count": null,
      "outputs": [
        {
          "output_type": "stream",
          "name": "stdout",
          "text": [
            "/content/drive/MyDrive/Colab Notebooks/MODULE05\n"
          ]
        }
      ]
    },
    {
      "cell_type": "markdown",
      "source": [
        "## 2. Import libraries"
      ],
      "metadata": {
        "id": "tg88HH5oPKx7"
      }
    },
    {
      "cell_type": "code",
      "source": [
        "import numpy as np\n",
        "import pandas as pd\n",
        "import matplotlib.pyplot as plt\n",
        "import re\n",
        "import nltk\n",
        "nltk.download('stopwords')\n",
        "\n",
        "from sklearn.model_selection import train_test_split\n",
        "from sklearn.feature_extraction.text import TfidfVectorizer\n",
        "from nltk.corpus import stopwords\n",
        "from nltk.stem import SnowballStemmer"
      ],
      "metadata": {
        "colab": {
          "base_uri": "https://localhost:8080/"
        },
        "id": "CCWFlzH8-IMM",
        "outputId": "e6b578ef-b4cb-4f15-93cb-e47f3656d7b3"
      },
      "execution_count": null,
      "outputs": [
        {
          "output_type": "stream",
          "name": "stderr",
          "text": [
            "[nltk_data] Downloading package stopwords to /root/nltk_data...\n",
            "[nltk_data]   Unzipping corpora/stopwords.zip.\n"
          ]
        }
      ]
    },
    {
      "cell_type": "markdown",
      "source": [
        "## 3. Đọc bộ dữ liệu\n",
        "Sử dụng thư viện pandas để đọc file.csv thành DataFrame"
      ],
      "metadata": {
        "id": "op_R_f5DPOtk"
      }
    },
    {
      "cell_type": "code",
      "source": [
        "dataset_path = 'data/Twitter_Data.csv'\n",
        "df = pd.read_csv(dataset_path)"
      ],
      "metadata": {
        "id": "knq7mfYX-XaT"
      },
      "execution_count": null,
      "outputs": []
    },
    {
      "cell_type": "code",
      "source": [
        "df"
      ],
      "metadata": {
        "colab": {
          "base_uri": "https://localhost:8080/",
          "height": 424
        },
        "id": "uRdkziEm-XK6",
        "outputId": "5d7847cf-880d-4095-b1ea-bc27be0ee968"
      },
      "execution_count": null,
      "outputs": [
        {
          "output_type": "execute_result",
          "data": {
            "text/plain": [
              "                                               clean_text  category\n",
              "0       when modi promised “minimum government maximum...      -1.0\n",
              "1       talk all the nonsense and continue all the dra...       0.0\n",
              "2       what did just say vote for modi  welcome bjp t...       1.0\n",
              "3       asking his supporters prefix chowkidar their n...       1.0\n",
              "4       answer who among these the most powerful world...       1.0\n",
              "...                                                   ...       ...\n",
              "162975  why these 456 crores paid neerav modi not reco...      -1.0\n",
              "162976  dear rss terrorist payal gawar what about modi...      -1.0\n",
              "162977  did you cover her interaction forum where she ...       0.0\n",
              "162978  there big project came into india modi dream p...       0.0\n",
              "162979  have you ever listen about like gurukul where ...       1.0\n",
              "\n",
              "[162980 rows x 2 columns]"
            ],
            "text/html": [
              "\n",
              "  <div id=\"df-320cb88a-b325-41c3-8e1c-f98947c17ed7\" class=\"colab-df-container\">\n",
              "    <div>\n",
              "<style scoped>\n",
              "    .dataframe tbody tr th:only-of-type {\n",
              "        vertical-align: middle;\n",
              "    }\n",
              "\n",
              "    .dataframe tbody tr th {\n",
              "        vertical-align: top;\n",
              "    }\n",
              "\n",
              "    .dataframe thead th {\n",
              "        text-align: right;\n",
              "    }\n",
              "</style>\n",
              "<table border=\"1\" class=\"dataframe\">\n",
              "  <thead>\n",
              "    <tr style=\"text-align: right;\">\n",
              "      <th></th>\n",
              "      <th>clean_text</th>\n",
              "      <th>category</th>\n",
              "    </tr>\n",
              "  </thead>\n",
              "  <tbody>\n",
              "    <tr>\n",
              "      <th>0</th>\n",
              "      <td>when modi promised “minimum government maximum...</td>\n",
              "      <td>-1.0</td>\n",
              "    </tr>\n",
              "    <tr>\n",
              "      <th>1</th>\n",
              "      <td>talk all the nonsense and continue all the dra...</td>\n",
              "      <td>0.0</td>\n",
              "    </tr>\n",
              "    <tr>\n",
              "      <th>2</th>\n",
              "      <td>what did just say vote for modi  welcome bjp t...</td>\n",
              "      <td>1.0</td>\n",
              "    </tr>\n",
              "    <tr>\n",
              "      <th>3</th>\n",
              "      <td>asking his supporters prefix chowkidar their n...</td>\n",
              "      <td>1.0</td>\n",
              "    </tr>\n",
              "    <tr>\n",
              "      <th>4</th>\n",
              "      <td>answer who among these the most powerful world...</td>\n",
              "      <td>1.0</td>\n",
              "    </tr>\n",
              "    <tr>\n",
              "      <th>...</th>\n",
              "      <td>...</td>\n",
              "      <td>...</td>\n",
              "    </tr>\n",
              "    <tr>\n",
              "      <th>162975</th>\n",
              "      <td>why these 456 crores paid neerav modi not reco...</td>\n",
              "      <td>-1.0</td>\n",
              "    </tr>\n",
              "    <tr>\n",
              "      <th>162976</th>\n",
              "      <td>dear rss terrorist payal gawar what about modi...</td>\n",
              "      <td>-1.0</td>\n",
              "    </tr>\n",
              "    <tr>\n",
              "      <th>162977</th>\n",
              "      <td>did you cover her interaction forum where she ...</td>\n",
              "      <td>0.0</td>\n",
              "    </tr>\n",
              "    <tr>\n",
              "      <th>162978</th>\n",
              "      <td>there big project came into india modi dream p...</td>\n",
              "      <td>0.0</td>\n",
              "    </tr>\n",
              "    <tr>\n",
              "      <th>162979</th>\n",
              "      <td>have you ever listen about like gurukul where ...</td>\n",
              "      <td>1.0</td>\n",
              "    </tr>\n",
              "  </tbody>\n",
              "</table>\n",
              "<p>162980 rows × 2 columns</p>\n",
              "</div>\n",
              "    <div class=\"colab-df-buttons\">\n",
              "\n",
              "  <div class=\"colab-df-container\">\n",
              "    <button class=\"colab-df-convert\" onclick=\"convertToInteractive('df-320cb88a-b325-41c3-8e1c-f98947c17ed7')\"\n",
              "            title=\"Convert this dataframe to an interactive table.\"\n",
              "            style=\"display:none;\">\n",
              "\n",
              "  <svg xmlns=\"http://www.w3.org/2000/svg\" height=\"24px\" viewBox=\"0 -960 960 960\">\n",
              "    <path d=\"M120-120v-720h720v720H120Zm60-500h600v-160H180v160Zm220 220h160v-160H400v160Zm0 220h160v-160H400v160ZM180-400h160v-160H180v160Zm440 0h160v-160H620v160ZM180-180h160v-160H180v160Zm440 0h160v-160H620v160Z\"/>\n",
              "  </svg>\n",
              "    </button>\n",
              "\n",
              "  <style>\n",
              "    .colab-df-container {\n",
              "      display:flex;\n",
              "      gap: 12px;\n",
              "    }\n",
              "\n",
              "    .colab-df-convert {\n",
              "      background-color: #E8F0FE;\n",
              "      border: none;\n",
              "      border-radius: 50%;\n",
              "      cursor: pointer;\n",
              "      display: none;\n",
              "      fill: #1967D2;\n",
              "      height: 32px;\n",
              "      padding: 0 0 0 0;\n",
              "      width: 32px;\n",
              "    }\n",
              "\n",
              "    .colab-df-convert:hover {\n",
              "      background-color: #E2EBFA;\n",
              "      box-shadow: 0px 1px 2px rgba(60, 64, 67, 0.3), 0px 1px 3px 1px rgba(60, 64, 67, 0.15);\n",
              "      fill: #174EA6;\n",
              "    }\n",
              "\n",
              "    .colab-df-buttons div {\n",
              "      margin-bottom: 4px;\n",
              "    }\n",
              "\n",
              "    [theme=dark] .colab-df-convert {\n",
              "      background-color: #3B4455;\n",
              "      fill: #D2E3FC;\n",
              "    }\n",
              "\n",
              "    [theme=dark] .colab-df-convert:hover {\n",
              "      background-color: #434B5C;\n",
              "      box-shadow: 0px 1px 3px 1px rgba(0, 0, 0, 0.15);\n",
              "      filter: drop-shadow(0px 1px 2px rgba(0, 0, 0, 0.3));\n",
              "      fill: #FFFFFF;\n",
              "    }\n",
              "  </style>\n",
              "\n",
              "    <script>\n",
              "      const buttonEl =\n",
              "        document.querySelector('#df-320cb88a-b325-41c3-8e1c-f98947c17ed7 button.colab-df-convert');\n",
              "      buttonEl.style.display =\n",
              "        google.colab.kernel.accessAllowed ? 'block' : 'none';\n",
              "\n",
              "      async function convertToInteractive(key) {\n",
              "        const element = document.querySelector('#df-320cb88a-b325-41c3-8e1c-f98947c17ed7');\n",
              "        const dataTable =\n",
              "          await google.colab.kernel.invokeFunction('convertToInteractive',\n",
              "                                                    [key], {});\n",
              "        if (!dataTable) return;\n",
              "\n",
              "        const docLinkHtml = 'Like what you see? Visit the ' +\n",
              "          '<a target=\"_blank\" href=https://colab.research.google.com/notebooks/data_table.ipynb>data table notebook</a>'\n",
              "          + ' to learn more about interactive tables.';\n",
              "        element.innerHTML = '';\n",
              "        dataTable['output_type'] = 'display_data';\n",
              "        await google.colab.output.renderOutput(dataTable, element);\n",
              "        const docLink = document.createElement('div');\n",
              "        docLink.innerHTML = docLinkHtml;\n",
              "        element.appendChild(docLink);\n",
              "      }\n",
              "    </script>\n",
              "  </div>\n",
              "\n",
              "\n",
              "<div id=\"df-a7bc306f-c950-42c9-8362-93647e28e047\">\n",
              "  <button class=\"colab-df-quickchart\" onclick=\"quickchart('df-a7bc306f-c950-42c9-8362-93647e28e047')\"\n",
              "            title=\"Suggest charts\"\n",
              "            style=\"display:none;\">\n",
              "\n",
              "<svg xmlns=\"http://www.w3.org/2000/svg\" height=\"24px\"viewBox=\"0 0 24 24\"\n",
              "     width=\"24px\">\n",
              "    <g>\n",
              "        <path d=\"M19 3H5c-1.1 0-2 .9-2 2v14c0 1.1.9 2 2 2h14c1.1 0 2-.9 2-2V5c0-1.1-.9-2-2-2zM9 17H7v-7h2v7zm4 0h-2V7h2v10zm4 0h-2v-4h2v4z\"/>\n",
              "    </g>\n",
              "</svg>\n",
              "  </button>\n",
              "\n",
              "<style>\n",
              "  .colab-df-quickchart {\n",
              "      --bg-color: #E8F0FE;\n",
              "      --fill-color: #1967D2;\n",
              "      --hover-bg-color: #E2EBFA;\n",
              "      --hover-fill-color: #174EA6;\n",
              "      --disabled-fill-color: #AAA;\n",
              "      --disabled-bg-color: #DDD;\n",
              "  }\n",
              "\n",
              "  [theme=dark] .colab-df-quickchart {\n",
              "      --bg-color: #3B4455;\n",
              "      --fill-color: #D2E3FC;\n",
              "      --hover-bg-color: #434B5C;\n",
              "      --hover-fill-color: #FFFFFF;\n",
              "      --disabled-bg-color: #3B4455;\n",
              "      --disabled-fill-color: #666;\n",
              "  }\n",
              "\n",
              "  .colab-df-quickchart {\n",
              "    background-color: var(--bg-color);\n",
              "    border: none;\n",
              "    border-radius: 50%;\n",
              "    cursor: pointer;\n",
              "    display: none;\n",
              "    fill: var(--fill-color);\n",
              "    height: 32px;\n",
              "    padding: 0;\n",
              "    width: 32px;\n",
              "  }\n",
              "\n",
              "  .colab-df-quickchart:hover {\n",
              "    background-color: var(--hover-bg-color);\n",
              "    box-shadow: 0 1px 2px rgba(60, 64, 67, 0.3), 0 1px 3px 1px rgba(60, 64, 67, 0.15);\n",
              "    fill: var(--button-hover-fill-color);\n",
              "  }\n",
              "\n",
              "  .colab-df-quickchart-complete:disabled,\n",
              "  .colab-df-quickchart-complete:disabled:hover {\n",
              "    background-color: var(--disabled-bg-color);\n",
              "    fill: var(--disabled-fill-color);\n",
              "    box-shadow: none;\n",
              "  }\n",
              "\n",
              "  .colab-df-spinner {\n",
              "    border: 2px solid var(--fill-color);\n",
              "    border-color: transparent;\n",
              "    border-bottom-color: var(--fill-color);\n",
              "    animation:\n",
              "      spin 1s steps(1) infinite;\n",
              "  }\n",
              "\n",
              "  @keyframes spin {\n",
              "    0% {\n",
              "      border-color: transparent;\n",
              "      border-bottom-color: var(--fill-color);\n",
              "      border-left-color: var(--fill-color);\n",
              "    }\n",
              "    20% {\n",
              "      border-color: transparent;\n",
              "      border-left-color: var(--fill-color);\n",
              "      border-top-color: var(--fill-color);\n",
              "    }\n",
              "    30% {\n",
              "      border-color: transparent;\n",
              "      border-left-color: var(--fill-color);\n",
              "      border-top-color: var(--fill-color);\n",
              "      border-right-color: var(--fill-color);\n",
              "    }\n",
              "    40% {\n",
              "      border-color: transparent;\n",
              "      border-right-color: var(--fill-color);\n",
              "      border-top-color: var(--fill-color);\n",
              "    }\n",
              "    60% {\n",
              "      border-color: transparent;\n",
              "      border-right-color: var(--fill-color);\n",
              "    }\n",
              "    80% {\n",
              "      border-color: transparent;\n",
              "      border-right-color: var(--fill-color);\n",
              "      border-bottom-color: var(--fill-color);\n",
              "    }\n",
              "    90% {\n",
              "      border-color: transparent;\n",
              "      border-bottom-color: var(--fill-color);\n",
              "    }\n",
              "  }\n",
              "</style>\n",
              "\n",
              "  <script>\n",
              "    async function quickchart(key) {\n",
              "      const quickchartButtonEl =\n",
              "        document.querySelector('#' + key + ' button');\n",
              "      quickchartButtonEl.disabled = true;  // To prevent multiple clicks.\n",
              "      quickchartButtonEl.classList.add('colab-df-spinner');\n",
              "      try {\n",
              "        const charts = await google.colab.kernel.invokeFunction(\n",
              "            'suggestCharts', [key], {});\n",
              "      } catch (error) {\n",
              "        console.error('Error during call to suggestCharts:', error);\n",
              "      }\n",
              "      quickchartButtonEl.classList.remove('colab-df-spinner');\n",
              "      quickchartButtonEl.classList.add('colab-df-quickchart-complete');\n",
              "    }\n",
              "    (() => {\n",
              "      let quickchartButtonEl =\n",
              "        document.querySelector('#df-a7bc306f-c950-42c9-8362-93647e28e047 button');\n",
              "      quickchartButtonEl.style.display =\n",
              "        google.colab.kernel.accessAllowed ? 'block' : 'none';\n",
              "    })();\n",
              "  </script>\n",
              "</div>\n",
              "\n",
              "  <div id=\"id_fc82f802-ec18-487c-bf74-7a46097363e6\">\n",
              "    <style>\n",
              "      .colab-df-generate {\n",
              "        background-color: #E8F0FE;\n",
              "        border: none;\n",
              "        border-radius: 50%;\n",
              "        cursor: pointer;\n",
              "        display: none;\n",
              "        fill: #1967D2;\n",
              "        height: 32px;\n",
              "        padding: 0 0 0 0;\n",
              "        width: 32px;\n",
              "      }\n",
              "\n",
              "      .colab-df-generate:hover {\n",
              "        background-color: #E2EBFA;\n",
              "        box-shadow: 0px 1px 2px rgba(60, 64, 67, 0.3), 0px 1px 3px 1px rgba(60, 64, 67, 0.15);\n",
              "        fill: #174EA6;\n",
              "      }\n",
              "\n",
              "      [theme=dark] .colab-df-generate {\n",
              "        background-color: #3B4455;\n",
              "        fill: #D2E3FC;\n",
              "      }\n",
              "\n",
              "      [theme=dark] .colab-df-generate:hover {\n",
              "        background-color: #434B5C;\n",
              "        box-shadow: 0px 1px 3px 1px rgba(0, 0, 0, 0.15);\n",
              "        filter: drop-shadow(0px 1px 2px rgba(0, 0, 0, 0.3));\n",
              "        fill: #FFFFFF;\n",
              "      }\n",
              "    </style>\n",
              "    <button class=\"colab-df-generate\" onclick=\"generateWithVariable('df')\"\n",
              "            title=\"Generate code using this dataframe.\"\n",
              "            style=\"display:none;\">\n",
              "\n",
              "  <svg xmlns=\"http://www.w3.org/2000/svg\" height=\"24px\"viewBox=\"0 0 24 24\"\n",
              "       width=\"24px\">\n",
              "    <path d=\"M7,19H8.4L18.45,9,17,7.55,7,17.6ZM5,21V16.75L18.45,3.32a2,2,0,0,1,2.83,0l1.4,1.43a1.91,1.91,0,0,1,.58,1.4,1.91,1.91,0,0,1-.58,1.4L9.25,21ZM18.45,9,17,7.55Zm-12,3A5.31,5.31,0,0,0,4.9,8.1,5.31,5.31,0,0,0,1,6.5,5.31,5.31,0,0,0,4.9,4.9,5.31,5.31,0,0,0,6.5,1,5.31,5.31,0,0,0,8.1,4.9,5.31,5.31,0,0,0,12,6.5,5.46,5.46,0,0,0,6.5,12Z\"/>\n",
              "  </svg>\n",
              "    </button>\n",
              "    <script>\n",
              "      (() => {\n",
              "      const buttonEl =\n",
              "        document.querySelector('#id_fc82f802-ec18-487c-bf74-7a46097363e6 button.colab-df-generate');\n",
              "      buttonEl.style.display =\n",
              "        google.colab.kernel.accessAllowed ? 'block' : 'none';\n",
              "\n",
              "      buttonEl.onclick = () => {\n",
              "        google.colab.notebook.generateWithVariable('df');\n",
              "      }\n",
              "      })();\n",
              "    </script>\n",
              "  </div>\n",
              "\n",
              "    </div>\n",
              "  </div>\n"
            ],
            "application/vnd.google.colaboratory.intrinsic+json": {
              "type": "dataframe",
              "variable_name": "df"
            }
          },
          "metadata": {},
          "execution_count": 6
        }
      ]
    },
    {
      "cell_type": "code",
      "source": [
        "df.shape"
      ],
      "metadata": {
        "colab": {
          "base_uri": "https://localhost:8080/"
        },
        "id": "HdjT9B2S-guB",
        "outputId": "4aa4b259-9587-4b3f-c3c9-784f46fe3cdf"
      },
      "execution_count": null,
      "outputs": [
        {
          "output_type": "execute_result",
          "data": {
            "text/plain": [
              "(162980, 2)"
            ]
          },
          "metadata": {},
          "execution_count": 7
        }
      ]
    },
    {
      "cell_type": "code",
      "source": [
        "df.info()"
      ],
      "metadata": {
        "colab": {
          "base_uri": "https://localhost:8080/"
        },
        "id": "DKlzdi2z-reU",
        "outputId": "56e64ee5-c0b3-47d9-be32-c594c64e9592"
      },
      "execution_count": null,
      "outputs": [
        {
          "output_type": "stream",
          "name": "stdout",
          "text": [
            "<class 'pandas.core.frame.DataFrame'>\n",
            "RangeIndex: 162980 entries, 0 to 162979\n",
            "Data columns (total 2 columns):\n",
            " #   Column      Non-Null Count   Dtype  \n",
            "---  ------      --------------   -----  \n",
            " 0   clean_text  162976 non-null  object \n",
            " 1   category    162973 non-null  float64\n",
            "dtypes: float64(1), object(1)\n",
            "memory usage: 2.5+ MB\n"
          ]
        }
      ]
    },
    {
      "cell_type": "markdown",
      "source": [
        "## 4.Xóa missing\n",
        "Bộ dữ liệu này có tồn tại một vài hàng chứa giá trị null"
      ],
      "metadata": {
        "id": "ITAr7b1DPU7d"
      }
    },
    {
      "cell_type": "code",
      "source": [
        "df = df.dropna()"
      ],
      "metadata": {
        "id": "FaNt-AXJ_bX-"
      },
      "execution_count": null,
      "outputs": []
    },
    {
      "cell_type": "code",
      "source": [
        "df.info()"
      ],
      "metadata": {
        "colab": {
          "base_uri": "https://localhost:8080/"
        },
        "id": "KEkMa6rp_cUR",
        "outputId": "870f4af1-070f-4c42-8978-377e5bc4ff34"
      },
      "execution_count": null,
      "outputs": [
        {
          "output_type": "stream",
          "name": "stdout",
          "text": [
            "<class 'pandas.core.frame.DataFrame'>\n",
            "Index: 162969 entries, 0 to 162979\n",
            "Data columns (total 2 columns):\n",
            " #   Column      Non-Null Count   Dtype  \n",
            "---  ------      --------------   -----  \n",
            " 0   clean_text  162969 non-null  object \n",
            " 1   category    162969 non-null  float64\n",
            "dtypes: float64(1), object(1)\n",
            "memory usage: 3.7+ MB\n"
          ]
        }
      ]
    },
    {
      "cell_type": "markdown",
      "source": [
        "## 5.Tiền xử lý bộ dữ liệu\n",
        "Dữ liệu đầu vào của chúng ta lúc này hiện đang ở dạng văn bản (string), chưa có đặc trưng rõ ràng cũng như không thể đưa vào huấn luyện mô hình được. Vì vậy, chúng ta sẽ tiền xử lý dữ liệu văn bản đầu vào để đưa về một dạng vector đặc trưng nào đó"
      ],
      "metadata": {
        "id": "AbI-VfoGPbdH"
      }
    },
    {
      "cell_type": "markdown",
      "source": [
        "### (a) Xây dựng hàm chuẩn hóa văn bản\n",
        "Văn bản gốc có rất nhiều kí tự dư thừa, vô nghĩa... Vì vậy, ta cần loại bỏ chúng cũng như áp dụng thêm vài bước chuẩn hóa văn bản khác để văn bản đầu vào trở nên ít phức tạp hơn, nhằm tăng cường hiệu quả biểu diễn của vector đặc trưng sau này"
      ],
      "metadata": {
        "id": "prA9Y3Vx_u9q"
      }
    },
    {
      "cell_type": "code",
      "source": [
        "def text_normalize(text):\n",
        "  # Lowercasing\n",
        "  text = text.lower()\n",
        "\n",
        "  # Retweet old acronym \"RT\" removal\n",
        "  text = re.sub(r'^rt[\\s]+', '', text)\n",
        "\n",
        "  # Hyperlinks removal\n",
        "  text = re.sub(r'https?:\\/\\/.*[\\ r\\n]*', '', text)\n",
        "\n",
        "  # Punctuation removal\n",
        "  text = re.sub(r'[^\\w\\s]', '', text)\n",
        "\n",
        "  # Remove stopwords\n",
        "  stop_words = set(stopwords.words('english'))\n",
        "  words = text.split()\n",
        "  words = [word for word in words if word not in stop_words]\n",
        "  text = ' '.join(words)\n",
        "\n",
        "  # Stemming\n",
        "  stemmer = SnowballStemmer('english')\n",
        "  words = text.split()\n",
        "  words = [stemmer.stem(word) for word in words]\n",
        "  text = ' '.join(words)\n",
        "\n",
        "  return text"
      ],
      "metadata": {
        "id": "SdEilnBt_oeC"
      },
      "execution_count": null,
      "outputs": []
    },
    {
      "cell_type": "markdown",
      "source": [
        "### (b) Khởi tạo tf-idf vectorizer\n",
        "Trong bài này, chúng ta sẽ sử dụng một dạng vector biểu diễn đặc trưng mới cho văn bản, đó là tf-idf"
      ],
      "metadata": {
        "id": "vSXJJVEqBzIM"
      }
    },
    {
      "cell_type": "code",
      "source": [
        "vectorizer = TfidfVectorizer(max_features=2000)\n",
        "X = vectorizer.fit_transform(df['clean_text']).toarray()"
      ],
      "metadata": {
        "id": "uA1na_t1_oa3"
      },
      "execution_count": null,
      "outputs": []
    },
    {
      "cell_type": "code",
      "source": [
        "X"
      ],
      "metadata": {
        "colab": {
          "base_uri": "https://localhost:8080/"
        },
        "id": "Y1tRyjEY_oXq",
        "outputId": "2a64dc59-7770-406d-b08d-f2629623292c"
      },
      "execution_count": null,
      "outputs": [
        {
          "output_type": "execute_result",
          "data": {
            "text/plain": [
              "array([[0., 0., 0., ..., 0., 0., 0.],\n",
              "       [0., 0., 0., ..., 0., 0., 0.],\n",
              "       [0., 0., 0., ..., 0., 0., 0.],\n",
              "       ...,\n",
              "       [0., 0., 0., ..., 0., 0., 0.],\n",
              "       [0., 0., 0., ..., 0., 0., 0.],\n",
              "       [0., 0., 0., ..., 0., 0., 0.]])"
            ]
          },
          "metadata": {},
          "execution_count": 13
        }
      ]
    },
    {
      "cell_type": "code",
      "source": [
        "X.shape"
      ],
      "metadata": {
        "colab": {
          "base_uri": "https://localhost:8080/"
        },
        "id": "kqBy_CRJ_oUp",
        "outputId": "0d566bd3-1f6b-471d-fb56-824e1a1326e6"
      },
      "execution_count": null,
      "outputs": [
        {
          "output_type": "execute_result",
          "data": {
            "text/plain": [
              "(162969, 2000)"
            ]
          },
          "metadata": {},
          "execution_count": 14
        }
      ]
    },
    {
      "cell_type": "markdown",
      "source": [
        "### (c) Thêm bias vào X"
      ],
      "metadata": {
        "id": "RUV-IThBLdz9"
      }
    },
    {
      "cell_type": "code",
      "source": [
        "intercept = np.ones((X.shape[0], 1))\n",
        "X_b = np.concatenate((intercept, X),axis=1)"
      ],
      "metadata": {
        "id": "lOaT9zR2_oRa"
      },
      "execution_count": null,
      "outputs": []
    },
    {
      "cell_type": "code",
      "source": [
        "X_b.shape"
      ],
      "metadata": {
        "colab": {
          "base_uri": "https://localhost:8080/"
        },
        "id": "Fak3ZclyNMp6",
        "outputId": "dc0c5e27-87ed-4fb4-b7bf-3a20f682687b"
      },
      "execution_count": null,
      "outputs": [
        {
          "output_type": "execute_result",
          "data": {
            "text/plain": [
              "(162969, 2001)"
            ]
          },
          "metadata": {},
          "execution_count": 17
        }
      ]
    },
    {
      "cell_type": "markdown",
      "source": [
        "## 6.One-hot encoding label"
      ],
      "metadata": {
        "id": "NfSqIB3zPjHd"
      }
    },
    {
      "cell_type": "code",
      "source": [
        "n_classes = df['category'].nunique()\n",
        "n_samples = df['category'].size\n",
        "y = df['category'].to_numpy() + 1\n",
        "y = y.astype(np.uint8)\n",
        "y_encoded = np.array([np.zeros(n_classes) for _ in range(n_samples)])\n",
        "y_encoded[np.arange(n_samples), y] = 1"
      ],
      "metadata": {
        "id": "d8B-Zp3c_oN6"
      },
      "execution_count": null,
      "outputs": []
    },
    {
      "cell_type": "code",
      "source": [
        "y_encoded.shape"
      ],
      "metadata": {
        "id": "xbogFJpa_oKb",
        "colab": {
          "base_uri": "https://localhost:8080/"
        },
        "outputId": "d72b637a-fe18-4891-c30a-b259bcb91e72"
      },
      "execution_count": null,
      "outputs": [
        {
          "output_type": "execute_result",
          "data": {
            "text/plain": [
              "(162969, 3)"
            ]
          },
          "metadata": {},
          "execution_count": 19
        }
      ]
    },
    {
      "cell_type": "markdown",
      "source": [
        "## 7.Chia tập train, val, test\n",
        "Sau khi đã hoàn chỉnh biến X, chúng ta tiến hành chia ba bộ train, val, test với tỉ lệ 7:2:1"
      ],
      "metadata": {
        "id": "Qm6IqBhxPpY5"
      }
    },
    {
      "cell_type": "code",
      "source": [
        "val_size = 0.2\n",
        "test_size = 0.125\n",
        "random_state = 2\n",
        "is_shuffle = True\n",
        "\n",
        "X_train, X_val, y_train, y_val = train_test_split(\n",
        "    X_b, y_encoded,\n",
        "    test_size = val_size,\n",
        "    random_state = random_state,\n",
        "    shuffle = is_shuffle\n",
        "    )\n",
        "\n",
        "X_train, X_test, y_train, y_test = train_test_split(\n",
        "    X_train, y_train,\n",
        "    test_size = test_size,\n",
        "    random_state = random_state,\n",
        "    shuffle = is_shuffle\n",
        "    )"
      ],
      "metadata": {
        "id": "JPIek78ENw2F"
      },
      "execution_count": null,
      "outputs": []
    },
    {
      "cell_type": "code",
      "source": [
        "X_train.shape,X_val.shape,X_test.shape"
      ],
      "metadata": {
        "colab": {
          "base_uri": "https://localhost:8080/"
        },
        "id": "nbPTF3UDNwtu",
        "outputId": "5623f6d6-07bb-44b9-9378-fe2632a2a859"
      },
      "execution_count": null,
      "outputs": [
        {
          "output_type": "execute_result",
          "data": {
            "text/plain": [
              "((114078, 2001), (32594, 2001), (16297, 2001))"
            ]
          },
          "metadata": {},
          "execution_count": 21
        }
      ]
    },
    {
      "cell_type": "code",
      "source": [
        "y_train.shape,y_val.shape,y_test.shape"
      ],
      "metadata": {
        "colab": {
          "base_uri": "https://localhost:8080/"
        },
        "id": "ofOP9EpuOHT7",
        "outputId": "91616a70-c663-4745-eac5-5312b1212c1d"
      },
      "execution_count": null,
      "outputs": [
        {
          "output_type": "execute_result",
          "data": {
            "text/plain": [
              "((114078, 3), (32594, 3), (16297, 3))"
            ]
          },
          "metadata": {},
          "execution_count": 22
        }
      ]
    },
    {
      "cell_type": "markdown",
      "source": [
        "## 8.Cài đặt các hàm quan trọng\n",
        "Sử dụng lại các hàm đã định nghĩa trong bài Card Fraud Detection"
      ],
      "metadata": {
        "id": "GLCD0vZMP_9w"
      }
    },
    {
      "cell_type": "code",
      "source": [
        "def softmax(z):\n",
        "  exp_z = np.exp(z)\n",
        "  return exp_z/exp_z.sum(axis=1)[:, None]\n",
        "\n",
        "def compute_loss(y_hat, y):\n",
        "  n = y.size\n",
        "  return (-1/n)*np.sum(y*np.log(y_hat))\n",
        "\n",
        "def predict(X, theta):\n",
        "  z = np.dot(X, theta)\n",
        "  y_hat = softmax(z)\n",
        "  return y_hat\n",
        "\n",
        "def compute_gradient(X, y, y_hat):\n",
        "  n = y.size\n",
        "  return np.dot(X.T, (y_hat-y))/n\n",
        "\n",
        "def update_theta(theta, gradient, lr):\n",
        "  return theta - lr*gradient\n",
        "\n",
        "def compute_accuracy(X, y, theta):\n",
        "  y_hat = predict(X, theta)\n",
        "  acc = (np.argmax(y_hat, axis =1) == np.argmax(y, axis=1)).mean()\n",
        "  return acc"
      ],
      "metadata": {
        "id": "GGITmAf-ORyD"
      },
      "execution_count": null,
      "outputs": []
    },
    {
      "cell_type": "markdown",
      "source": [
        "## 9.Khai báo các siêu tham số và khởi tạo weights\n",
        "Trong bài này, vì số lượng mẫu dữ liệu là rất lớn, ta có thể cân nhắc tăng số batch size lên để tăng tốc độ huấn luyện (ví dụ ở đây ta cài batch_size=n_samples)"
      ],
      "metadata": {
        "id": "aLkUgysqQF6b"
      }
    },
    {
      "cell_type": "code",
      "source": [
        "lr = 0.1\n",
        "epochs = 200\n",
        "batch_size = X_train.shape[0]\n",
        "n_features = X_train.shape[1]\n",
        "np.random.seed(random_state)\n",
        "theta = np.random.uniform(size=(n_features, n_classes))"
      ],
      "metadata": {
        "id": "oMc9FTbRPJSC"
      },
      "execution_count": null,
      "outputs": []
    },
    {
      "cell_type": "markdown",
      "source": [
        "## 10.Huấn luyện mô hình\n",
        "Sử dụng code huấn luyện tương tự như bài Card Fraud\n",
        "Detection"
      ],
      "metadata": {
        "id": "_x7eMdcqQL5G"
      }
    },
    {
      "cell_type": "code",
      "source": [
        "train_accs = []\n",
        "train_losses = []\n",
        "val_accs = []\n",
        "val_losses = []\n",
        "\n",
        "for epoch in range(epochs):\n",
        "  train_batch_losses = []\n",
        "  train_batch_accs = []\n",
        "  val_batch_losses = []\n",
        "  val_batch_accs = []\n",
        "\n",
        "  for i in range(0, X_train.shape[0], batch_size):\n",
        "    X_i = X_train[i:i+batch_size]\n",
        "    y_i = y_train[i:i+batch_size]\n",
        "\n",
        "    # dự đoán kết quả của mô hình với các mẫu dữ liệu tại batch đang xét\n",
        "    y_hat = predict(X_i, theta)\n",
        "\n",
        "    # Tính loss\n",
        "    train_loss = compute_loss(y_hat, y_i)\n",
        "\n",
        "    # Tính đạo hàm\n",
        "    gradient = compute_gradient(X_i, y_i, y_hat)\n",
        "\n",
        "    #cập nhật bộ trọng số theta\n",
        "    theta = update_theta(theta, gradient, lr)\n",
        "\n",
        "    train_batch_losses.append(train_loss)\n",
        "\n",
        "    train_acc = compute_accuracy(X_train, y_train, theta)\n",
        "    train_batch_accs.append(train_acc)\n",
        "\n",
        "    y_val_hat = predict(X_val, theta)\n",
        "    val_loss = compute_loss(y_val_hat, y_val)\n",
        "    val_batch_losses.append(val_loss)\n",
        "\n",
        "    val_acc = compute_accuracy(X_val, y_val, theta)\n",
        "    val_batch_accs.append(val_acc)\n",
        "\n",
        "  train_batch_loss = sum(train_batch_losses)/len(train_batch_losses)\n",
        "  val_batch_loss = sum(val_batch_losses)/len(val_batch_losses)\n",
        "  train_batch_acc = sum(train_batch_accs)/len(train_batch_accs)\n",
        "  val_batch_acc = sum(val_batch_accs)/len(val_batch_accs)\n",
        "\n",
        "  train_losses.append(train_batch_loss)\n",
        "  val_losses.append(val_batch_loss)\n",
        "  train_accs.append(train_batch_acc)\n",
        "  val_accs.append(val_batch_acc)\n",
        "\n",
        "  print(f'\\nEPOCH{epoch+1}:\\tTraining loss:{train_batch_loss:.3f}\\tValidation loss:{val_batch_loss:.3f}')"
      ],
      "metadata": {
        "colab": {
          "base_uri": "https://localhost:8080/"
        },
        "id": "kNvTWSRjORtF",
        "outputId": "83e240be-29dc-4b34-ee8a-0425a1fbe5f5"
      },
      "execution_count": null,
      "outputs": [
        {
          "output_type": "stream",
          "name": "stdout",
          "text": [
            "\n",
            "EPOCH1:\tTraining loss:0.377\tValidation loss:0.376\n",
            "\n",
            "EPOCH2:\tTraining loss:0.377\tValidation loss:0.376\n",
            "\n",
            "EPOCH3:\tTraining loss:0.377\tValidation loss:0.376\n",
            "\n",
            "EPOCH4:\tTraining loss:0.376\tValidation loss:0.375\n",
            "\n",
            "EPOCH5:\tTraining loss:0.376\tValidation loss:0.375\n",
            "\n",
            "EPOCH6:\tTraining loss:0.376\tValidation loss:0.375\n",
            "\n",
            "EPOCH7:\tTraining loss:0.375\tValidation loss:0.374\n",
            "\n",
            "EPOCH8:\tTraining loss:0.375\tValidation loss:0.374\n",
            "\n",
            "EPOCH9:\tTraining loss:0.375\tValidation loss:0.374\n",
            "\n",
            "EPOCH10:\tTraining loss:0.374\tValidation loss:0.373\n",
            "\n",
            "EPOCH11:\tTraining loss:0.374\tValidation loss:0.373\n",
            "\n",
            "EPOCH12:\tTraining loss:0.374\tValidation loss:0.373\n",
            "\n",
            "EPOCH13:\tTraining loss:0.374\tValidation loss:0.373\n",
            "\n",
            "EPOCH14:\tTraining loss:0.373\tValidation loss:0.372\n",
            "\n",
            "EPOCH15:\tTraining loss:0.373\tValidation loss:0.372\n",
            "\n",
            "EPOCH16:\tTraining loss:0.373\tValidation loss:0.372\n",
            "\n",
            "EPOCH17:\tTraining loss:0.372\tValidation loss:0.372\n",
            "\n",
            "EPOCH18:\tTraining loss:0.372\tValidation loss:0.371\n",
            "\n",
            "EPOCH19:\tTraining loss:0.372\tValidation loss:0.371\n",
            "\n",
            "EPOCH20:\tTraining loss:0.372\tValidation loss:0.371\n",
            "\n",
            "EPOCH21:\tTraining loss:0.372\tValidation loss:0.371\n",
            "\n",
            "EPOCH22:\tTraining loss:0.371\tValidation loss:0.370\n",
            "\n",
            "EPOCH23:\tTraining loss:0.371\tValidation loss:0.370\n",
            "\n",
            "EPOCH24:\tTraining loss:0.371\tValidation loss:0.370\n",
            "\n",
            "EPOCH25:\tTraining loss:0.371\tValidation loss:0.370\n",
            "\n",
            "EPOCH26:\tTraining loss:0.370\tValidation loss:0.370\n",
            "\n",
            "EPOCH27:\tTraining loss:0.370\tValidation loss:0.369\n",
            "\n",
            "EPOCH28:\tTraining loss:0.370\tValidation loss:0.369\n",
            "\n",
            "EPOCH29:\tTraining loss:0.370\tValidation loss:0.369\n",
            "\n",
            "EPOCH30:\tTraining loss:0.370\tValidation loss:0.369\n",
            "\n",
            "EPOCH31:\tTraining loss:0.369\tValidation loss:0.369\n",
            "\n",
            "EPOCH32:\tTraining loss:0.369\tValidation loss:0.368\n",
            "\n",
            "EPOCH33:\tTraining loss:0.369\tValidation loss:0.368\n",
            "\n",
            "EPOCH34:\tTraining loss:0.369\tValidation loss:0.368\n",
            "\n",
            "EPOCH35:\tTraining loss:0.369\tValidation loss:0.368\n",
            "\n",
            "EPOCH36:\tTraining loss:0.369\tValidation loss:0.368\n",
            "\n",
            "EPOCH37:\tTraining loss:0.368\tValidation loss:0.367\n",
            "\n",
            "EPOCH38:\tTraining loss:0.368\tValidation loss:0.367\n",
            "\n",
            "EPOCH39:\tTraining loss:0.368\tValidation loss:0.367\n",
            "\n",
            "EPOCH40:\tTraining loss:0.368\tValidation loss:0.367\n",
            "\n",
            "EPOCH41:\tTraining loss:0.368\tValidation loss:0.367\n",
            "\n",
            "EPOCH42:\tTraining loss:0.368\tValidation loss:0.367\n",
            "\n",
            "EPOCH43:\tTraining loss:0.367\tValidation loss:0.367\n",
            "\n",
            "EPOCH44:\tTraining loss:0.367\tValidation loss:0.366\n",
            "\n",
            "EPOCH45:\tTraining loss:0.367\tValidation loss:0.366\n",
            "\n",
            "EPOCH46:\tTraining loss:0.367\tValidation loss:0.366\n",
            "\n",
            "EPOCH47:\tTraining loss:0.367\tValidation loss:0.366\n",
            "\n",
            "EPOCH48:\tTraining loss:0.367\tValidation loss:0.366\n",
            "\n",
            "EPOCH49:\tTraining loss:0.367\tValidation loss:0.366\n",
            "\n",
            "EPOCH50:\tTraining loss:0.366\tValidation loss:0.366\n",
            "\n",
            "EPOCH51:\tTraining loss:0.366\tValidation loss:0.365\n",
            "\n",
            "EPOCH52:\tTraining loss:0.366\tValidation loss:0.365\n",
            "\n",
            "EPOCH53:\tTraining loss:0.366\tValidation loss:0.365\n",
            "\n",
            "EPOCH54:\tTraining loss:0.366\tValidation loss:0.365\n",
            "\n",
            "EPOCH55:\tTraining loss:0.366\tValidation loss:0.365\n",
            "\n",
            "EPOCH56:\tTraining loss:0.366\tValidation loss:0.365\n",
            "\n",
            "EPOCH57:\tTraining loss:0.366\tValidation loss:0.365\n",
            "\n",
            "EPOCH58:\tTraining loss:0.365\tValidation loss:0.365\n",
            "\n",
            "EPOCH59:\tTraining loss:0.365\tValidation loss:0.364\n",
            "\n",
            "EPOCH60:\tTraining loss:0.365\tValidation loss:0.364\n",
            "\n",
            "EPOCH61:\tTraining loss:0.365\tValidation loss:0.364\n",
            "\n",
            "EPOCH62:\tTraining loss:0.365\tValidation loss:0.364\n",
            "\n",
            "EPOCH63:\tTraining loss:0.365\tValidation loss:0.364\n",
            "\n",
            "EPOCH64:\tTraining loss:0.365\tValidation loss:0.364\n",
            "\n",
            "EPOCH65:\tTraining loss:0.365\tValidation loss:0.364\n",
            "\n",
            "EPOCH66:\tTraining loss:0.365\tValidation loss:0.364\n",
            "\n",
            "EPOCH67:\tTraining loss:0.364\tValidation loss:0.364\n",
            "\n",
            "EPOCH68:\tTraining loss:0.364\tValidation loss:0.364\n",
            "\n",
            "EPOCH69:\tTraining loss:0.364\tValidation loss:0.363\n",
            "\n",
            "EPOCH70:\tTraining loss:0.364\tValidation loss:0.363\n",
            "\n",
            "EPOCH71:\tTraining loss:0.364\tValidation loss:0.363\n",
            "\n",
            "EPOCH72:\tTraining loss:0.364\tValidation loss:0.363\n",
            "\n",
            "EPOCH73:\tTraining loss:0.364\tValidation loss:0.363\n",
            "\n",
            "EPOCH74:\tTraining loss:0.364\tValidation loss:0.363\n",
            "\n",
            "EPOCH75:\tTraining loss:0.364\tValidation loss:0.363\n",
            "\n",
            "EPOCH76:\tTraining loss:0.364\tValidation loss:0.363\n",
            "\n",
            "EPOCH77:\tTraining loss:0.364\tValidation loss:0.363\n",
            "\n",
            "EPOCH78:\tTraining loss:0.363\tValidation loss:0.363\n",
            "\n",
            "EPOCH79:\tTraining loss:0.363\tValidation loss:0.363\n",
            "\n",
            "EPOCH80:\tTraining loss:0.363\tValidation loss:0.362\n",
            "\n",
            "EPOCH81:\tTraining loss:0.363\tValidation loss:0.362\n",
            "\n",
            "EPOCH82:\tTraining loss:0.363\tValidation loss:0.362\n",
            "\n",
            "EPOCH83:\tTraining loss:0.363\tValidation loss:0.362\n",
            "\n",
            "EPOCH84:\tTraining loss:0.363\tValidation loss:0.362\n",
            "\n",
            "EPOCH85:\tTraining loss:0.363\tValidation loss:0.362\n",
            "\n",
            "EPOCH86:\tTraining loss:0.363\tValidation loss:0.362\n",
            "\n",
            "EPOCH87:\tTraining loss:0.363\tValidation loss:0.362\n",
            "\n",
            "EPOCH88:\tTraining loss:0.363\tValidation loss:0.362\n",
            "\n",
            "EPOCH89:\tTraining loss:0.363\tValidation loss:0.362\n",
            "\n",
            "EPOCH90:\tTraining loss:0.363\tValidation loss:0.362\n",
            "\n",
            "EPOCH91:\tTraining loss:0.363\tValidation loss:0.362\n",
            "\n",
            "EPOCH92:\tTraining loss:0.363\tValidation loss:0.362\n",
            "\n",
            "EPOCH93:\tTraining loss:0.362\tValidation loss:0.362\n",
            "\n",
            "EPOCH94:\tTraining loss:0.362\tValidation loss:0.362\n",
            "\n",
            "EPOCH95:\tTraining loss:0.362\tValidation loss:0.361\n",
            "\n",
            "EPOCH96:\tTraining loss:0.362\tValidation loss:0.361\n",
            "\n",
            "EPOCH97:\tTraining loss:0.362\tValidation loss:0.361\n",
            "\n",
            "EPOCH98:\tTraining loss:0.362\tValidation loss:0.361\n",
            "\n",
            "EPOCH99:\tTraining loss:0.362\tValidation loss:0.361\n",
            "\n",
            "EPOCH100:\tTraining loss:0.362\tValidation loss:0.361\n",
            "\n",
            "EPOCH101:\tTraining loss:0.362\tValidation loss:0.361\n",
            "\n",
            "EPOCH102:\tTraining loss:0.362\tValidation loss:0.361\n",
            "\n",
            "EPOCH103:\tTraining loss:0.362\tValidation loss:0.361\n",
            "\n",
            "EPOCH104:\tTraining loss:0.362\tValidation loss:0.361\n",
            "\n",
            "EPOCH105:\tTraining loss:0.362\tValidation loss:0.361\n",
            "\n",
            "EPOCH106:\tTraining loss:0.362\tValidation loss:0.361\n",
            "\n",
            "EPOCH107:\tTraining loss:0.362\tValidation loss:0.361\n",
            "\n",
            "EPOCH108:\tTraining loss:0.362\tValidation loss:0.361\n",
            "\n",
            "EPOCH109:\tTraining loss:0.362\tValidation loss:0.361\n",
            "\n",
            "EPOCH110:\tTraining loss:0.362\tValidation loss:0.361\n",
            "\n",
            "EPOCH111:\tTraining loss:0.361\tValidation loss:0.361\n",
            "\n",
            "EPOCH112:\tTraining loss:0.361\tValidation loss:0.361\n",
            "\n",
            "EPOCH113:\tTraining loss:0.361\tValidation loss:0.361\n",
            "\n",
            "EPOCH114:\tTraining loss:0.361\tValidation loss:0.361\n",
            "\n",
            "EPOCH115:\tTraining loss:0.361\tValidation loss:0.360\n",
            "\n",
            "EPOCH116:\tTraining loss:0.361\tValidation loss:0.360\n",
            "\n",
            "EPOCH117:\tTraining loss:0.361\tValidation loss:0.360\n",
            "\n",
            "EPOCH118:\tTraining loss:0.361\tValidation loss:0.360\n",
            "\n",
            "EPOCH119:\tTraining loss:0.361\tValidation loss:0.360\n",
            "\n",
            "EPOCH120:\tTraining loss:0.361\tValidation loss:0.360\n",
            "\n",
            "EPOCH121:\tTraining loss:0.361\tValidation loss:0.360\n",
            "\n",
            "EPOCH122:\tTraining loss:0.361\tValidation loss:0.360\n",
            "\n",
            "EPOCH123:\tTraining loss:0.361\tValidation loss:0.360\n",
            "\n",
            "EPOCH124:\tTraining loss:0.361\tValidation loss:0.360\n",
            "\n",
            "EPOCH125:\tTraining loss:0.361\tValidation loss:0.360\n",
            "\n",
            "EPOCH126:\tTraining loss:0.361\tValidation loss:0.360\n",
            "\n",
            "EPOCH127:\tTraining loss:0.361\tValidation loss:0.360\n",
            "\n",
            "EPOCH128:\tTraining loss:0.361\tValidation loss:0.360\n",
            "\n",
            "EPOCH129:\tTraining loss:0.361\tValidation loss:0.360\n",
            "\n",
            "EPOCH130:\tTraining loss:0.361\tValidation loss:0.360\n",
            "\n",
            "EPOCH131:\tTraining loss:0.361\tValidation loss:0.360\n",
            "\n",
            "EPOCH132:\tTraining loss:0.361\tValidation loss:0.360\n",
            "\n",
            "EPOCH133:\tTraining loss:0.361\tValidation loss:0.360\n",
            "\n",
            "EPOCH134:\tTraining loss:0.361\tValidation loss:0.360\n",
            "\n",
            "EPOCH135:\tTraining loss:0.361\tValidation loss:0.360\n",
            "\n",
            "EPOCH136:\tTraining loss:0.361\tValidation loss:0.360\n",
            "\n",
            "EPOCH137:\tTraining loss:0.361\tValidation loss:0.360\n",
            "\n",
            "EPOCH138:\tTraining loss:0.361\tValidation loss:0.360\n",
            "\n",
            "EPOCH139:\tTraining loss:0.360\tValidation loss:0.360\n",
            "\n",
            "EPOCH140:\tTraining loss:0.360\tValidation loss:0.360\n",
            "\n",
            "EPOCH141:\tTraining loss:0.360\tValidation loss:0.360\n",
            "\n",
            "EPOCH142:\tTraining loss:0.360\tValidation loss:0.360\n",
            "\n",
            "EPOCH143:\tTraining loss:0.360\tValidation loss:0.360\n",
            "\n",
            "EPOCH144:\tTraining loss:0.360\tValidation loss:0.360\n",
            "\n",
            "EPOCH145:\tTraining loss:0.360\tValidation loss:0.359\n",
            "\n",
            "EPOCH146:\tTraining loss:0.360\tValidation loss:0.359\n",
            "\n",
            "EPOCH147:\tTraining loss:0.360\tValidation loss:0.359\n",
            "\n",
            "EPOCH148:\tTraining loss:0.360\tValidation loss:0.359\n",
            "\n",
            "EPOCH149:\tTraining loss:0.360\tValidation loss:0.359\n",
            "\n",
            "EPOCH150:\tTraining loss:0.360\tValidation loss:0.359\n",
            "\n",
            "EPOCH151:\tTraining loss:0.360\tValidation loss:0.359\n",
            "\n",
            "EPOCH152:\tTraining loss:0.360\tValidation loss:0.359\n",
            "\n",
            "EPOCH153:\tTraining loss:0.360\tValidation loss:0.359\n",
            "\n",
            "EPOCH154:\tTraining loss:0.360\tValidation loss:0.359\n",
            "\n",
            "EPOCH155:\tTraining loss:0.360\tValidation loss:0.359\n",
            "\n",
            "EPOCH156:\tTraining loss:0.360\tValidation loss:0.359\n",
            "\n",
            "EPOCH157:\tTraining loss:0.360\tValidation loss:0.359\n",
            "\n",
            "EPOCH158:\tTraining loss:0.360\tValidation loss:0.359\n",
            "\n",
            "EPOCH159:\tTraining loss:0.360\tValidation loss:0.359\n",
            "\n",
            "EPOCH160:\tTraining loss:0.360\tValidation loss:0.359\n",
            "\n",
            "EPOCH161:\tTraining loss:0.360\tValidation loss:0.359\n",
            "\n",
            "EPOCH162:\tTraining loss:0.360\tValidation loss:0.359\n",
            "\n",
            "EPOCH163:\tTraining loss:0.360\tValidation loss:0.359\n",
            "\n",
            "EPOCH164:\tTraining loss:0.360\tValidation loss:0.359\n",
            "\n",
            "EPOCH165:\tTraining loss:0.360\tValidation loss:0.359\n",
            "\n",
            "EPOCH166:\tTraining loss:0.360\tValidation loss:0.359\n",
            "\n",
            "EPOCH167:\tTraining loss:0.360\tValidation loss:0.359\n",
            "\n",
            "EPOCH168:\tTraining loss:0.360\tValidation loss:0.359\n",
            "\n",
            "EPOCH169:\tTraining loss:0.360\tValidation loss:0.359\n",
            "\n",
            "EPOCH170:\tTraining loss:0.360\tValidation loss:0.359\n",
            "\n",
            "EPOCH171:\tTraining loss:0.360\tValidation loss:0.359\n",
            "\n",
            "EPOCH172:\tTraining loss:0.360\tValidation loss:0.359\n",
            "\n",
            "EPOCH173:\tTraining loss:0.360\tValidation loss:0.359\n",
            "\n",
            "EPOCH174:\tTraining loss:0.360\tValidation loss:0.359\n",
            "\n",
            "EPOCH175:\tTraining loss:0.360\tValidation loss:0.359\n",
            "\n",
            "EPOCH176:\tTraining loss:0.360\tValidation loss:0.359\n",
            "\n",
            "EPOCH177:\tTraining loss:0.360\tValidation loss:0.359\n",
            "\n",
            "EPOCH178:\tTraining loss:0.360\tValidation loss:0.359\n",
            "\n",
            "EPOCH179:\tTraining loss:0.360\tValidation loss:0.359\n",
            "\n",
            "EPOCH180:\tTraining loss:0.360\tValidation loss:0.359\n",
            "\n",
            "EPOCH181:\tTraining loss:0.360\tValidation loss:0.359\n",
            "\n",
            "EPOCH182:\tTraining loss:0.360\tValidation loss:0.359\n",
            "\n",
            "EPOCH183:\tTraining loss:0.360\tValidation loss:0.359\n",
            "\n",
            "EPOCH184:\tTraining loss:0.360\tValidation loss:0.359\n",
            "\n",
            "EPOCH185:\tTraining loss:0.360\tValidation loss:0.359\n",
            "\n",
            "EPOCH186:\tTraining loss:0.360\tValidation loss:0.359\n",
            "\n",
            "EPOCH187:\tTraining loss:0.359\tValidation loss:0.359\n",
            "\n",
            "EPOCH188:\tTraining loss:0.359\tValidation loss:0.359\n",
            "\n",
            "EPOCH189:\tTraining loss:0.359\tValidation loss:0.359\n",
            "\n",
            "EPOCH190:\tTraining loss:0.359\tValidation loss:0.359\n",
            "\n",
            "EPOCH191:\tTraining loss:0.359\tValidation loss:0.359\n",
            "\n",
            "EPOCH192:\tTraining loss:0.359\tValidation loss:0.359\n",
            "\n",
            "EPOCH193:\tTraining loss:0.359\tValidation loss:0.359\n",
            "\n",
            "EPOCH194:\tTraining loss:0.359\tValidation loss:0.359\n",
            "\n",
            "EPOCH195:\tTraining loss:0.359\tValidation loss:0.359\n",
            "\n",
            "EPOCH196:\tTraining loss:0.359\tValidation loss:0.359\n",
            "\n",
            "EPOCH197:\tTraining loss:0.359\tValidation loss:0.359\n",
            "\n",
            "EPOCH198:\tTraining loss:0.359\tValidation loss:0.358\n",
            "\n",
            "EPOCH199:\tTraining loss:0.359\tValidation loss:0.358\n",
            "\n",
            "EPOCH200:\tTraining loss:0.359\tValidation loss:0.358\n"
          ]
        }
      ]
    },
    {
      "cell_type": "code",
      "source": [
        "#Hình ảnh trực quan kết quả huấn luyện trên tập train và val cho bài Card Fraud Detection\n",
        "fig, ax = plt.subplots(2, 2, figsize=(12, 10))\n",
        "ax[0, 0].plot(train_losses)\n",
        "ax[0, 0].set(xlabel='Epoch', ylabel ='Loss')\n",
        "ax[0, 0].set_title('Training Loss')\n",
        "ax[0, 1].plot(val_losses, 'orange')\n",
        "ax[0, 1].set(xlabel='Epoch', ylabel='Loss')\n",
        "ax[0, 1].set_title('Validation Loss')\n",
        "ax[1, 0].plot(train_accs)\n",
        "ax[1, 0].set(xlabel='Epoch', ylabel='Accuracy')\n",
        "ax[1, 0].set_title('Training Accuracy')\n",
        "ax[1, 1].plot(val_accs,'orange')\n",
        "ax[1, 1].set( xlabel='Epoch', ylabel='Accuracy')\n",
        "ax[1, 1].set_title('Validation Accuracy')\n",
        "plt.show()"
      ],
      "metadata": {
        "colab": {
          "base_uri": "https://localhost:8080/",
          "height": 722
        },
        "outputId": "f568173f-4aec-4437-9205-de6912ab6edd",
        "id": "LS5CsFJaQIYU"
      },
      "execution_count": null,
      "outputs": [
        {
          "output_type": "display_data",
          "data": {
            "text/plain": [
              "<Figure size 1200x1000 with 4 Axes>"
            ],
            "image/png": "[encoded data removed]"
          },
          "metadata": {}
        }
      ]
    },
    {
      "cell_type": "markdown",
      "source": [
        "## 11.Đánh giá mô hình"
      ],
      "metadata": {
        "id": "mJxc22y_QSbf"
      }
    },
    {
      "cell_type": "code",
      "source": [
        "val_set_acc = compute_accuracy(X_val, y_val, theta)\n",
        "test_set_acc = compute_accuracy(X_test, y_test, theta)\n",
        "print('Evaluation on validation and test set:')\n",
        "print(f'Accuracy:{val_set_acc}')\n",
        "print(f'Accuracy:{test_set_acc}')"
      ],
      "metadata": {
        "colab": {
          "base_uri": "https://localhost:8080/"
        },
        "id": "wSEgGAnxQH8x",
        "outputId": "e1ebcfad-c457-471e-ebb6-5460261130b8"
      },
      "execution_count": null,
      "outputs": [
        {
          "output_type": "stream",
          "name": "stdout",
          "text": [
            "Evaluation on validation and test set:\n",
            "Accuracy:0.4340369393139842\n",
            "Accuracy:0.4322881511934712\n"
          ]
        }
      ]
    },
    {
      "cell_type": "code",
      "source": [],
      "metadata": {
        "id": "5qTctZxYH6Zv"
      },
      "execution_count": null,
      "outputs": []
    },
    {
      "cell_type": "code",
      "source": [],
      "metadata": {
        "id": "FJOGE-_uH6cm"
      },
      "execution_count": null,
      "outputs": []
    },
    {
      "cell_type": "code",
      "source": [],
      "metadata": {
        "id": "MBW1H8L8H6fc"
      },
      "execution_count": null,
      "outputs": []
    },
    {
      "cell_type": "code",
      "source": [],
      "metadata": {
        "id": "SksJj_NMH6jl"
      },
      "execution_count": null,
      "outputs": []
    },
    {
      "cell_type": "code",
      "source": [],
      "metadata": {
        "id": "h7B11qIlH6no"
      },
      "execution_count": null,
      "outputs": []
    },
    {
      "cell_type": "code",
      "source": [],
      "metadata": {
        "id": "3DTJrC06_nw_"
      },
      "execution_count": null,
      "outputs": []
    },
    {
      "cell_type": "code",
      "source": [],
      "metadata": {
        "id": "DE84YzXp_n5H"
      },
      "execution_count": null,
      "outputs": []
    },
    {
      "cell_type": "code",
      "source": [],
      "metadata": {
        "id": "SbtY4onDNPCc"
      },
      "execution_count": null,
      "outputs": []
    }
  ]
}