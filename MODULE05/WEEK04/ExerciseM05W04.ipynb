{
  "nbformat": 4,
  "nbformat_minor": 0,
  "metadata": {
    "colab": {
      "provenance": [],
      "toc_visible": true
    },
    "kernelspec": {
      "name": "python3",
      "display_name": "Python 3"
    },
    "language_info": {
      "name": "python"
    }
  },
  "cells": [
    {
      "cell_type": "markdown",
      "source": [
        "# Optimizing Functions of Two Varibales\n",
        "f(w1, w2) = 0.1*w1^2 + 2*w2^2\n",
        "\n"
      ],
      "metadata": {
        "id": "XLVj_VjC6WGD"
      }
    },
    {
      "cell_type": "markdown",
      "source": [
        "# Exercise1: Gradient Descent\n",
        "W = W - α ∗ dW"
      ],
      "metadata": {
        "id": "4ZZTAK-w6kxz"
      }
    },
    {
      "cell_type": "markdown",
      "source": [
        "## Import thư viện"
      ],
      "metadata": {
        "id": "Fu_Bbw_d-uqK"
      }
    },
    {
      "cell_type": "code",
      "source": [
        "import numpy as np"
      ],
      "metadata": {
        "id": "KpoL8p4a6ju8"
      },
      "execution_count": 4,
      "outputs": []
    },
    {
      "cell_type": "markdown",
      "source": [
        "## Tính đạo hàm"
      ],
      "metadata": {
        "id": "KMNB001k-yDP"
      }
    },
    {
      "cell_type": "code",
      "source": [
        "def df_w(W):\n",
        "    \"\"\"\n",
        "    Thực hiện tính gradient của dw1 và dw2\n",
        "    Arguments:\n",
        "    W -- np.array [w1, w2]\n",
        "    Returns:\n",
        "    dW -- np.array [dw1, dw2], array chứa giá trị đạo hàm theo w1 và w2\n",
        "    \"\"\"\n",
        "    #################### YOUR CODE HERE ####################\n",
        "\n",
        "    w1, w2 = W\n",
        "\n",
        "    dw1 = 0.2*w1\n",
        "    dw2 = 4*w2\n",
        "\n",
        "    dW = np.array([dw1, dw2])\n",
        "\n",
        "    ########################################################\n",
        "    return dW"
      ],
      "metadata": {
        "id": "fAle6TId4yqW"
      },
      "execution_count": 5,
      "outputs": []
    },
    {
      "cell_type": "markdown",
      "source": [
        "## Cập nhật tham số"
      ],
      "metadata": {
        "id": "N1-_pKzH-3Dz"
      }
    },
    {
      "cell_type": "code",
      "source": [
        "def sgd(W, dW, lr):\n",
        "    \"\"\"\n",
        "    Thực hiện thuật tóa Gradient Descent để update w1 và w2\n",
        "    Arguments:\n",
        "    W -- np.array: [w1, w2]\n",
        "    dW -- np.array: [dw1, dw2], array chứa giá trị đạo hàm theo w1 và w2\n",
        "    lr -- float: learning rate\n",
        "    Returns:\n",
        "    W -- np.array: [w1, w2] w1 và w2 sau khi đã update\n",
        "    \"\"\"\n",
        "    #################### YOUR CODE HERE ####################\n",
        "\n",
        "    W = W - lr*dW\n",
        "\n",
        "    ########################################################\n",
        "    return W"
      ],
      "metadata": {
        "id": "U9hHs-YK4ynO"
      },
      "execution_count": 6,
      "outputs": []
    },
    {
      "cell_type": "markdown",
      "source": [
        "## Dựa vào thuật toán Gradient Descent các bạn thực hiện tìm điểm minimum của function (1) với các tham số sau khởi tạo:\n",
        "w1 = −5,\n",
        "w2 = −2,\n",
        "\n",
        "α = 0.4"
      ],
      "metadata": {
        "id": "X2B5-uml-l6N"
      }
    },
    {
      "cell_type": "code",
      "source": [
        "def train_p1(optimizer, lr, epochs):\n",
        "    \"\"\"\n",
        "    Thực hiện tìm điểm minimum của function (1) dựa vào thuật toán\n",
        "    được truyền vào từ optimizer\n",
        "    Arguments:\n",
        "    optimize : function thực hiện thuật toán optimization cụ thể\n",
        "    lr -- float: learning rate\n",
        "    epoch -- int: số lượng lần (epoch) lặp để tìm điểm minimum\n",
        "    Returns:\n",
        "    results -- list: list các cặp điểm [w1, w2] sau mỗi epoch (mỗi lần cập nhật)\n",
        "    \"\"\"\n",
        "\n",
        "    # initial point\n",
        "    W = np.array([-5, -2], dtype=np.float32)\n",
        "\n",
        "    # list of results\n",
        "    results = [W]\n",
        "    #################### YOUR CODE HERE ####################\n",
        "    # Tạo vòng lặp theo số lần epochs\n",
        "    # tìm gradient dW gồm dw1 và dw2\n",
        "    # dùng thuật toán optimization cập nhật w1 và w2\n",
        "    # append cặp [w1, w2] vào list results\n",
        "\n",
        "    for i in range(epochs):\n",
        "        dW = df_w(W)\n",
        "        W = optimizer(W, dW, lr)\n",
        "        results.append(W)\n",
        "\n",
        "    ########################################################\n",
        "    return results"
      ],
      "metadata": {
        "id": "7Ymx5VJh4ykG"
      },
      "execution_count": 9,
      "outputs": []
    },
    {
      "cell_type": "markdown",
      "source": [
        "## Train epoch = 2"
      ],
      "metadata": {
        "id": "1ruQ7kFoCrPO"
      }
    },
    {
      "cell_type": "code",
      "source": [
        "alpha = 0.4\n",
        "train_p1(sgd, lr=alpha, epochs=2)"
      ],
      "metadata": {
        "colab": {
          "base_uri": "https://localhost:8080/"
        },
        "id": "GctSy1zd4yP4",
        "outputId": "f1c57093-0272-4854-c7b2-42ddcc6c6b51"
      },
      "execution_count": 10,
      "outputs": [
        {
          "output_type": "execute_result",
          "data": {
            "text/plain": [
              "[array([-5., -2.], dtype=float32),\n",
              " array([-4.6,  1.2]),\n",
              " array([-4.232, -0.72 ])]"
            ]
          },
          "metadata": {},
          "execution_count": 10
        }
      ]
    },
    {
      "cell_type": "markdown",
      "source": [
        "## Train epoch = 30"
      ],
      "metadata": {
        "id": "P2hrn3WkCwXV"
      }
    },
    {
      "cell_type": "code",
      "source": [
        "alpha = 0.4\n",
        "train_p1(sgd, lr=alpha, epochs=30)"
      ],
      "metadata": {
        "colab": {
          "base_uri": "https://localhost:8080/"
        },
        "id": "c1ZMmkkL_8vV",
        "outputId": "3e3c4cd7-448d-4b04-b690-98f8bd05328b"
      },
      "execution_count": 11,
      "outputs": [
        {
          "output_type": "execute_result",
          "data": {
            "text/plain": [
              "[array([-5., -2.], dtype=float32),\n",
              " array([-4.6,  1.2]),\n",
              " array([-4.232, -0.72 ]),\n",
              " array([-3.89344,  0.432  ]),\n",
              " array([-3.5819648, -0.2592   ]),\n",
              " array([-3.29540762,  0.15552   ]),\n",
              " array([-3.03177501, -0.093312  ]),\n",
              " array([-2.78923301,  0.0559872 ]),\n",
              " array([-2.56609437, -0.03359232]),\n",
              " array([-2.36080682,  0.02015539]),\n",
              " array([-2.17194227, -0.01209324]),\n",
              " array([-1.99818689,  0.00725594]),\n",
              " array([-1.83833194, -0.00435356]),\n",
              " array([-1.69126538,  0.00261214]),\n",
              " array([-1.55596415, -0.00156728]),\n",
              " array([-1.43148702e+00,  9.40369969e-04]),\n",
              " array([-1.31696806e+00, -5.64221981e-04]),\n",
              " array([-1.21161061e+00,  3.38533189e-04]),\n",
              " array([-1.11468176e+00, -2.03119913e-04]),\n",
              " array([-1.02550722e+00,  1.21871948e-04]),\n",
              " array([-9.43466646e-01, -7.31231688e-05]),\n",
              " array([-8.67989314e-01,  4.38739013e-05]),\n",
              " array([-7.98550169e-01, -2.63243408e-05]),\n",
              " array([-7.34666155e-01,  1.57946045e-05]),\n",
              " array([-6.75892863e-01, -9.47676268e-06]),\n",
              " array([-6.21821434e-01,  5.68605761e-06]),\n",
              " array([-5.72075719e-01, -3.41163456e-06]),\n",
              " array([-5.26309662e-01,  2.04698074e-06]),\n",
              " array([-4.84204889e-01, -1.22818844e-06]),\n",
              " array([-4.45468498e-01,  7.36913066e-07]),\n",
              " array([-4.09831018e-01, -4.42147839e-07])]"
            ]
          },
          "metadata": {},
          "execution_count": 11
        }
      ]
    },
    {
      "cell_type": "markdown",
      "source": [
        "# Exercise2: Gradient Descent + Momentum\n",
        "Vt = βVt−1 + (1 − β)dWt\n",
        "\n",
        "Wt = Wt − α ∗ Vt\n"
      ],
      "metadata": {
        "id": "XLTWLpPmAR8Y"
      }
    },
    {
      "cell_type": "markdown",
      "source": [
        "## Import thư viện"
      ],
      "metadata": {
        "id": "tPcWsWwNBo9S"
      }
    },
    {
      "cell_type": "code",
      "source": [
        "import numpy as np"
      ],
      "metadata": {
        "id": "l43k5FT3Boer"
      },
      "execution_count": 12,
      "outputs": []
    },
    {
      "cell_type": "markdown",
      "source": [
        "## Tính Đạo Hàm"
      ],
      "metadata": {
        "id": "BD752xWKB6gx"
      }
    },
    {
      "cell_type": "code",
      "source": [
        "def df_w(W):\n",
        "    \"\"\"\n",
        "    Thực hiện tính gradient của dw1 và dw2\n",
        "    Arguments:\n",
        "    W -- np.array [w1, w2]\n",
        "    Returns:\n",
        "    dW -- np.array [dw1, dw2], array chứa giá trị đạo hàm theo w1 và w2\n",
        "    \"\"\"\n",
        "    #################### YOUR CODE HERE ####################\n",
        "\n",
        "    w1, w2 = W\n",
        "\n",
        "    dw1 = 0.2*w1\n",
        "    dw2 = 4*w2\n",
        "\n",
        "    dW = np.array([dw1, dw2])\n",
        "\n",
        "    ########################################################\n",
        "    return dW"
      ],
      "metadata": {
        "id": "MJjycpvKBobq"
      },
      "execution_count": 13,
      "outputs": []
    },
    {
      "cell_type": "markdown",
      "source": [
        "## Cập Nhật Tham Số"
      ],
      "metadata": {
        "id": "MJDMIoWvB_YG"
      }
    },
    {
      "cell_type": "code",
      "source": [
        "def sgd_momentum(W, dW, lr, V, beta):\n",
        "    \"\"\"\n",
        "    Thực hiện thuật tóan Gradient Descent + Momentum để update w1 và w2\n",
        "    Arguments:\n",
        "    W -- np.array: [w1, w2]\n",
        "    dW -- np.array: [dw1, dw2], array chứa giá trị đạo hàm theo w1 và w2\n",
        "    lr -- float: learning rate\n",
        "    V -- np.array: [v1, v2] Exponentially weighted averages gradients\n",
        "    beta -- float: hệ số long-range average\n",
        "    Returns:\n",
        "    W -- np.array: [w1, w2] w1 và w2 sau khi đã update\n",
        "    V -- np.array: [v1, v2] Exponentially weighted averages gradients sau khi đã cập nhật\n",
        "    \"\"\"\n",
        "    #################### YOUR CODE HERE ####################\n",
        "\n",
        "    V = beta*V + (1-beta)*dW\n",
        "    W = W - lr*V\n",
        "\n",
        "    ########################################################\n",
        "    return W, V"
      ],
      "metadata": {
        "id": "YGtJlSRt_8si"
      },
      "execution_count": 14,
      "outputs": []
    },
    {
      "cell_type": "markdown",
      "source": [
        "## Dựa vào thuật toán Gradient Descent và momentum các bạn thực hiện tìm điểm minimum của function (1) với các tham số sau khởi tạo:\n",
        "w1 = −5, w2 = −2,\n",
        "\n",
        "v1 = 0, v2 = 0,\n",
        "\n",
        "α = 0.6, β = 0.5"
      ],
      "metadata": {
        "id": "6mZpL9LsDR4Z"
      }
    },
    {
      "cell_type": "code",
      "source": [
        "def train_p2(optimizer, lr, epochs):\n",
        "    \"\"\"\n",
        "    Thực hiện tìm điểm minimum của function (1) dựa vào thuật toán\n",
        "    được truyền vào từ optimizer\n",
        "    Arguments:\n",
        "    optimize : function thực hiện thuật toán optimization cụ thể\n",
        "    lr -- float: learning rate\n",
        "    epochs -- int: số lượng lần (epoch) lặp để tìm điểm minimum\n",
        "    Returns:\n",
        "    results -- list: list các cặp điểm [w1, w2] sau mỗi epoch (mỗi lần cập nhật)\n",
        "    \"\"\"\n",
        "    # initial\n",
        "    W = np.array([-5, -2], dtype=np.float32)\n",
        "    V = np.array([0, 0], dtype=np.float32)\n",
        "    results = [W]\n",
        "    #################### YOUR CODE HERE ####################\n",
        "    # Tạo vòng lặp theo số lần epochs\n",
        "    # tìm gradient dW gồm dw1 và dw2\n",
        "    # dùng thuật toán optimization cập nhật w1, w2, v1, v2\n",
        "    # append cặp [w1, w2] vào list results\n",
        "\n",
        "    beta = 0.5\n",
        "    for i in range(epochs):\n",
        "        dW = df_w(W)\n",
        "        W, V = optimizer(W, dW, lr, V, beta)\n",
        "        results.append(W)\n",
        "\n",
        "    ########################################################\n",
        "    return results"
      ],
      "metadata": {
        "id": "0S4D0AoL_8pB"
      },
      "execution_count": 15,
      "outputs": []
    },
    {
      "cell_type": "markdown",
      "source": [
        "## Train epoch = 2"
      ],
      "metadata": {
        "id": "-nZY-5D8Ei32"
      }
    },
    {
      "cell_type": "code",
      "source": [
        "alpha = 0.6\n",
        "train_p2(sgd_momentum, lr=alpha, epochs=2)"
      ],
      "metadata": {
        "colab": {
          "base_uri": "https://localhost:8080/"
        },
        "id": "cgOzSGFO_8lo",
        "outputId": "ac5bca13-6371-4f59-9318-c87124a24524"
      },
      "execution_count": 16,
      "outputs": [
        {
          "output_type": "execute_result",
          "data": {
            "text/plain": [
              "[array([-5., -2.], dtype=float32),\n",
              " array([-4.7,  0.4]),\n",
              " array([-4.268,  1.12 ])]"
            ]
          },
          "metadata": {},
          "execution_count": 16
        }
      ]
    },
    {
      "cell_type": "markdown",
      "source": [
        "## Train epoch = 30"
      ],
      "metadata": {
        "id": "1Lw0wWG8EwUB"
      }
    },
    {
      "cell_type": "code",
      "source": [
        "alpha = 0.6\n",
        "train_p2(sgd_momentum, lr=alpha, epochs=30)"
      ],
      "metadata": {
        "colab": {
          "base_uri": "https://localhost:8080/"
        },
        "id": "6lOyPU6XAMJx",
        "outputId": "ed86d036-9983-4376-dd8f-13fc5d56bd05"
      },
      "execution_count": 17,
      "outputs": [
        {
          "output_type": "execute_result",
          "data": {
            "text/plain": [
              "[array([-5., -2.], dtype=float32),\n",
              " array([-4.7,  0.4]),\n",
              " array([-4.268,  1.12 ]),\n",
              " array([-3.79592,  0.136  ]),\n",
              " array([-3.3321248, -0.5192   ]),\n",
              " array([-2.90029971, -0.22376   ]),\n",
              " array([-2.51036919,  0.192472  ]),\n",
              " array([-2.16478177,  0.1696216 ]),\n",
              " array([-1.86210116, -0.04534952]),\n",
              " array([-1.59903478, -0.09841566]),\n",
              " array([-1.37155951, -0.00684994]),\n",
              " array([-1.1755283 ,  0.04715285]),\n",
              " array([-1.006981  ,  0.01757082]),\n",
              " array([-0.86228849, -0.01830518]),\n",
              " array([-0.73820492, -0.01427696]),\n",
              " array([-0.63187084,  0.0048695 ]),\n",
              " array([-0.54079155,  0.00859933]),\n",
              " array([-4.62804416e-01,  1.45050014e-04]),\n",
              " array([-0.39604258, -0.00425615]),\n",
              " array([-0.33889911, -0.00134937]),\n",
              " array([-0.28999343,  0.00172326]),\n",
              " array([-0.24814098,  0.00119166]),\n",
              " array([-0.2123263 , -0.00050413]),\n",
              " array([-0.18167938, -0.00074707]),\n",
              " array([-1.55455157e-01,  2.79448010e-05]),\n",
              " array([-0.13301574,  0.00038192]),\n",
              " array([-1.13815082e-01,  1.00603444e-04]),\n",
              " array([-0.09738585, -0.00016078]),\n",
              " array([-8.33280829e-02, -9.85353344e-05]),\n",
              " array([-7.12995144e-02,  5.08287536e-05]),\n",
              " array([-6.10072592e-02,  6.45162933e-05])]"
            ]
          },
          "metadata": {},
          "execution_count": 17
        }
      ]
    },
    {
      "cell_type": "markdown",
      "source": [
        "# Exercise3: RMSProp\n",
        "\n",
        "St = γ*St−1 + (1 − γ)*dWt^2\n",
        "\n",
        "Wt = Wt − α ∗dW/ √(St + ϵ)"
      ],
      "metadata": {
        "id": "goJL04cYHdeL"
      }
    },
    {
      "cell_type": "markdown",
      "source": [
        "## Import thư viện"
      ],
      "metadata": {
        "id": "HigVkbnKIvat"
      }
    },
    {
      "cell_type": "code",
      "source": [
        "import numpy as np"
      ],
      "metadata": {
        "id": "I14qRH6MAPmU"
      },
      "execution_count": 18,
      "outputs": []
    },
    {
      "cell_type": "markdown",
      "source": [
        "## Tính Đạo Hàm"
      ],
      "metadata": {
        "id": "YrosvRSRI474"
      }
    },
    {
      "cell_type": "code",
      "source": [
        "def df_w(W):\n",
        "    \"\"\"\n",
        "    Thực hiện tính gradient của dw1 và dw2\n",
        "    Arguments:\n",
        "    W -- np.array [w1, w2]\n",
        "    Returns:\n",
        "    dW -- np.array [dw1, dw2], array chứa giá trị đạo hàm theo w1 và w2\n",
        "    \"\"\"\n",
        "    #################### YOUR CODE HERE ####################\n",
        "\n",
        "    w1, w2 = W\n",
        "\n",
        "    dw1 = 0.2*w1\n",
        "    dw2 = 4*w2\n",
        "\n",
        "    dW = np.array([dw1, dw2])\n",
        "\n",
        "    ########################################################\n",
        "    return dW"
      ],
      "metadata": {
        "id": "AIzs-OpkHcfO"
      },
      "execution_count": 19,
      "outputs": []
    },
    {
      "cell_type": "markdown",
      "source": [
        "## Dựa vào thuật toán RMSProp các bạn thực hiện tìm điểm minimum của function (1) với các tham số sau khởi tạo:\n",
        "w1 = −5,\n",
        "w2 = −2,\n",
        "\n",
        "s1 = 0,\n",
        "s2 = 0,\n",
        "\n",
        "α = 0.3,\n",
        "γ = 0.9,\n",
        "ϵ = 10−6"
      ],
      "metadata": {
        "id": "GX4ZuOR3IbKD"
      }
    },
    {
      "cell_type": "markdown",
      "source": [
        "## Cập Nhật Tham Số"
      ],
      "metadata": {
        "id": "hWGKkfEmJIMM"
      }
    },
    {
      "cell_type": "code",
      "source": [
        "def RMSProp(W, dW, lr, S, gamma):\n",
        "    \"\"\"\n",
        "    Thực hiện thuật tóan RMSProp để update w1 và w2\n",
        "    Arguments:\n",
        "    W -- np.array: [w1, w2]\n",
        "    dW -- np.array: [dw1, dw2], array chứa giá trị đạo hàm theo w1 và w2\n",
        "    lr -- float: learning rate\n",
        "    S -- np.array: [s1, s2] Exponentially weighted averages bình phương gradients\n",
        "    gamma -- float: hệ số long-range average\n",
        "    Returns:\n",
        "    W -- np.array: [w1, w2] w1 và w2 sau khi đã update\n",
        "    S -- np.array: [s1, s2] Exponentially weighted averages bình phương gradients sau khi đã cập nhật\n",
        "    \"\"\"\n",
        "    epsilon = 1e-6\n",
        "    #################### YOUR CODE HERE ####################\n",
        "\n",
        "    S = gamma*S + (1-gamma)*dW**2\n",
        "    adapt_lr = lr/np.sqrt(S + epsilon)\n",
        "    W = W - adapt_lr*dW\n",
        "\n",
        "    ########################################################\n",
        "    return W, S"
      ],
      "metadata": {
        "id": "vtbKfbhSHccJ"
      },
      "execution_count": 20,
      "outputs": []
    },
    {
      "cell_type": "code",
      "source": [
        "def train_p3(optimizer, lr, epochs):\n",
        "    \"\"\"\n",
        "    Thực hiện tìm điểm minimum của function (1) dựa vào thuật toán\n",
        "    được truyền vào từ optimizer\n",
        "    Arguments:\n",
        "    optimize : function thực hiện thuật toán optimization cụ thể\n",
        "    lr -- float: learning rate\n",
        "    epochs -- int: số lượng lần (epoch) lặp để tìm điểm minimum\n",
        "    Returns:\n",
        "    results -- list: list các cặp điểm [w1, w2] sau mỗi epoch (mỗi lần cập nhật)\n",
        "    \"\"\"\n",
        "    # initial\n",
        "    W = np.array([-5, -2], dtype=np.float32)\n",
        "    S = np.array([0, 0], dtype=np.float32)\n",
        "    results = [W]\n",
        "    #################### YOUR CODE HERE ####################\n",
        "    # Tạo vòng lặp theo số lần epochs\n",
        "    # tìm gradient dW gồm dw1 và dw2\n",
        "    # dùng thuật toán optimization cập nhật w1, w2, s1, s2\n",
        "    # append cặp [w1, w2] vào list results\n",
        "\n",
        "    gamma = 0.9\n",
        "    for i in range(epochs):\n",
        "        dW = df_w(W)\n",
        "        W, S = optimizer(W, dW, lr, S, gamma)\n",
        "        results.append(W)\n",
        "\n",
        "    ########################################################\n",
        "    return results"
      ],
      "metadata": {
        "id": "EHFIzftTHcZP"
      },
      "execution_count": 21,
      "outputs": []
    },
    {
      "cell_type": "markdown",
      "source": [
        "## Train epoch = 2"
      ],
      "metadata": {
        "id": "0Q5OJobLKdal"
      }
    },
    {
      "cell_type": "code",
      "source": [
        "alpha = 0.3\n",
        "train_p3(RMSProp, lr=alpha, epochs=2)"
      ],
      "metadata": {
        "colab": {
          "base_uri": "https://localhost:8080/"
        },
        "id": "8IRUY7FIHcWP",
        "outputId": "eef7e231-f846-4560-8dc3-8812dbe297f4"
      },
      "execution_count": 22,
      "outputs": [
        {
          "output_type": "execute_result",
          "data": {
            "text/plain": [
              "[array([-5., -2.], dtype=float32),\n",
              " array([-4.05132145, -1.05131678]),\n",
              " array([-3.43519754, -0.59152343])]"
            ]
          },
          "metadata": {},
          "execution_count": 22
        }
      ]
    },
    {
      "cell_type": "markdown",
      "source": [
        "## Train epoch = 30"
      ],
      "metadata": {
        "id": "9OiIxfl0KmEY"
      }
    },
    {
      "cell_type": "code",
      "source": [
        "alpha = 0.3\n",
        "train_p3(RMSProp, lr=alpha, epochs=30)"
      ],
      "metadata": {
        "colab": {
          "base_uri": "https://localhost:8080/"
        },
        "id": "TU5bUv8VHcTN",
        "outputId": "f79f2595-c178-4f08-d329-273a0463af0c"
      },
      "execution_count": 23,
      "outputs": [
        {
          "output_type": "execute_result",
          "data": {
            "text/plain": [
              "[array([-5., -2.], dtype=float32),\n",
              " array([-4.05132145, -1.05131678]),\n",
              " array([-3.43519754, -0.59152343]),\n",
              " array([-2.95893693, -0.3294394 ]),\n",
              " array([-2.56546289, -0.17756482]),\n",
              " array([-2.22920552, -0.09163256]),\n",
              " array([-1.93626752, -0.04494499]),\n",
              " array([-1.67817686, -0.02081423]),\n",
              " array([-1.44934985, -0.00903559]),\n",
              " array([-1.24588199, -0.00364591]),\n",
              " array([-1.06490301, -0.00135351]),\n",
              " array([-9.04202260e-01, -4.56444431e-04]),\n",
              " array([-7.61996495e-01, -1.37562928e-04]),\n",
              " array([-6.36778499e-01, -3.62601019e-05]),\n",
              " array([-5.27215237e-01, -8.11337456e-06]),\n",
              " array([-4.32078505e-01, -1.47473412e-06]),\n",
              " array([-3.50198507e-01, -2.02783991e-07]),\n",
              " array([-2.80434649e-01, -1.84231187e-08]),\n",
              " array([-2.21659834e-01, -7.67742748e-10]),\n",
              " array([-1.72755512e-01,  7.80451998e-12]),\n",
              " array([-1.32615134e-01, -5.05794800e-13]),\n",
              " array([-1.00153779e-01,  6.19123501e-14]),\n",
              " array([-7.43217708e-02, -1.13373781e-14]),\n",
              " array([-5.41201278e-02,  2.80166702e-15]),\n",
              " array([-3.86159157e-02, -8.81341191e-16]),\n",
              " array([-2.69558066e-02,  3.39921117e-16]),\n",
              " array([-1.83765633e-02, -1.56581731e-16]),\n",
              " array([-1.22116093e-02,  8.44994985e-17]),\n",
              " array([-7.89331794e-03, -5.26376595e-17]),\n",
              " array([-4.95110261e-03,  3.74107995e-17]),\n",
              " array([-3.00577081e-03, -3.00506084e-17])]"
            ]
          },
          "metadata": {},
          "execution_count": 23
        }
      ]
    },
    {
      "cell_type": "markdown",
      "source": [
        "# Exercise4: Adam\n",
        "Vt = β1*Vt−1 + (1 − β1)*dWt\n",
        "\n",
        "St = β2*St−1 + (1 − β2)*dWt2\n",
        "\n",
        "Vcorr = Vt/(1 − β1^t)\n",
        "\n",
        "Scorr = St/(1 − β2^t)\n",
        "\n",
        "Wt = Wt − α ∗Vcorr/ √(Scorr+ ϵ)\n"
      ],
      "metadata": {
        "id": "7Yi1aDH7LJla"
      }
    },
    {
      "cell_type": "markdown",
      "source": [
        "## Import thư viện"
      ],
      "metadata": {
        "id": "hQoz8yroMJ50"
      }
    },
    {
      "cell_type": "code",
      "source": [
        "import numpy as np"
      ],
      "metadata": {
        "id": "x9WNDwMOLJVQ"
      },
      "execution_count": 24,
      "outputs": []
    },
    {
      "cell_type": "markdown",
      "source": [
        "## Tính Đạo Hàm"
      ],
      "metadata": {
        "id": "M0H_dqTKMOAI"
      }
    },
    {
      "cell_type": "code",
      "source": [
        "def df_w(W):\n",
        "    \"\"\"\n",
        "    Thực hiện tính gradient của dw1 và dw2\n",
        "    Arguments:\n",
        "    W -- np.array [w1, w2]\n",
        "    Returns:\n",
        "    dW -- np.array [dw1, dw2], array chứa giá trị đạo hàm theo w1 và w2\n",
        "    \"\"\"\n",
        "    #################### YOUR CODE HERE ####################\n",
        "\n",
        "    w1, w2 = W\n",
        "\n",
        "    dw1 = 0.2*w1\n",
        "    dw2 = 4*w2\n",
        "\n",
        "    dW = np.array([dw1, dw2])\n",
        "\n",
        "    ########################################################\n",
        "    return dW"
      ],
      "metadata": {
        "id": "6neXZxZmLJSa"
      },
      "execution_count": 26,
      "outputs": []
    },
    {
      "cell_type": "markdown",
      "source": [
        "## Dựa vào thuật toán Adam các bạn thực hiện tìm điểm minimum của function (1) với các tham số sau khởi tạo:\n",
        "w1 = −5,\n",
        "w2 = −2,\n",
        "\n",
        "v1 = 0,\n",
        "v2 = 0,\n",
        "\n",
        "s1 = 0,\n",
        "s2 = 0,\n",
        "\n",
        "\n",
        "β1 = 0.9,\n",
        "β2 = 0.999,\n",
        "\n",
        "α = 0.2,\n",
        "ϵ = 10−6"
      ],
      "metadata": {
        "id": "Yu3rddy6Ms3E"
      }
    },
    {
      "cell_type": "markdown",
      "source": [
        "## Cập Nhật Tham Số"
      ],
      "metadata": {
        "id": "YqTMIKAXMYN6"
      }
    },
    {
      "cell_type": "code",
      "source": [
        "def Adam(W, dW, lr, V, S, beta1, beta2, t):\n",
        "    \"\"\"\n",
        "    Thực hiện thuật tóan Adam để update w1 và w2\n",
        "    Arguments:\n",
        "    W -- np.array: [w1, w2]\n",
        "    dW -- np.array: [dw1, dw2], array chứa giá trị đạo hàm theo w1 và w2\n",
        "    lr -- float: learning rate\n",
        "    V -- np.array: [v1, v2] Exponentially weighted averages gradients\n",
        "    S -- np.array: [s1, s2] Exponentially weighted averages bình phương gradients\n",
        "    beta1 -- float: hệ số long-range average cho V\n",
        "    beta2 -- float: hệ số long-range average cho S\n",
        "    t -- int: lần thứ t update (bắt đầu bằng 1)\n",
        "    Returns:\n",
        "    W -- np.array: [w1, w2] w1 và w2 sau khi đã update\n",
        "    V -- np.array: [v1, v2] Exponentially weighted averages gradients sau khi đã cập nhật\n",
        "    S -- np.array: [s1, s2] Exponentially weighted averages bình phương gradients sau khi đã cập nhật\n",
        "    \"\"\"\n",
        "    epsilon = 1e-6\n",
        "    #################### YOUR CODE HERE ####################\n",
        "\n",
        "    V = beta1*V + (1-beta1)*dW\n",
        "    S = beta2*S + (1-beta2)*dW**2\n",
        "\n",
        "    Vcorr = V/(1-beta1**t)\n",
        "    Scorr = S/(1-beta2**t)\n",
        "\n",
        "    adapt_lr = lr/np.sqrt(Scorr + epsilon)\n",
        "    W = W - adapt_lr*Vcorr\n",
        "\n",
        "    ########################################################\n",
        "    return W, V, S"
      ],
      "metadata": {
        "id": "l8m3dowcLJPX"
      },
      "execution_count": 27,
      "outputs": []
    },
    {
      "cell_type": "code",
      "source": [
        "def train_p4(optimizer, lr, epochs):\n",
        "    \"\"\"\n",
        "    Thực hiện tìm điểm minimum của function (1) dựa vào thuật toán Adam\n",
        "    được truyền vào từ optimizer\n",
        "    Arguments:\n",
        "    optimize : function thực hiện thuật toán optimization cụ thể\n",
        "    lr -- float: learning rate\n",
        "    epochs -- int: số lượng lần (epoch) lặp để tìm điểm minimum\n",
        "    Returns:\n",
        "    results -- list: list các cặp điểm [w1, w2] sau mỗi epoch (mỗi lần cập nhật)\n",
        "    \"\"\"\n",
        "    # initial\n",
        "    W = np.array([-5, -2], dtype=np.float32)\n",
        "    V = np.array([0, 0], dtype=np.float32)\n",
        "    S = np.array([0, 0], dtype=np.float32)\n",
        "    results = [W]\n",
        "    #################### YOUR CODE HERE ####################\n",
        "    # Tạo vòng lặp theo số lần epochs\n",
        "    # tìm gradient dW gồm dw1 và dw2\n",
        "    # dùng thuật toán optimization cập nhật w1, w2, s1, s2, v1, v2\n",
        "    # append cặp [w1, w2] vào list results\n",
        "    # các bạn lưu ý mỗi lần lặp nhớ lấy t (lần thứ t lặp) và t bất đầu bằng 1\n",
        "\n",
        "    beta1 = 0.9\n",
        "    beta2 = 0.999\n",
        "    t = 1\n",
        "    for i in range(epochs):\n",
        "        dW = df_w(W)\n",
        "        W, V, S = optimizer(W, dW, lr, V, S, beta1, beta2, t)\n",
        "        results.append(W)\n",
        "        t += 1\n",
        "\n",
        "    ########################################################\n",
        "    return results"
      ],
      "metadata": {
        "id": "Ovc4NFhcHcNn"
      },
      "execution_count": 29,
      "outputs": []
    },
    {
      "cell_type": "markdown",
      "source": [
        "## Train epoch = 2"
      ],
      "metadata": {
        "id": "tVESyy4QQYhW"
      }
    },
    {
      "cell_type": "code",
      "source": [
        "alpha = 0.2\n",
        "train_p4(Adam, lr=alpha, epochs=2)"
      ],
      "metadata": {
        "colab": {
          "base_uri": "https://localhost:8080/"
        },
        "id": "Kbuilpp0HcKR",
        "outputId": "f499a8b5-d421-4318-cd4d-1871dc669527"
      },
      "execution_count": 30,
      "outputs": [
        {
          "output_type": "execute_result",
          "data": {
            "text/plain": [
              "[array([-5., -2.], dtype=float32),\n",
              " array([-4.8000001, -1.8      ]),\n",
              " array([-4.60025458, -1.60082446])]"
            ]
          },
          "metadata": {},
          "execution_count": 30
        }
      ]
    },
    {
      "cell_type": "markdown",
      "source": [
        "## Train epoch = 30"
      ],
      "metadata": {
        "id": "MUCLtvClQnGn"
      }
    },
    {
      "cell_type": "code",
      "source": [
        "alpha = 0.2\n",
        "train_p4(Adam, lr=alpha, epochs=30)"
      ],
      "metadata": {
        "colab": {
          "base_uri": "https://localhost:8080/"
        },
        "id": "7rz2SuWhQlna",
        "outputId": "e0b5be92-a72f-4f36-d423-989033face15"
      },
      "execution_count": 31,
      "outputs": [
        {
          "output_type": "execute_result",
          "data": {
            "text/plain": [
              "[array([-5., -2.], dtype=float32),\n",
              " array([-4.8000001, -1.8      ]),\n",
              " array([-4.60025458, -1.60082446]),\n",
              " array([-4.40094818, -1.40317255]),\n",
              " array([-4.20227724, -1.20787812]),\n",
              " array([-4.00444983, -1.01592732]),\n",
              " array([-3.80768579, -0.82847292]),\n",
              " array([-3.61221664, -0.64684142]),\n",
              " array([-3.41828545, -0.47252746]),\n",
              " array([-3.22614653, -0.30716913]),\n",
              " array([-3.03606497, -0.15249832]),\n",
              " array([-2.84831603, -0.01026302]),\n",
              " array([-2.66318433,  0.11787577]),\n",
              " array([-2.48096283,  0.23046186]),\n",
              " array([-2.30195156,  0.32635894]),\n",
              " array([-2.12645613,  0.40484216]),\n",
              " array([-1.95478597,  0.46564981]),\n",
              " array([-1.7872523 ,  0.50898816]),\n",
              " array([-1.62416583,  0.53549455]),\n",
              " array([-1.46583419,  0.54617153]),\n",
              " array([-1.31255919,  0.54230818]),\n",
              " array([-1.16463376,  0.52540208]),\n",
              " array([-1.02233886,  0.49709058]),\n",
              " array([-0.88594013,  0.45909505]),\n",
              " array([-0.75568468,  0.41317772]),\n",
              " array([-0.63179773,  0.36110878]),\n",
              " array([-0.51447945,  0.30464032]),\n",
              " array([-0.40390206,  0.2454839 ]),\n",
              " array([-0.30020707,  0.18528898]),\n",
              " array([-0.20350296,  0.12562052]),\n",
              " array([-0.11386333,  0.06793506])]"
            ]
          },
          "metadata": {},
          "execution_count": 31
        }
      ]
    },
    {
      "cell_type": "code",
      "source": [],
      "metadata": {
        "id": "hxiAH8rKQq-Q"
      },
      "execution_count": null,
      "outputs": []
    }
  ]
}