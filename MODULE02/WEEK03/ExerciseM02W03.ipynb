{
  "nbformat": 4,
  "nbformat_minor": 0,
  "metadata": {
    "colab": {
      "provenance": []
    },
    "kernelspec": {
      "name": "python3",
      "display_name": "Python 3"
    },
    "language_info": {
      "name": "python"
    }
  },
  "cells": [
    {
      "cell_type": "markdown",
      "source": [
        "# 4.1 Hoàn thiện function create_train_dataset() để tổ chức dữ liệu bảng 1 vào array 2 chiều như bên dưới"
      ],
      "metadata": {
        "id": "vWWjg6yGo5z9"
      }
    },
    {
      "cell_type": "code",
      "source": [
        "#########################\n",
        "# Create data\n",
        "#########################\n",
        "import numpy as np\n",
        "\n",
        "def create_train_data():\n",
        "  data=[['Sunny','Hot', 'High', 'Weak', 'no'],\n",
        "        ['Sunny','Hot', 'High', 'Strong', 'no'],\n",
        "        ['Overcast','Hot', 'High', 'Weak', 'yes'],\n",
        "        ['Rain','Mild', 'High', 'Weak', 'yes'],\n",
        "        ['Rain','Cool', 'Normal', 'Weak', 'yes'],\n",
        "        ['Rain','Cool', 'Normal', 'Strong', 'no'],\n",
        "        ['Overcast','Cool', 'Normal', 'Strong', 'yes'],\n",
        "        ['Overcast','Mild', 'High', 'Weak', 'no'],\n",
        "        ['Sunny','Cool', 'Normal', 'Weak', 'yes'],\n",
        "        ['Rain','Mild', 'Normal', 'Weak', 'yes']\n",
        "        ]\n",
        "  return np.array(data)"
      ],
      "metadata": {
        "id": "RfD2tr4Ao6b4"
      },
      "execution_count": 1,
      "outputs": []
    },
    {
      "cell_type": "code",
      "source": [
        "#view data\n",
        "train_data = create_train_data()\n",
        "print(train_data)"
      ],
      "metadata": {
        "colab": {
          "base_uri": "https://localhost:8080/"
        },
        "id": "n516pZm9o6fQ",
        "outputId": "5d974f26-a486-4081-e809-0445affd9e1f"
      },
      "execution_count": 2,
      "outputs": [
        {
          "output_type": "stream",
          "name": "stdout",
          "text": [
            "[['Sunny' 'Hot' 'High' 'Weak' 'no']\n",
            " ['Sunny' 'Hot' 'High' 'Strong' 'no']\n",
            " ['Overcast' 'Hot' 'High' 'Weak' 'yes']\n",
            " ['Rain' 'Mild' 'High' 'Weak' 'yes']\n",
            " ['Rain' 'Cool' 'Normal' 'Weak' 'yes']\n",
            " ['Rain' 'Cool' 'Normal' 'Strong' 'no']\n",
            " ['Overcast' 'Cool' 'Normal' 'Strong' 'yes']\n",
            " ['Overcast' 'Mild' 'High' 'Weak' 'no']\n",
            " ['Sunny' 'Cool' 'Normal' 'Weak' 'yes']\n",
            " ['Rain' 'Mild' 'Normal' 'Weak' 'yes']]\n"
          ]
        }
      ]
    },
    {
      "cell_type": "markdown",
      "source": [
        "# 4.2 Hoàn thiện function compute_prior_probability tính P(\"Play Tennis\" = \"Yes\") and tính P(\"Play Tennis\" = \"No\") như bên dưới:"
      ],
      "metadata": {
        "id": "LsoqEiTcqeOv"
      }
    },
    {
      "cell_type": "code",
      "source": [
        "# compute prior probablity\n",
        "def compute_prior_probablity(train_data):\n",
        "  y_unique = ['no', 'yes']\n",
        "  prior_probability = np.zeros(len(y_unique))\n",
        "  for i in range(len(y_unique)):\n",
        "    prior_probability[i] = len(train_data[train_data[:, -1] == y_unique[i]]) / len(train_data)\n",
        "  return prior_probability"
      ],
      "metadata": {
        "id": "RRqWAuUVo6jA"
      },
      "execution_count": 3,
      "outputs": []
    },
    {
      "cell_type": "code",
      "source": [
        "# test function - Câu hỏi 14\n",
        "prior_probablity = compute_prior_probablity(train_data)\n",
        "print(\"P(“Play Tennis” = No)\", prior_probablity[0])\n",
        "print(\"P(“Play Tennis” = Yes)\", prior_probablity[1])"
      ],
      "metadata": {
        "colab": {
          "base_uri": "https://localhost:8080/"
        },
        "id": "oKcvL5O5rMy3",
        "outputId": "282793e2-6bed-4078-f030-ace7725cb74d"
      },
      "execution_count": 8,
      "outputs": [
        {
          "output_type": "stream",
          "name": "stdout",
          "text": [
            "P(“Play Tennis” = No) 0.4\n",
            "P(“Play Tennis” = Yes) 0.6\n"
          ]
        }
      ]
    },
    {
      "cell_type": "markdown",
      "source": [
        "# 4.3 Hoàn thiện function compute_conditional_probability để tính likelihood (The probability of \"A\" being True. Given \"B\" True, P(A|B)) như bên dưới:"
      ],
      "metadata": {
        "id": "UMT0-Uonrtch"
      }
    },
    {
      "cell_type": "code",
      "source": [
        "# compute conditional probability\n",
        "def compute_conditional_probability(train_data):\n",
        "  y_unique = ['no', 'yes']\n",
        "  conditional_probability = []\n",
        "  list_x_name = []\n",
        "  for i in range(0, len(train_data[0]) - 1):\n",
        "    x_unique = np.unique(train_data[:, i])\n",
        "    list_x_name.append(x_unique)\n",
        "    print(x_unique)\n",
        "\n",
        "    x_conditional_probability = np.zeros((len(y_unique), len(x_unique)))\n",
        "    for j in range(len(y_unique)):\n",
        "      for k in range(len(x_unique)):\n",
        "        x_conditional_probability[j, k] = len(train_data[(train_data[:, i] == x_unique[k]) & (train_data[:, -1] == y_unique[j])])/len(train_data[train_data[:, -1] == y_unique[j]])\n",
        "    conditional_probability.append(x_conditional_probability)\n",
        "  return conditional_probability, list_x_name\n"
      ],
      "metadata": {
        "id": "uZnt42Eers1J"
      },
      "execution_count": 5,
      "outputs": []
    },
    {
      "cell_type": "code",
      "source": [
        "# test function - Câu hỏi 15\n",
        "train_data = create_train_data()\n",
        "_, list_x_name  = compute_conditional_probability(train_data)\n",
        "print(\"x1 = \",list_x_name[0])\n",
        "print(\"x2 = \",list_x_name[1])\n",
        "print(\"x3 = \",list_x_name[2])\n",
        "print(\"x4 = \",list_x_name[3])"
      ],
      "metadata": {
        "colab": {
          "base_uri": "https://localhost:8080/"
        },
        "id": "vcH3CmmVrMwh",
        "outputId": "461da92a-11b8-485b-a443-4934dbcd4e19"
      },
      "execution_count": 9,
      "outputs": [
        {
          "output_type": "stream",
          "name": "stdout",
          "text": [
            "['Overcast' 'Rain' 'Sunny']\n",
            "['Cool' 'Hot' 'Mild']\n",
            "['High' 'Normal']\n",
            "['Strong' 'Weak']\n",
            "x1 =  ['Overcast' 'Rain' 'Sunny']\n",
            "x2 =  ['Cool' 'Hot' 'Mild']\n",
            "x3 =  ['High' 'Normal']\n",
            "x4 =  ['Strong' 'Weak']\n"
          ]
        }
      ]
    },
    {
      "cell_type": "markdown",
      "source": [
        "# 4.4 Hoàn thiện function get_index_from_value để tính trả về index tương ứng với feature name:"
      ],
      "metadata": {
        "id": "BjFU0GyTwYvA"
      }
    },
    {
      "cell_type": "code",
      "source": [
        "#This function is used to return the index of the feature name\n",
        "def get_index_from_value(feature_name, list_features):\n",
        "  return np.where(list_features == feature_name)[0][0]"
      ],
      "metadata": {
        "id": "ftbaQMU-rMt4"
      },
      "execution_count": 7,
      "outputs": []
    },
    {
      "cell_type": "code",
      "source": [
        "#test function - Câu hỏi 16\n",
        "train_data = create_train_data()\n",
        "_, list_x_name  = compute_conditional_probability(train_data)\n",
        "outlook = list_x_name[0]\n",
        "i1 = get_index_from_value(\"Overcast\", outlook)\n",
        "i2 = get_index_from_value(\"Rain\", outlook)\n",
        "i3 = get_index_from_value(\"Sunny\", outlook)\n",
        "\n",
        "print(i1, i2, i3)"
      ],
      "metadata": {
        "colab": {
          "base_uri": "https://localhost:8080/"
        },
        "id": "q26EhzgsrMrJ",
        "outputId": "87a9b9a2-f511-406c-d96e-8e36354865b6"
      },
      "execution_count": 10,
      "outputs": [
        {
          "output_type": "stream",
          "name": "stdout",
          "text": [
            "['Overcast' 'Rain' 'Sunny']\n",
            "['Cool' 'Hot' 'Mild']\n",
            "['High' 'Normal']\n",
            "['Strong' 'Weak']\n",
            "0 1 2\n"
          ]
        }
      ]
    },
    {
      "cell_type": "code",
      "source": [
        "# test function - Câu hỏi 17\n",
        "train_data = create_train_data()\n",
        "conditional_probability, list_x_name  = compute_conditional_probability(train_data)\n",
        "# Compute P(\"Outlook\"=\"Sunny\"|Play Tennis\"=\"Yes\")\n",
        "x1=get_index_from_value(\"Sunny\",list_x_name[0])\n",
        "print(\"P('Outlook'='Sunny'|Play Tennis'='Yes') = \", np.round(conditional_probability[0][1, x1],2))"
      ],
      "metadata": {
        "colab": {
          "base_uri": "https://localhost:8080/"
        },
        "id": "s21R0og_rMoW",
        "outputId": "18d055ab-319b-4d71-a373-31d1794d8f0d"
      },
      "execution_count": 11,
      "outputs": [
        {
          "output_type": "stream",
          "name": "stdout",
          "text": [
            "['Overcast' 'Rain' 'Sunny']\n",
            "['Cool' 'Hot' 'Mild']\n",
            "['High' 'Normal']\n",
            "['Strong' 'Weak']\n",
            "P('Outlook'='Sunny'|Play Tennis'='Yes') =  0.17\n"
          ]
        }
      ]
    },
    {
      "cell_type": "code",
      "source": [
        "# test function - Câu hỏi 18\n",
        "train_data = create_train_data()\n",
        "conditional_probability, list_x_name  = compute_conditional_probability(train_data)\n",
        "# Compute P(\"Outlook\"=\"Sunny\"|Play Tennis\"=\"No\")\n",
        "x1=get_index_from_value(\"Sunny\",list_x_name[0])\n",
        "print(\"P('Outlook'='Sunny'|Play Tennis'='No') = \", np.round(conditional_probability[0][0, x1],2))"
      ],
      "metadata": {
        "colab": {
          "base_uri": "https://localhost:8080/"
        },
        "id": "X9XPDIsirMln",
        "outputId": "5a5fe38d-05d1-402b-a580-5c8d772df852"
      },
      "execution_count": 12,
      "outputs": [
        {
          "output_type": "stream",
          "name": "stdout",
          "text": [
            "['Overcast' 'Rain' 'Sunny']\n",
            "['Cool' 'Hot' 'Mild']\n",
            "['High' 'Normal']\n",
            "['Strong' 'Weak']\n",
            "P('Outlook'='Sunny'|Play Tennis'='No') =  0.5\n"
          ]
        }
      ]
    },
    {
      "cell_type": "markdown",
      "source": [
        "# 4.5 Hoàn thiện function train_naive_bayes như bên dưới:"
      ],
      "metadata": {
        "id": "rR55lOQdybRB"
      }
    },
    {
      "cell_type": "code",
      "source": [
        "###########################\n",
        "# Train Naive Bayes Model\n",
        "###########################\n",
        "def train_naive_bayes(train_data):\n",
        "    # Step 1: Calculate Prior Probability\n",
        "    prior_probability = compute_prior_probablity(train_data)\n",
        "\n",
        "    # Step 2: Calculate Conditional Probability\n",
        "    conditional_probability, list_x_name  = compute_conditional_probability(train_data)\n",
        "\n",
        "    return prior_probability,conditional_probability, list_x_name\n"
      ],
      "metadata": {
        "id": "vVK0r09VrMin"
      },
      "execution_count": 14,
      "outputs": []
    },
    {
      "cell_type": "code",
      "source": [
        "# test function\n",
        "data = create_train_data()\n",
        "prior_probability,conditional_probability, list_x_name = train_naive_bayes(data)"
      ],
      "metadata": {
        "colab": {
          "base_uri": "https://localhost:8080/"
        },
        "id": "JGnWvdXBrMfL",
        "outputId": "b95ac9e7-3f7f-4f50-fefb-a0e07ac84f29"
      },
      "execution_count": 15,
      "outputs": [
        {
          "output_type": "stream",
          "name": "stdout",
          "text": [
            "['Overcast' 'Rain' 'Sunny']\n",
            "['Cool' 'Hot' 'Mild']\n",
            "['High' 'Normal']\n",
            "['Strong' 'Weak']\n"
          ]
        }
      ]
    },
    {
      "cell_type": "markdown",
      "source": [
        "# 4.6 Hoàn thiện function prediction_play_tennis để hỗ trợ AD có nên đi chơi tennis vào ngày D11 không"
      ],
      "metadata": {
        "id": "NdQrXWh3zHVp"
      }
    },
    {
      "cell_type": "code",
      "source": [
        "####################\n",
        "# Prediction\n",
        "####################\n",
        "def prediction_play_tennis(X, list_x_name, prior_probability, conditional_probability):\n",
        "\n",
        "    x1=get_index_from_value(X[0],list_x_name[0])\n",
        "    x2=get_index_from_value(X[1],list_x_name[1])\n",
        "    x3=get_index_from_value(X[2],list_x_name[2])\n",
        "    x4=get_index_from_value(X[3],list_x_name[3])\n",
        "\n",
        "    p0 = prior_probability[0] \\\n",
        "    * conditional_probability[0][0, x1] \\\n",
        "    * conditional_probability[1][0, x2] \\\n",
        "    * conditional_probability[2][0, x3] \\\n",
        "    * conditional_probability[3][0, x4]\n",
        "\n",
        "    p1 = prior_probability[1] \\\n",
        "    * conditional_probability[0][1, x1] \\\n",
        "    * conditional_probability[1][1, x2] \\\n",
        "    * conditional_probability[2][1, x3] \\\n",
        "    * conditional_probability[3][1, x4]\n",
        "\n",
        "    if p0 > p1:\n",
        "        y_predict = 0\n",
        "    else:\n",
        "        y_predict = 1\n",
        "\n",
        "    return y_predict"
      ],
      "metadata": {
        "id": "QV2UHis6zHPQ"
      },
      "execution_count": 17,
      "outputs": []
    },
    {
      "cell_type": "code",
      "source": [
        "#test function - Câu hỏi 19\n",
        "X = ['Sunny','Cool', 'High', 'Strong']\n",
        "data = create_train_data()\n",
        "prior_probability,conditional_probability, list_x_name = train_naive_bayes(data)\n",
        "pred =  prediction_play_tennis(X, list_x_name, prior_probability, conditional_probability)\n",
        "\n",
        "if(pred):\n",
        "  print(\"Ad should go!\")\n",
        "else:\n",
        "  print(\"Ad should not go!\")"
      ],
      "metadata": {
        "colab": {
          "base_uri": "https://localhost:8080/"
        },
        "id": "O_KjAVMXzHMe",
        "outputId": "21ea6fc5-447a-4cbe-c119-9b7ea1a09c59"
      },
      "execution_count": 18,
      "outputs": [
        {
          "output_type": "stream",
          "name": "stdout",
          "text": [
            "['Overcast' 'Rain' 'Sunny']\n",
            "['Cool' 'Hot' 'Mild']\n",
            "['High' 'Normal']\n",
            "['Strong' 'Weak']\n",
            "Ad should not go!\n"
          ]
        }
      ]
    },
    {
      "cell_type": "markdown",
      "source": [
        "# IRIS CLASSIFIER IMPLEMENTATION"
      ],
      "metadata": {
        "id": "6H9XUUns1h-2"
      }
    },
    {
      "cell_type": "code",
      "source": [
        "%cd /content/drive/MyDrive/Colab Notebooks/data"
      ],
      "metadata": {
        "colab": {
          "base_uri": "https://localhost:8080/"
        },
        "id": "fyFou5w5zHJs",
        "outputId": "6e998b45-fcb7-4f33-f520-b7b16a6af4e6"
      },
      "execution_count": 19,
      "outputs": [
        {
          "output_type": "stream",
          "name": "stdout",
          "text": [
            "/content/drive/MyDrive/Colab Notebooks/data\n"
          ]
        }
      ]
    },
    {
      "cell_type": "code",
      "source": [
        "!gdown '1z7hStO6RCOlVmo-YE0O1hwQ2swItvCPa'"
      ],
      "metadata": {
        "colab": {
          "base_uri": "https://localhost:8080/"
        },
        "id": "xWxpcISzzHG5",
        "outputId": "044b7a0b-e25d-4c81-d90c-22b3f2364144"
      },
      "execution_count": 20,
      "outputs": [
        {
          "output_type": "stream",
          "name": "stdout",
          "text": [
            "Downloading...\n",
            "From: https://drive.google.com/uc?id=1z7hStO6RCOlVmo-YE0O1hwQ2swItvCPa\n",
            "To: /content/drive/MyDrive/Colab Notebooks/data/iris.data.txt\n",
            "\r  0% 0.00/4.70k [00:00<?, ?B/s]\r100% 4.70k/4.70k [00:00<00:00, 15.3MB/s]\n"
          ]
        }
      ]
    },
    {
      "cell_type": "code",
      "source": [
        "# create train data iris\n",
        "def create_train_data_iris():\n",
        "  data = np.loadtxt(\"./data/iris.data.txt\", delimiter=\",\", dtype=str)\n",
        "  return data"
      ],
      "metadata": {
        "id": "p5Bot82-zHED"
      },
      "execution_count": 23,
      "outputs": []
    },
    {
      "cell_type": "code",
      "source": [
        "%cd .."
      ],
      "metadata": {
        "colab": {
          "base_uri": "https://localhost:8080/"
        },
        "id": "wZCPLsw75ict",
        "outputId": "8c37ee2d-f998-4be2-d137-d9747564d723"
      },
      "execution_count": 26,
      "outputs": [
        {
          "output_type": "stream",
          "name": "stdout",
          "text": [
            "/content/drive/MyDrive/Colab Notebooks\n"
          ]
        }
      ]
    },
    {
      "cell_type": "code",
      "source": [
        "#view data\n",
        "train_data_iris = create_train_data_iris()\n",
        "print(train_data_iris)"
      ],
      "metadata": {
        "colab": {
          "base_uri": "https://localhost:8080/"
        },
        "id": "zIYGNqgGzHBA",
        "outputId": "8350cad3-4c16-4493-fff8-1f8ca6fba85a"
      },
      "execution_count": 27,
      "outputs": [
        {
          "output_type": "stream",
          "name": "stdout",
          "text": [
            "[['5.1' '3.5' '1.4' '0.2' 'Iris-setosa']\n",
            " ['4.9' '3.0' '1.4' '0.2' 'Iris-setosa']\n",
            " ['4.7' '3.2' '1.3' '0.2' 'Iris-setosa']\n",
            " ['4.6' '3.1' '1.5' '0.2' 'Iris-setosa']\n",
            " ['5.0' '3.6' '1.4' '0.2' 'Iris-setosa']\n",
            " ['5.4' '3.9' '1.7' '0.4' 'Iris-setosa']\n",
            " ['4.6' '3.4' '1.4' '0.3' 'Iris-setosa']\n",
            " ['5.0' '3.4' '1.5' '0.2' 'Iris-setosa']\n",
            " ['4.4' '2.9' '1.4' '0.2' 'Iris-setosa']\n",
            " ['4.9' '3.1' '1.5' '0.1' 'Iris-setosa']\n",
            " ['5.4' '3.7' '1.5' '0.2' 'Iris-setosa']\n",
            " ['4.8' '3.4' '1.6' '0.2' 'Iris-setosa']\n",
            " ['4.8' '3.0' '1.4' '0.1' 'Iris-setosa']\n",
            " ['4.3' '3.0' '1.1' '0.1' 'Iris-setosa']\n",
            " ['5.8' '4.0' '1.2' '0.2' 'Iris-setosa']\n",
            " ['5.7' '4.4' '1.5' '0.4' 'Iris-setosa']\n",
            " ['5.4' '3.9' '1.3' '0.4' 'Iris-setosa']\n",
            " ['5.1' '3.5' '1.4' '0.3' 'Iris-setosa']\n",
            " ['5.7' '3.8' '1.7' '0.3' 'Iris-setosa']\n",
            " ['5.1' '3.8' '1.5' '0.3' 'Iris-setosa']\n",
            " ['5.4' '3.4' '1.7' '0.2' 'Iris-setosa']\n",
            " ['5.1' '3.7' '1.5' '0.4' 'Iris-setosa']\n",
            " ['4.6' '3.6' '1.0' '0.2' 'Iris-setosa']\n",
            " ['5.1' '3.3' '1.7' '0.5' 'Iris-setosa']\n",
            " ['4.8' '3.4' '1.9' '0.2' 'Iris-setosa']\n",
            " ['5.0' '3.0' '1.6' '0.2' 'Iris-setosa']\n",
            " ['5.0' '3.4' '1.6' '0.4' 'Iris-setosa']\n",
            " ['5.2' '3.5' '1.5' '0.2' 'Iris-setosa']\n",
            " ['5.2' '3.4' '1.4' '0.2' 'Iris-setosa']\n",
            " ['4.7' '3.2' '1.6' '0.2' 'Iris-setosa']\n",
            " ['4.8' '3.1' '1.6' '0.2' 'Iris-setosa']\n",
            " ['5.4' '3.4' '1.5' '0.4' 'Iris-setosa']\n",
            " ['5.2' '4.1' '1.5' '0.1' 'Iris-setosa']\n",
            " ['5.5' '4.2' '1.4' '0.2' 'Iris-setosa']\n",
            " ['4.9' '3.1' '1.5' '0.1' 'Iris-setosa']\n",
            " ['5.0' '3.2' '1.2' '0.2' 'Iris-setosa']\n",
            " ['5.5' '3.5' '1.3' '0.2' 'Iris-setosa']\n",
            " ['4.9' '3.1' '1.5' '0.1' 'Iris-setosa']\n",
            " ['4.4' '3.0' '1.3' '0.2' 'Iris-setosa']\n",
            " ['5.1' '3.4' '1.5' '0.2' 'Iris-setosa']\n",
            " ['5.0' '3.5' '1.3' '0.3' 'Iris-setosa']\n",
            " ['4.5' '2.3' '1.3' '0.3' 'Iris-setosa']\n",
            " ['4.4' '3.2' '1.3' '0.2' 'Iris-setosa']\n",
            " ['5.0' '3.5' '1.6' '0.6' 'Iris-setosa']\n",
            " ['5.1' '3.8' '1.9' '0.4' 'Iris-setosa']\n",
            " ['4.8' '3.0' '1.4' '0.3' 'Iris-setosa']\n",
            " ['5.1' '3.8' '1.6' '0.2' 'Iris-setosa']\n",
            " ['4.6' '3.2' '1.4' '0.2' 'Iris-setosa']\n",
            " ['5.3' '3.7' '1.5' '0.2' 'Iris-setosa']\n",
            " ['5.0' '3.3' '1.4' '0.2' 'Iris-setosa']\n",
            " ['7.0' '3.2' '4.7' '1.4' 'Iris-versicolor']\n",
            " ['6.4' '3.2' '4.5' '1.5' 'Iris-versicolor']\n",
            " ['6.9' '3.1' '4.9' '1.5' 'Iris-versicolor']\n",
            " ['5.5' '2.3' '4.0' '1.3' 'Iris-versicolor']\n",
            " ['6.5' '2.8' '4.6' '1.5' 'Iris-versicolor']\n",
            " ['5.7' '2.8' '4.5' '1.3' 'Iris-versicolor']\n",
            " ['6.3' '3.3' '4.7' '1.6' 'Iris-versicolor']\n",
            " ['4.9' '2.4' '3.3' '1.0' 'Iris-versicolor']\n",
            " ['6.6' '2.9' '4.6' '1.3' 'Iris-versicolor']\n",
            " ['5.2' '2.7' '3.9' '1.4' 'Iris-versicolor']\n",
            " ['5.0' '2.0' '3.5' '1.0' 'Iris-versicolor']\n",
            " ['5.9' '3.0' '4.2' '1.5' 'Iris-versicolor']\n",
            " ['6.0' '2.2' '4.0' '1.0' 'Iris-versicolor']\n",
            " ['6.1' '2.9' '4.7' '1.4' 'Iris-versicolor']\n",
            " ['5.6' '2.9' '3.6' '1.3' 'Iris-versicolor']\n",
            " ['6.7' '3.1' '4.4' '1.4' 'Iris-versicolor']\n",
            " ['5.6' '3.0' '4.5' '1.5' 'Iris-versicolor']\n",
            " ['5.8' '2.7' '4.1' '1.0' 'Iris-versicolor']\n",
            " ['6.2' '2.2' '4.5' '1.5' 'Iris-versicolor']\n",
            " ['5.6' '2.5' '3.9' '1.1' 'Iris-versicolor']\n",
            " ['5.9' '3.2' '4.8' '1.8' 'Iris-versicolor']\n",
            " ['6.1' '2.8' '4.0' '1.3' 'Iris-versicolor']\n",
            " ['6.3' '2.5' '4.9' '1.5' 'Iris-versicolor']\n",
            " ['6.1' '2.8' '4.7' '1.2' 'Iris-versicolor']\n",
            " ['6.4' '2.9' '4.3' '1.3' 'Iris-versicolor']\n",
            " ['6.6' '3.0' '4.4' '1.4' 'Iris-versicolor']\n",
            " ['6.8' '2.8' '4.8' '1.4' 'Iris-versicolor']\n",
            " ['6.7' '3.0' '5.0' '1.7' 'Iris-versicolor']\n",
            " ['6.0' '2.9' '4.5' '1.5' 'Iris-versicolor']\n",
            " ['5.7' '2.6' '3.5' '1.0' 'Iris-versicolor']\n",
            " ['5.5' '2.4' '3.8' '1.1' 'Iris-versicolor']\n",
            " ['5.5' '2.4' '3.7' '1.0' 'Iris-versicolor']\n",
            " ['5.8' '2.7' '3.9' '1.2' 'Iris-versicolor']\n",
            " ['6.0' '2.7' '5.1' '1.6' 'Iris-versicolor']\n",
            " ['5.4' '3.0' '4.5' '1.5' 'Iris-versicolor']\n",
            " ['6.0' '3.4' '4.5' '1.6' 'Iris-versicolor']\n",
            " ['6.7' '3.1' '4.7' '1.5' 'Iris-versicolor']\n",
            " ['6.3' '2.3' '4.4' '1.3' 'Iris-versicolor']\n",
            " ['5.6' '3.0' '4.1' '1.3' 'Iris-versicolor']\n",
            " ['5.5' '2.5' '4.0' '1.3' 'Iris-versicolor']\n",
            " ['5.5' '2.6' '4.4' '1.2' 'Iris-versicolor']\n",
            " ['6.1' '3.0' '4.6' '1.4' 'Iris-versicolor']\n",
            " ['5.8' '2.6' '4.0' '1.2' 'Iris-versicolor']\n",
            " ['5.0' '2.3' '3.3' '1.0' 'Iris-versicolor']\n",
            " ['5.6' '2.7' '4.2' '1.3' 'Iris-versicolor']\n",
            " ['5.7' '3.0' '4.2' '1.2' 'Iris-versicolor']\n",
            " ['5.7' '2.9' '4.2' '1.3' 'Iris-versicolor']\n",
            " ['6.2' '2.9' '4.3' '1.3' 'Iris-versicolor']\n",
            " ['5.1' '2.5' '3.0' '1.1' 'Iris-versicolor']\n",
            " ['5.7' '2.8' '4.1' '1.3' 'Iris-versicolor']\n",
            " ['6.3' '3.3' '6.0' '2.5' 'Iris-virginica']\n",
            " ['5.8' '2.7' '5.1' '1.9' 'Iris-virginica']\n",
            " ['7.1' '3.0' '5.9' '2.1' 'Iris-virginica']\n",
            " ['6.3' '2.9' '5.6' '1.8' 'Iris-virginica']\n",
            " ['6.5' '3.0' '5.8' '2.2' 'Iris-virginica']\n",
            " ['7.6' '3.0' '6.6' '2.1' 'Iris-virginica']\n",
            " ['4.9' '2.5' '4.5' '1.7' 'Iris-virginica']\n",
            " ['7.3' '2.9' '6.3' '1.8' 'Iris-virginica']\n",
            " ['6.7' '2.5' '5.8' '1.8' 'Iris-virginica']\n",
            " ['7.2' '3.6' '6.1' '2.5' 'Iris-virginica']\n",
            " ['6.5' '3.2' '5.1' '2.0' 'Iris-virginica']\n",
            " ['6.4' '2.7' '5.3' '1.9' 'Iris-virginica']\n",
            " ['6.8' '3.0' '5.5' '2.1' 'Iris-virginica']\n",
            " ['5.7' '2.5' '5.0' '2.0' 'Iris-virginica']\n",
            " ['5.8' '2.8' '5.1' '2.4' 'Iris-virginica']\n",
            " ['6.4' '3.2' '5.3' '2.3' 'Iris-virginica']\n",
            " ['6.5' '3.0' '5.5' '1.8' 'Iris-virginica']\n",
            " ['7.7' '3.8' '6.7' '2.2' 'Iris-virginica']\n",
            " ['7.7' '2.6' '6.9' '2.3' 'Iris-virginica']\n",
            " ['6.0' '2.2' '5.0' '1.5' 'Iris-virginica']\n",
            " ['6.9' '3.2' '5.7' '2.3' 'Iris-virginica']\n",
            " ['5.6' '2.8' '4.9' '2.0' 'Iris-virginica']\n",
            " ['7.7' '2.8' '6.7' '2.0' 'Iris-virginica']\n",
            " ['6.3' '2.7' '4.9' '1.8' 'Iris-virginica']\n",
            " ['6.7' '3.3' '5.7' '2.1' 'Iris-virginica']\n",
            " ['7.2' '3.2' '6.0' '1.8' 'Iris-virginica']\n",
            " ['6.2' '2.8' '4.8' '1.8' 'Iris-virginica']\n",
            " ['6.1' '3.0' '4.9' '1.8' 'Iris-virginica']\n",
            " ['6.4' '2.8' '5.6' '2.1' 'Iris-virginica']\n",
            " ['7.2' '3.0' '5.8' '1.6' 'Iris-virginica']\n",
            " ['7.4' '2.8' '6.1' '1.9' 'Iris-virginica']\n",
            " ['7.9' '3.8' '6.4' '2.0' 'Iris-virginica']\n",
            " ['6.4' '2.8' '5.6' '2.2' 'Iris-virginica']\n",
            " ['6.3' '2.8' '5.1' '1.5' 'Iris-virginica']\n",
            " ['6.1' '2.6' '5.6' '1.4' 'Iris-virginica']\n",
            " ['7.7' '3.0' '6.1' '2.3' 'Iris-virginica']\n",
            " ['6.3' '3.4' '5.6' '2.4' 'Iris-virginica']\n",
            " ['6.4' '3.1' '5.5' '1.8' 'Iris-virginica']\n",
            " ['6.0' '3.0' '4.8' '1.8' 'Iris-virginica']\n",
            " ['6.9' '3.1' '5.4' '2.1' 'Iris-virginica']\n",
            " ['6.7' '3.1' '5.6' '2.4' 'Iris-virginica']\n",
            " ['6.9' '3.1' '5.1' '2.3' 'Iris-virginica']\n",
            " ['5.8' '2.7' '5.1' '1.9' 'Iris-virginica']\n",
            " ['6.8' '3.2' '5.9' '2.3' 'Iris-virginica']\n",
            " ['6.7' '3.3' '5.7' '2.5' 'Iris-virginica']\n",
            " ['6.7' '3.0' '5.2' '2.3' 'Iris-virginica']\n",
            " ['6.3' '2.5' '5.0' '1.9' 'Iris-virginica']\n",
            " ['6.5' '3.0' '5.2' '2.0' 'Iris-virginica']\n",
            " ['6.2' '3.4' '5.4' '2.3' 'Iris-virginica']\n",
            " ['5.9' '3.0' '5.1' '1.8' 'Iris-virginica']]\n"
          ]
        }
      ]
    },
    {
      "cell_type": "markdown",
      "source": [],
      "metadata": {
        "id": "YzizYg5no5M9"
      }
    },
    {
      "cell_type": "code",
      "source": [
        "#compute prior probablity iris\n",
        "def compute_prior_probablity_iris(train_data):\n",
        "  y_unique = np.unique(train_data[:, -1])\n",
        "  prior_probability = np.zeros(len(y_unique))\n",
        "  for i in range(len(y_unique)):\n",
        "    prior_probability[i] = len(train_data[train_data[:, -1] == y_unique[i]]) / len(train_data)\n",
        "  return prior_probability"
      ],
      "metadata": {
        "id": "TsSyJ6TH569I"
      },
      "execution_count": 29,
      "outputs": []
    },
    {
      "cell_type": "code",
      "source": [
        "# compute conditional probability iris\n",
        "import numpy as np\n",
        "\n",
        "def compute_conditional_probability_iris(train_data):\n",
        "  y_unique = np.unique(train_data[:, -1])\n",
        "  conditional_probability = []\n",
        "  list_x_name = []\n",
        "  for i in range(0, len(train_data[0]) - 1):\n",
        "    x_conditional_probability_iris = np.zeros((len(y_unique),2))\n",
        "    for j in range(0,len(y_unique)):\n",
        "      mean = np.mean(train_data[train_data[:, -1] == y_unique[j], i].astype(float))\n",
        "      std = np.std(train_data[train_data[:, -1] == y_unique[j], i].astype(float))\n",
        "      x_conditional_probability_iris[j, 0] = mean\n",
        "      x_conditional_probability_iris[j, 1] = std\n",
        "    conditional_probability.append(x_conditional_probability_iris)\n",
        "  return conditional_probability\n"
      ],
      "metadata": {
        "id": "zEsEfgCn566S"
      },
      "execution_count": 33,
      "outputs": []
    },
    {
      "cell_type": "code",
      "source": [
        "import math\n",
        "#Define the Gaussian function\n",
        "def gauss(x, mean, sigma):\n",
        "  result = (1/(math.sqrt(2*math.pi)*sigma))\\\n",
        "  *(math.exp(-((x-mean)**2)/(2*sigma**2)))\n",
        "  return result"
      ],
      "metadata": {
        "id": "jJMo1ygM563N"
      },
      "execution_count": 30,
      "outputs": []
    },
    {
      "cell_type": "code",
      "source": [
        "#train gaussian naive bayes\n",
        "def train_gaussian_naive_bayes(train_data):\n",
        "    # Step 1: Calculate Prior Probability\n",
        "    prior_probability = compute_prior_probablity_iris(train_data)\n",
        "\n",
        "    # Step 2: Calculate Conditional Probability\n",
        "    conditional_probability = compute_conditional_probability_iris(train_data)\n",
        "    return prior_probability,conditional_probability"
      ],
      "metadata": {
        "id": "tYrURJYL56z6"
      },
      "execution_count": 31,
      "outputs": []
    },
    {
      "cell_type": "code",
      "source": [
        "# prediction iris\n",
        "def prediction_iris(X,  prior_probability, conditional_probability):\n",
        "    p0=prior_probability[0] \\\n",
        "    *gauss(X[0], conditional_probability[0][0][0],conditional_probability[0][0][1])  \\\n",
        "    *gauss(X[1], conditional_probability[1][0][0],conditional_probability[1][0][1])  \\\n",
        "    *gauss(X[2], conditional_probability[2][0][0],conditional_probability[2][0][1])  \\\n",
        "    *gauss(X[3], conditional_probability[3][0][0],conditional_probability[3][0][1])\n",
        "\n",
        "    p1=prior_probability[1] \\\n",
        "    *gauss(X[0], conditional_probability[0][1][0],conditional_probability[0][1][1])  \\\n",
        "    *gauss(X[1], conditional_probability[1][1][0],conditional_probability[1][1][1])  \\\n",
        "    *gauss(X[2], conditional_probability[2][1][0],conditional_probability[2][1][1])  \\\n",
        "    *gauss(X[3], conditional_probability[3][1][0],conditional_probability[3][1][1])\n",
        "\n",
        "    p2=prior_probability[2] \\\n",
        "    *gauss(X[0], conditional_probability[0][2][0],conditional_probability[0][2][1])  \\\n",
        "    *gauss(X[1], conditional_probability[1][2][0],conditional_probability[1][2][1])  \\\n",
        "    *gauss(X[2], conditional_probability[2][2][0],conditional_probability[2][2][1])  \\\n",
        "    *gauss(X[3], conditional_probability[3][2][0],conditional_probability[3][2][1])\n",
        "\n",
        "    list_p = [p0,p1,p2]\n",
        "    y_predict = np.argmax(list_p)\n",
        "    return y_predict\n"
      ],
      "metadata": {
        "id": "GD_KyPVW56wj"
      },
      "execution_count": 35,
      "outputs": []
    },
    {
      "cell_type": "code",
      "source": [
        "#Example 1 #########################\n",
        "X = [6.3 , 3.3, 6.0,  2.5]\n",
        "train_data = create_train_data_iris()\n",
        "y_unique = np.unique(train_data[:,4])\n",
        "prior_probability, conditional_probability = train_gaussian_naive_bayes(train_data)\n",
        "pred = y_unique[prediction_iris(X, prior_probability, conditional_probability)]\n",
        "print(pred)\n",
        "assert pred == \"Iris-virginica\""
      ],
      "metadata": {
        "colab": {
          "base_uri": "https://localhost:8080/"
        },
        "id": "VgVyOFvWInBm",
        "outputId": "6cf27722-8b6a-4376-f07d-4dd010d4fafa"
      },
      "execution_count": 37,
      "outputs": [
        {
          "output_type": "stream",
          "name": "stdout",
          "text": [
            "Iris-virginica\n"
          ]
        }
      ]
    },
    {
      "cell_type": "code",
      "source": [
        "#Example 2 #########################\n",
        "X = [5.0,2.0,3.5,1.0]\n",
        "train_data = create_train_data_iris()\n",
        "y_unique = np.unique(train_data[:,4])\n",
        "prior_probability, conditional_probability = train_gaussian_naive_bayes(train_data)\n",
        "pred = y_unique[prediction_iris(X, prior_probability, conditional_probability)]\n",
        "print(pred)\n",
        "assert pred == \"Iris-versicolor\""
      ],
      "metadata": {
        "colab": {
          "base_uri": "https://localhost:8080/"
        },
        "id": "7f4liebsIm_A",
        "outputId": "2437ae01-fd20-408c-d5af-b1ae8b6b34ed"
      },
      "execution_count": 38,
      "outputs": [
        {
          "output_type": "stream",
          "name": "stdout",
          "text": [
            "Iris-versicolor\n"
          ]
        }
      ]
    },
    {
      "cell_type": "code",
      "source": [
        "#Example 3 #########################\n",
        "# X =[sepal length, sepal width, petal length, petal width]\n",
        "X = [4.9,3.1,1.5,0.1]\n",
        "train_data = create_train_data_iris()\n",
        "y_unique = np.unique(train_data[:,4])\n",
        "prior_probability, conditional_probability = train_gaussian_naive_bayes(train_data)\n",
        "pred = y_unique[prediction_iris(X, prior_probability, conditional_probability)]\n",
        "print(pred)\n",
        "assert pred == \"Iris-setosa\""
      ],
      "metadata": {
        "colab": {
          "base_uri": "https://localhost:8080/"
        },
        "id": "ExoL-bd_Im8A",
        "outputId": "d67746c3-0450-4cfa-9ffa-fc694fe6922e"
      },
      "execution_count": 39,
      "outputs": [
        {
          "output_type": "stream",
          "name": "stdout",
          "text": [
            "Iris-setosa\n"
          ]
        }
      ]
    },
    {
      "cell_type": "code",
      "source": [],
      "metadata": {
        "id": "7LscxVRbIm49"
      },
      "execution_count": null,
      "outputs": []
    },
    {
      "cell_type": "code",
      "source": [],
      "metadata": {
        "id": "LAH16IyoIm19"
      },
      "execution_count": null,
      "outputs": []
    }
  ]
}