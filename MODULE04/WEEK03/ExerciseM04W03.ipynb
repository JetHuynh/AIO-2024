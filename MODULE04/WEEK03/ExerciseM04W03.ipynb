{
  "nbformat": 4,
  "nbformat_minor": 0,
  "metadata": {
    "colab": {
      "provenance": []
    },
    "kernelspec": {
      "name": "python3",
      "display_name": "Python 3"
    },
    "language_info": {
      "name": "python"
    }
  },
  "cells": [
    {
      "cell_type": "markdown",
      "source": [
        "# Genetic Algorithm and Its Applications"
      ],
      "metadata": {
        "id": "05pdgmq9pA_p"
      }
    },
    {
      "cell_type": "code",
      "execution_count": 5,
      "metadata": {
        "colab": {
          "base_uri": "https://localhost:8080/"
        },
        "id": "4Vqn2wu6oEFj",
        "outputId": "44bd51bc-4f40-4d06-f9ce-681da1be5678"
      },
      "outputs": [
        {
          "output_type": "stream",
          "name": "stdout",
          "text": [
            "/content/drive/MyDrive/Colab Notebooks/MODULE04\n"
          ]
        }
      ],
      "source": [
        "%cd /content/drive/MyDrive/Colab Notebooks/MODULE04"
      ]
    },
    {
      "cell_type": "markdown",
      "source": [
        "# Bài tập 1. Kỹ thuật đọc và xử lý dữ liệu từ file .csv\n",
        "Hãy hoàn thành function load_data_from_file() trả về dữ liệu đã được tổ chức (features_X cho input và sales_Y cho output)."
      ],
      "metadata": {
        "id": "OC-9U0tQ0Q4f"
      }
    },
    {
      "cell_type": "code",
      "source": [
        "# aivietnam.ai - advertising\n",
        "import numpy as np\n",
        "# from numpy import genfromtxt\n",
        "import matplotlib.pyplot as plt\n",
        "import random\n",
        "random.seed(0) # please do not remove this line\n",
        "%matplotlib inline\n",
        "\n",
        "def load_data_from_file(fileName = \"data/ga_advertising.csv\"):\n",
        "  data = np.genfromtxt(fileName, dtype=None, delimiter=',', skip_header=1)\n",
        "  features_X = data[:, :3]\n",
        "  sales_Y = data[:, 3]\n",
        "\n",
        "  # **************** your code here ****************\n",
        "  intercept = np.ones((features_X.shape[0], 1))\n",
        "  features_X = np.concatenate((intercept, features_X), axis=1)\n",
        "\n",
        "  return features_X, sales_Y\n"
      ],
      "metadata": {
        "id": "YIG5WQLvpFAF"
      },
      "execution_count": 6,
      "outputs": []
    },
    {
      "cell_type": "code",
      "source": [
        "#Question 2\n",
        "features_X, _ = load_data_from_file()\n",
        "print(features_X[:5,:])"
      ],
      "metadata": {
        "colab": {
          "base_uri": "https://localhost:8080/"
        },
        "id": "YyP6F9OApFDT",
        "outputId": "09a1cf42-43a2-4242-d6d3-f04ef473ed26"
      },
      "execution_count": 7,
      "outputs": [
        {
          "output_type": "stream",
          "name": "stdout",
          "text": [
            "[[  1.  230.1  37.8  69.2]\n",
            " [  1.   44.5  39.3  45.1]\n",
            " [  1.   17.2  45.9  69.3]\n",
            " [  1.  151.5  41.3  58.5]\n",
            " [  1.  180.8  10.8  58.4]]\n"
          ]
        }
      ]
    },
    {
      "cell_type": "code",
      "source": [
        "#Question 3\n",
        "_, sales_Y = load_data_from_file()\n",
        "print(sales_Y.shape)"
      ],
      "metadata": {
        "colab": {
          "base_uri": "https://localhost:8080/"
        },
        "id": "8kDDUfsOpFFy",
        "outputId": "76f798d6-b3e6-42b7-aad2-c73472b4e75f"
      },
      "execution_count": 8,
      "outputs": [
        {
          "output_type": "stream",
          "name": "stdout",
          "text": [
            "(200,)\n"
          ]
        }
      ]
    },
    {
      "cell_type": "markdown",
      "source": [
        "# Bài tập 2. Kỹ thuật khởi tạo giá trị cho từng gene trong chromosome (individual), tạo ra các giá trị ngẫu nhiên cho một cá thể (tham số theta của mô hình)\n",
        "Hãy hoàn thiện function create_individual(n,bound) để khởi tạo ngẫu nhiên giá trị của n genes (tham số θi) trong chromosome với giá trị từng gene được khởi tạo [-bound/2, bound/2]"
      ],
      "metadata": {
        "id": "pXtjW3AO0oQm"
      }
    },
    {
      "cell_type": "code",
      "source": [
        "def generate_random_value(bound = 10):\n",
        "  return (random.random() - 0.5)*bound\n",
        "\n",
        "def create_individual(n=4, bound=10):\n",
        "  # **************** your code here ****************\n",
        "  individual = np.array([generate_random_value(bound) for i in range(n)])\n",
        "  return individual"
      ],
      "metadata": {
        "id": "qaJAmyhvpFI6"
      },
      "execution_count": 9,
      "outputs": []
    },
    {
      "cell_type": "code",
      "source": [
        "individual = create_individual()\n",
        "print(individual)"
      ],
      "metadata": {
        "colab": {
          "base_uri": "https://localhost:8080/"
        },
        "id": "9Sh_rN58pFME",
        "outputId": "4f562bae-9d4c-4e25-84a8-5d0c0ed26138"
      },
      "execution_count": 10,
      "outputs": [
        {
          "output_type": "stream",
          "name": "stdout",
          "text": [
            "[ 3.44421852  2.57954403 -0.79428419 -2.4108325 ]\n"
          ]
        }
      ]
    },
    {
      "cell_type": "markdown",
      "source": [
        "# Bài tập 3. Kỹ thuật xây dựng fitness function để đánh giá fitness score cho từng chromosome\n",
        "Hãy hoàn thiện function compute_fitness(individual) để tính fitness values của một chromosome bằng cách nghịch đảo giá trị của hàm loss theo công thức fitness = 1 / (loss + 1). Hàm compute_fitness(individual) đánh giá độ tốt của một cá thể. Giá trị càng lớn thì cá thể càng tốt"
      ],
      "metadata": {
        "id": "QkxzUoWg6qCY"
      }
    },
    {
      "cell_type": "code",
      "source": [
        "def compute_loss(individual):\n",
        "  theta = np.array(individual)\n",
        "  y_hat = features_X.dot(theta)\n",
        "  loss  = np.multiply((y_hat-sales_Y), (y_hat-sales_Y)).mean()\n",
        "  return loss\n",
        "\n",
        "def compute_fitness(individual):\n",
        "  # **************** your code here ****************\n",
        "  loss = compute_loss(individual)\n",
        "  fitness = 1 / (loss + 1)\n",
        "  return fitness"
      ],
      "metadata": {
        "id": "X0hyi2z4pFOf"
      },
      "execution_count": 11,
      "outputs": []
    },
    {
      "cell_type": "code",
      "source": [
        "#question 4\n",
        "features_X, sales_Y = load_data_from_file()\n",
        "individual = [4.09, 4.82, 3.10, 4.02]\n",
        "fitness_score = compute_fitness(individual)\n",
        "print(fitness_score)"
      ],
      "metadata": {
        "colab": {
          "base_uri": "https://localhost:8080/"
        },
        "id": "0WyzxJPDpFRj",
        "outputId": "977d9ad6-830c-4f59-f2f5-ce403ea00c9c"
      },
      "execution_count": 12,
      "outputs": [
        {
          "output_type": "stream",
          "name": "stdout",
          "text": [
            "1.0185991537088997e-06\n"
          ]
        }
      ]
    },
    {
      "cell_type": "markdown",
      "source": [
        "# Bài tập 4. Kỹ thuật thực hiện crossover giữa 2 chromosomes\n",
        "Hãy hoàn thiện function crossover(individual1, individual2, crossover_rate = 0.9) để thực hiện crossover giữa 2 individual (chromosome). Bước này, thực hiện việc lai tạo (trao đổi gen) giữa 2 individual với tỉ lệ crossover_rate"
      ],
      "metadata": {
        "id": "ibzNAqHw9KC0"
      }
    },
    {
      "cell_type": "code",
      "source": [
        "def crossover(individual1, individual2, crossover_rate = 0.9):\n",
        "  individual1_new = individual1.copy()\n",
        "  individual2_new = individual2.copy()\n",
        "\n",
        "  # **************** your code here ****************\n",
        "  for i in range(len(individual1)):\n",
        "    if random.random() < crossover_rate:\n",
        "      individual1_new[i], individual2_new[i] = individual2_new[i], individual1_new[i]\n",
        "\n",
        "  return individual1_new, individual2_new"
      ],
      "metadata": {
        "id": "OjX3kdwypFUi"
      },
      "execution_count": 13,
      "outputs": []
    },
    {
      "cell_type": "code",
      "source": [
        "#question 5\n",
        "individual1 = [4.09, 4.82, 3.10, 4.02]\n",
        "individual2 = [3.44, 2.57, -0.79, -2.41]\n",
        "\n",
        "individual1, individual2 = crossover(individual1, individual2, 2.0)\n",
        "print(\"individual1: \", individual1)\n",
        "print(\"individual2: \", individual2)"
      ],
      "metadata": {
        "colab": {
          "base_uri": "https://localhost:8080/"
        },
        "id": "1IIs7QDY9fhQ",
        "outputId": "c2077663-9a20-46a1-8fe5-fc2673dd0fd6"
      },
      "execution_count": 14,
      "outputs": [
        {
          "output_type": "stream",
          "name": "stdout",
          "text": [
            "individual1:  [3.44, 2.57, -0.79, -2.41]\n",
            "individual2:  [4.09, 4.82, 3.1, 4.02]\n"
          ]
        }
      ]
    },
    {
      "cell_type": "markdown",
      "source": [
        "# Bài tập 5. Kỹ thuật mutation với chromosome\n",
        "Hãy hoàn thiện function mutate(individual, mutation_rate = 0.05) để thực hiện việc đột biến cho một cá thể với tỉ lệ đột biến là mutation_rate."
      ],
      "metadata": {
        "id": "sQ1fIIPG_wHQ"
      }
    },
    {
      "cell_type": "code",
      "source": [
        "def mutate(individual, mutation_rate = 0.05):\n",
        "  individual_m = individual.copy()\n",
        "\n",
        "  # **************** your code here ****************\n",
        "  for i in range(len(individual)):\n",
        "    if random.random() < mutation_rate:\n",
        "      individual_m[i] = generate_random_value()\n",
        "\n",
        "  return individual_m"
      ],
      "metadata": {
        "id": "7SEvqh5X9fkr"
      },
      "execution_count": 15,
      "outputs": []
    },
    {
      "cell_type": "code",
      "source": [
        "#Question 6\n",
        "before_individual = [4.09, 4.82, 3.10, 4.02]\n",
        "after_individual = mutate(individual, mutation_rate = 2.0)\n",
        "print(before_individual == after_individual)"
      ],
      "metadata": {
        "colab": {
          "base_uri": "https://localhost:8080/"
        },
        "id": "deC1LByt9fn9",
        "outputId": "066d7acc-f984-4fbd-c14f-89f9a82b4809"
      },
      "execution_count": 16,
      "outputs": [
        {
          "output_type": "stream",
          "name": "stdout",
          "text": [
            "False\n"
          ]
        }
      ]
    },
    {
      "cell_type": "markdown",
      "source": [
        "# Bài tập 6. Khởi tạo population đầu tiên\n",
        "Hãy hoàn thiện function initializePopulation(m) để thực\n",
        "hiện việc khởi tạo m cá thể (individual, chromosome) cho population."
      ],
      "metadata": {
        "id": "IHZhuzu7AwYz"
      }
    },
    {
      "cell_type": "code",
      "source": [
        "def initializePopulation(m):\n",
        "  population = [create_individual() for _ in range(m)]\n",
        "  return population"
      ],
      "metadata": {
        "id": "gI1DXvkx9frM"
      },
      "execution_count": 17,
      "outputs": []
    },
    {
      "cell_type": "code",
      "source": [
        "population = initializePopulation(100)\n",
        "print(len(population))"
      ],
      "metadata": {
        "colab": {
          "base_uri": "https://localhost:8080/"
        },
        "id": "4v3s9h3IBVIM",
        "outputId": "97f3f736-7b34-49e2-c8c3-c5c5c115d2fa"
      },
      "execution_count": 18,
      "outputs": [
        {
          "output_type": "stream",
          "name": "stdout",
          "text": [
            "100\n"
          ]
        }
      ]
    },
    {
      "cell_type": "code",
      "source": [
        "population[:5]"
      ],
      "metadata": {
        "colab": {
          "base_uri": "https://localhost:8080/"
        },
        "id": "O4fIc6L5BYeH",
        "outputId": "532406f2-a0fb-4a06-8c68-1cef02cfcf1a"
      },
      "execution_count": 21,
      "outputs": [
        {
          "output_type": "execute_result",
          "data": {
            "text/plain": [
              "[array([4.09746256, 4.82785476, 3.10217236, 4.0216595 ]),\n",
              " array([-1.89852431,  2.29831748,  3.98838288,  1.83983932]),\n",
              " array([-0.27857285, -3.99298792, -0.65828165,  1.10886973]),\n",
              " array([ 4.13011053,  4.66606368, -0.22990223,  3.65309928]),\n",
              " array([-2.3950769 ,  3.05027827,  0.48699304, -4.859583  ])]"
            ]
          },
          "metadata": {},
          "execution_count": 21
        }
      ]
    },
    {
      "cell_type": "markdown",
      "source": [
        "# Bài tập 7. Kỹ thuật selection để thực hiện việc chọc lọc tư nhiên, đào thải những cá thể yếu trong population\n",
        "Hãy hoàn thiện function selection() để thực hiện việc chọn lọc tự nhiên cá thể tốt vào thế hệ kế tiếp."
      ],
      "metadata": {
        "id": "Alxq3gSRBHwN"
      }
    },
    {
      "cell_type": "code",
      "source": [
        "def selection(sorted_old_population, m):\n",
        "  index1 = random.randint(0, m-1)\n",
        "  while True:\n",
        "    index2 = random.randint(0, m-1)\n",
        "    if (index2 != index1):\n",
        "      break\n",
        "\n",
        "  individual_s = sorted_old_population[index1]\n",
        "  if index2 > index1:\n",
        "    individual_s = sorted_old_population[index2]\n",
        "\n",
        "  return individual_s"
      ],
      "metadata": {
        "id": "wnjSctaZ9fty"
      },
      "execution_count": 22,
      "outputs": []
    },
    {
      "cell_type": "code",
      "source": [
        "population = initializePopulation(m=100)\n",
        "individual_s = selection(population, m = 100)\n",
        "print(individual_s)"
      ],
      "metadata": {
        "colab": {
          "base_uri": "https://localhost:8080/"
        },
        "id": "rJ4IDq-E9fwt",
        "outputId": "237b824a-4bbf-4bec-c4c3-629892264b39"
      },
      "execution_count": 24,
      "outputs": [
        {
          "output_type": "stream",
          "name": "stdout",
          "text": [
            "[ 2.44036285 -0.50345928  0.08899025  3.06823938]\n"
          ]
        }
      ]
    },
    {
      "cell_type": "markdown",
      "source": [
        "# Bài tập 8. Kỹ thuật tạo ra quần thể (population) mới\n",
        "Hãy hoàn thiện function create_new_population() để tạo ra quần thể mới đựa trên các bước selection, crossover và mutation. Lưu ý rằng chúng ta sẽ sử dụng giải thuât Elitist algorithms để đảm bảo rằng elitism cá thể tốt nhất không bị loại bỏ, bằng cách\n",
        "chuyển chúng trực tiếp sang thế hệ tiếp theo."
      ],
      "metadata": {
        "id": "tMGhAxGeCnu0"
      }
    },
    {
      "cell_type": "code",
      "source": [
        "def create_new_population(old_population, elitism=2, gen=1):\n",
        "  m = len(old_population)\n",
        "  sorted_population = sorted(old_population, key=compute_fitness)\n",
        "\n",
        "  if gen%1 == 0:\n",
        "    print(\"Best loss:\", compute_loss(sorted_population[m-1]), \"with chromsome: \", sorted_population[m-1])\n",
        "\n",
        "  new_population = []\n",
        "  while len(new_population) < m-elitism:\n",
        "    # selection\n",
        "    # **************** your code here ****************\n",
        "    individual_s1 = selection(sorted_population, m)\n",
        "    individual_s2 = selection(sorted_population, m)\n",
        "\n",
        "    # crossover\n",
        "    # **************** your code here ****************\n",
        "    individual_c1, individual_c2 = crossover(individual_s1, individual_s2)\n",
        "\n",
        "    # mutation\n",
        "    # **************** your code here ****************\n",
        "    individual_m1 = mutate(individual_c1)\n",
        "    individual_m2 = mutate(individual_c2)\n",
        "\n",
        "    new_population.append(individual_m1)\n",
        "    new_population.append(individual_m2)\n",
        "\n",
        "    # copy elitism chromosomes that have best fitness score to the next generation\n",
        "  for ind in sorted_population[m-elitism:]:\n",
        "    # **************** your code here ****************\n",
        "    #new_population.append(ind)\n",
        "    new_population.append(ind.copy())\n",
        "\n",
        "  return new_population, compute_loss(sorted_population[m-1])"
      ],
      "metadata": {
        "id": "uJQZImgN9fz0"
      },
      "execution_count": 26,
      "outputs": []
    },
    {
      "cell_type": "code",
      "source": [
        "#Question 7\n",
        "individual1 = [4.09, 4.82, 3.10, 4.02]\n",
        "individual2 = [3.44, 2.57, -0.79, -2.41]\n",
        "old_population = [individual1, individual2]\n",
        "new_population, _ = create_new_population(old_population, elitism=2, gen=1)\n"
      ],
      "metadata": {
        "colab": {
          "base_uri": "https://localhost:8080/"
        },
        "id": "ZVXBAuHA9f3K",
        "outputId": "4728cfb2-342d-4d9a-8d34-763f4c05a743"
      },
      "execution_count": 27,
      "outputs": [
        {
          "output_type": "stream",
          "name": "stdout",
          "text": [
            "Best loss: 123415.051528805 with chromsome:  [3.44, 2.57, -0.79, -2.41]\n"
          ]
        }
      ]
    },
    {
      "cell_type": "markdown",
      "source": [
        "# Bài tập 9 (All-in-one)\n",
        "Hãy hoàn thiện function run_GA() để tìm tham số θ1, θ2, θ3, θ4 tối ưu sử dụng giải thuật di truyền."
      ],
      "metadata": {
        "id": "rqXAZmDxE_8t"
      }
    },
    {
      "cell_type": "code",
      "source": [
        "def run_GA():\n",
        "  n_generations = 100\n",
        "  m = 600\n",
        "  features_X, sales_Y = load_data_from_file()\n",
        "  population = initializePopulation(m)\n",
        "  losses_list = []\n",
        "  for i in range(n_generations):\n",
        "\n",
        "    # *********** your code here *************\n",
        "    population, loss = create_new_population(population, elitism=2, gen=i)\n",
        "    losses_list.append(loss)\n",
        "\n",
        "  return losses_list\n"
      ],
      "metadata": {
        "id": "CMKFp_OT9f6b"
      },
      "execution_count": 28,
      "outputs": []
    },
    {
      "cell_type": "code",
      "source": [
        "losses_list = run_GA()"
      ],
      "metadata": {
        "colab": {
          "base_uri": "https://localhost:8080/"
        },
        "id": "D5HvGwH6pFXq",
        "outputId": "5efd3d19-56b1-420b-94d4-a9b487fb38a4"
      },
      "execution_count": 29,
      "outputs": [
        {
          "output_type": "stream",
          "name": "stdout",
          "text": [
            "Best loss: 1644.8878769069752 with chromsome:  [ 4.55218688  0.27314063 -0.65300686 -1.14468584]\n",
            "Best loss: 712.050058847599 with chromsome:  [ 0.50236915  0.1388616  -1.43727887  1.0075711 ]\n",
            "Best loss: 639.5628755913166 with chromsome:  [-3.70829957  0.09294056  0.69482398  0.33275135]\n",
            "Best loss: 292.61654989813206 with chromsome:  [-3.91567664  0.1871728   0.21610103 -0.59299061]\n",
            "Best loss: 292.61654989813206 with chromsome:  [-3.91567664  0.1871728   0.21610103 -0.59299061]\n",
            "Best loss: 217.86280024723956 with chromsome:  [-0.27321669  0.13452069 -0.74886971  0.24015233]\n",
            "Best loss: 217.86280024723956 with chromsome:  [-0.27321669  0.13452069 -0.74886971  0.24015233]\n",
            "Best loss: 16.082353248232618 with chromsome:  [ 2.58440464  0.07575778  0.21610103 -0.1496005 ]\n",
            "Best loss: 16.082353248232618 with chromsome:  [ 2.58440464  0.07575778  0.21610103 -0.1496005 ]\n",
            "Best loss: 16.082353248232618 with chromsome:  [ 2.58440464  0.07575778  0.21610103 -0.1496005 ]\n",
            "Best loss: 15.428323955921691 with chromsome:  [ 3.03593508  0.07575778  0.21610103 -0.1496005 ]\n",
            "Best loss: 15.428323955921691 with chromsome:  [ 3.03593508  0.07575778  0.21610103 -0.1496005 ]\n",
            "Best loss: 15.428323955921691 with chromsome:  [ 3.03593508  0.07575778  0.21610103 -0.1496005 ]\n",
            "Best loss: 15.365264395477006 with chromsome:  [ 3.1038091   0.07575778  0.21610103 -0.1496005 ]\n",
            "Best loss: 15.365264395477006 with chromsome:  [ 3.1038091   0.07575778  0.21610103 -0.1496005 ]\n",
            "Best loss: 14.109762287310106 with chromsome:  [-1.47374686  0.05554426  0.21610103  0.0179979 ]\n",
            "Best loss: 8.883845036529824 with chromsome:  [3.1038091  0.05554426 0.21610103 0.0179979 ]\n",
            "Best loss: 8.294126044353332 with chromsome:  [2.92262071 0.05554426 0.21610103 0.0179979 ]\n",
            "Best loss: 8.294126044353332 with chromsome:  [2.92262071 0.05554426 0.21610103 0.0179979 ]\n",
            "Best loss: 7.368995542674672 with chromsome:  [2.58440464 0.05554426 0.21610103 0.0179979 ]\n",
            "Best loss: 7.368995542674672 with chromsome:  [2.58440464 0.05554426 0.21610103 0.0179979 ]\n",
            "Best loss: 6.963963085924096 with chromsome:  [0.37022329 0.05554426 0.21610103 0.0179979 ]\n",
            "Best loss: 4.7519878274503835 with chromsome:  [2.92262071 0.05554426 0.17891536 0.0179979 ]\n",
            "Best loss: 4.7519878274503835 with chromsome:  [2.92262071 0.05554426 0.17891536 0.0179979 ]\n",
            "Best loss: 4.7519878274503835 with chromsome:  [2.92262071 0.05554426 0.17891536 0.0179979 ]\n",
            "Best loss: 4.7519878274503835 with chromsome:  [2.92262071 0.05554426 0.17891536 0.0179979 ]\n",
            "Best loss: 4.412030194502886 with chromsome:  [2.58440464 0.05554426 0.17891536 0.0179979 ]\n",
            "Best loss: 4.412030194502886 with chromsome:  [2.58440464 0.05554426 0.17891536 0.0179979 ]\n",
            "Best loss: 4.316340077906478 with chromsome:  [2.12639947 0.05554426 0.17891536 0.0179979 ]\n",
            "Best loss: 4.316340077906478 with chromsome:  [2.12639947 0.05554426 0.17891536 0.0179979 ]\n",
            "Best loss: 4.316340077906478 with chromsome:  [2.12639947 0.05554426 0.17891536 0.0179979 ]\n",
            "Best loss: 3.6120069547232947 with chromsome:  [2.58440464 0.05554426 0.15432828 0.0179979 ]\n",
            "Best loss: 3.6120069547232947 with chromsome:  [2.58440464 0.05554426 0.15432828 0.0179979 ]\n",
            "Best loss: 3.6120069547232947 with chromsome:  [2.58440464 0.05554426 0.15432828 0.0179979 ]\n",
            "Best loss: 3.6120069547232947 with chromsome:  [2.58440464 0.05554426 0.15432828 0.0179979 ]\n",
            "Best loss: 3.5778498976055584 with chromsome:  [2.58440464 0.05554426 0.15138353 0.0179979 ]\n",
            "Best loss: 3.565049495359235 with chromsome:  [2.92262071 0.05554426 0.15432828 0.0179979 ]\n",
            "Best loss: 3.565049495359235 with chromsome:  [2.92262071 0.05554426 0.15432828 0.0179979 ]\n",
            "Best loss: 3.565049495359235 with chromsome:  [2.92262071 0.05554426 0.15432828 0.0179979 ]\n",
            "Best loss: 3.55614124578196 with chromsome:  [2.79084477 0.05554426 0.15432828 0.0179979 ]\n",
            "Best loss: 3.55614124578196 with chromsome:  [2.79084477 0.05554426 0.15432828 0.0179979 ]\n",
            "Best loss: 3.55614124578196 with chromsome:  [2.79084477 0.05554426 0.15432828 0.0179979 ]\n",
            "Best loss: 3.55614124578196 with chromsome:  [2.79084477 0.05554426 0.15432828 0.0179979 ]\n",
            "Best loss: 3.55614124578196 with chromsome:  [2.79084477 0.05554426 0.15432828 0.0179979 ]\n",
            "Best loss: 3.484552344042074 with chromsome:  [2.92262071 0.05554426 0.15138353 0.0179979 ]\n",
            "Best loss: 3.484552344042074 with chromsome:  [2.92262071 0.05554426 0.15138353 0.0179979 ]\n",
            "Best loss: 3.484552344042074 with chromsome:  [2.92262071 0.05554426 0.15138353 0.0179979 ]\n",
            "Best loss: 3.484552344042074 with chromsome:  [2.92262071 0.05554426 0.15138353 0.0179979 ]\n",
            "Best loss: 3.484552344042074 with chromsome:  [2.92262071 0.05554426 0.15138353 0.0179979 ]\n",
            "Best loss: 3.484552344042074 with chromsome:  [2.92262071 0.05554426 0.15138353 0.0179979 ]\n",
            "Best loss: 3.484552344042074 with chromsome:  [2.92262071 0.05554426 0.15138353 0.0179979 ]\n",
            "Best loss: 3.484552344042074 with chromsome:  [2.92262071 0.05554426 0.15138353 0.0179979 ]\n",
            "Best loss: 3.484552344042074 with chromsome:  [2.92262071 0.05554426 0.15138353 0.0179979 ]\n",
            "Best loss: 3.484552344042074 with chromsome:  [2.92262071 0.05554426 0.15138353 0.0179979 ]\n",
            "Best loss: 3.484552344042074 with chromsome:  [2.92262071 0.05554426 0.15138353 0.0179979 ]\n",
            "Best loss: 3.484552344042074 with chromsome:  [2.92262071 0.05554426 0.15138353 0.0179979 ]\n",
            "Best loss: 3.484552344042074 with chromsome:  [2.92262071 0.05554426 0.15138353 0.0179979 ]\n",
            "Best loss: 3.407852866713226 with chromsome:  [2.92262071 0.05554426 0.14797529 0.0179979 ]\n",
            "Best loss: 3.3234472768920993 with chromsome:  [2.92262071 0.05554426 0.12711372 0.0179979 ]\n",
            "Best loss: 3.3234472768920993 with chromsome:  [2.92262071 0.05554426 0.12711372 0.0179979 ]\n",
            "Best loss: 3.3234472768920993 with chromsome:  [2.92262071 0.05554426 0.12711372 0.0179979 ]\n",
            "Best loss: 3.3234472768920993 with chromsome:  [2.92262071 0.05554426 0.12711372 0.0179979 ]\n",
            "Best loss: 3.3234472768920993 with chromsome:  [2.92262071 0.05554426 0.12711372 0.0179979 ]\n",
            "Best loss: 3.3234472768920993 with chromsome:  [2.92262071 0.05554426 0.12711372 0.0179979 ]\n",
            "Best loss: 3.2112606036359783 with chromsome:  [3.04088679 0.05554426 0.12711372 0.0179979 ]\n",
            "Best loss: 3.2112606036359783 with chromsome:  [3.04088679 0.05554426 0.12711372 0.0179979 ]\n",
            "Best loss: 3.2048082694315867 with chromsome:  [3.04873172 0.05554426 0.12711372 0.0179979 ]\n",
            "Best loss: 3.050595055624562 with chromsome:  [3.34790254 0.05554426 0.12711372 0.0179979 ]\n",
            "Best loss: 3.0466794812716125 with chromsome:  [3.54425937 0.05554426 0.12711372 0.0179979 ]\n",
            "Best loss: 3.046500572044804 with chromsome:  [3.54323933 0.05554426 0.12711372 0.0179979 ]\n",
            "Best loss: 3.043189245669414 with chromsome:  [3.52155258 0.05554426 0.12711372 0.0179979 ]\n",
            "Best loss: 3.0410547234842173 with chromsome:  [3.50248283 0.05554426 0.12711372 0.0179979 ]\n",
            "Best loss: 3.0410547234842173 with chromsome:  [3.50248283 0.05554426 0.12711372 0.0179979 ]\n",
            "Best loss: 3.0410547234842173 with chromsome:  [3.50248283 0.05554426 0.12711372 0.0179979 ]\n",
            "Best loss: 3.040015884901644 with chromsome:  [3.42262952 0.05554426 0.12711372 0.0179979 ]\n",
            "Best loss: 3.040015884901644 with chromsome:  [3.42262952 0.05554426 0.12711372 0.0179979 ]\n",
            "Best loss: 3.040015884901644 with chromsome:  [3.42262952 0.05554426 0.12711372 0.0179979 ]\n",
            "Best loss: 3.040015884901644 with chromsome:  [3.42262952 0.05554426 0.12711372 0.0179979 ]\n",
            "Best loss: 3.0389167941125232 with chromsome:  [3.46028689 0.05554426 0.12711372 0.0179979 ]\n",
            "Best loss: 3.0389167941125232 with chromsome:  [3.46028689 0.05554426 0.12711372 0.0179979 ]\n",
            "Best loss: 3.0389167941125232 with chromsome:  [3.46028689 0.05554426 0.12711372 0.0179979 ]\n",
            "Best loss: 2.9419313607612985 with chromsome:  [3.50248283 0.05554426 0.12711372 0.00726131]\n",
            "Best loss: 2.9419313607612985 with chromsome:  [3.50248283 0.05554426 0.12711372 0.00726131]\n",
            "Best loss: 2.9419313607612985 with chromsome:  [3.50248283 0.05554426 0.12711372 0.00726131]\n",
            "Best loss: 2.9419313607612985 with chromsome:  [3.50248283 0.05554426 0.12711372 0.00726131]\n",
            "Best loss: 2.9419313607612985 with chromsome:  [3.50248283 0.05554426 0.12711372 0.00726131]\n",
            "Best loss: 2.9419313607612985 with chromsome:  [3.50248283 0.05554426 0.12711372 0.00726131]\n",
            "Best loss: 2.9419313607612985 with chromsome:  [3.50248283 0.05554426 0.12711372 0.00726131]\n",
            "Best loss: 2.863965367282976 with chromsome:  [3.82071077 0.05554426 0.12711372 0.00726131]\n",
            "Best loss: 2.863965367282976 with chromsome:  [3.82071077 0.05554426 0.12711372 0.00726131]\n",
            "Best loss: 2.863965367282976 with chromsome:  [3.82071077 0.05554426 0.12711372 0.00726131]\n",
            "Best loss: 2.863965367282976 with chromsome:  [3.82071077 0.05554426 0.12711372 0.00726131]\n",
            "Best loss: 2.863965367282976 with chromsome:  [3.82071077 0.05554426 0.12711372 0.00726131]\n",
            "Best loss: 2.863965367282976 with chromsome:  [3.82071077 0.05554426 0.12711372 0.00726131]\n",
            "Best loss: 2.863965367282976 with chromsome:  [3.82071077 0.05554426 0.12711372 0.00726131]\n",
            "Best loss: 2.863965367282976 with chromsome:  [3.82071077 0.05554426 0.12711372 0.00726131]\n",
            "Best loss: 2.863965367282976 with chromsome:  [3.82071077 0.05554426 0.12711372 0.00726131]\n",
            "Best loss: 2.8324448140673826 with chromsome:  [3.82071077 0.05554426 0.11420979 0.00726131]\n",
            "Best loss: 2.8324448140673826 with chromsome:  [3.82071077 0.05554426 0.11420979 0.00726131]\n",
            "Best loss: 2.8324448140673826 with chromsome:  [3.82071077 0.05554426 0.11420979 0.00726131]\n"
          ]
        }
      ]
    },
    {
      "cell_type": "markdown",
      "source": [
        "# Bài tập 10 (Trực quan hoá loss values)\n",
        "Hoàn thiện function visualize_loss()để thể hiện giá trị loss\n",
        "tốt nhất của cá thể (chromosome) ứng với từng thế hệ (generations) (hình 2)"
      ],
      "metadata": {
        "id": "k1cOjw7fFsFW"
      }
    },
    {
      "cell_type": "code",
      "source": [
        "import matplotlib.pyplot as plt\n",
        "\n",
        "def visualize_loss(losses_list):\n",
        "  # *********** your code here *************\n",
        "  plt.plot(losses_list)\n",
        "  plt.xlabel(\"Generations\")\n",
        "  plt.ylabel(\"Loss\")\n",
        "  plt.show()"
      ],
      "metadata": {
        "id": "l7kzfmQmFoAn"
      },
      "execution_count": 30,
      "outputs": []
    },
    {
      "cell_type": "code",
      "source": [
        "# Giá trị loss tốt nhất ứng với từng generation\n",
        "visualize_loss(losses_list)"
      ],
      "metadata": {
        "colab": {
          "base_uri": "https://localhost:8080/",
          "height": 449
        },
        "id": "WKDhY4YlF-dQ",
        "outputId": "db1f847e-1847-44e3-f2bf-24ab0a2cb4c5"
      },
      "execution_count": 35,
      "outputs": [
        {
          "output_type": "display_data",
          "data": {
            "text/plain": [
              "<Figure size 640x480 with 1 Axes>"
            ],
            "image/png": "[encoded data removed]"
          },
          "metadata": {}
        }
      ]
    },
    {
      "cell_type": "markdown",
      "source": [
        "# Bài tập 11 (Trực quan hoá kết quả dự đoán sales và giá trị thực tế )\n",
        "Hoàn thiện function visualize_predict_gt để hiển thị kết quả dự đoán sales với giá trị thực tế từ ground truth (hình 3)"
      ],
      "metadata": {
        "id": "Cd1hEWyPGFPU"
      }
    },
    {
      "cell_type": "code",
      "source": [
        "def visualize_predict_gt():\n",
        "  # visualization of ground truth and predict value\n",
        "  sorted_population = sorted(population, key=compute_fitness)\n",
        "  print(sorted_population[-1])\n",
        "  theta = np.array(sorted_population[-1])\n",
        "\n",
        "  estimated_prices = []\n",
        "  for feature in features_X:\n",
        "     # ************* your code here *************\n",
        "     #estimated_price = np.dot(feature, theta)\n",
        "     estimated_prices.append(np.dot(feature, theta))\n",
        "\n",
        "  fig, ax = plt.subplots(figsize=(10, 6))\n",
        "  plt.xlabel('Samples')\n",
        "  plt.ylabel('Price')\n",
        "  plt.plot(sales_Y, c='green', label='Real Prices')\n",
        "  plt.plot(estimated_prices, c='blue', label='Estimated Prices')\n",
        "  plt.legend()\n",
        "  plt.show()"
      ],
      "metadata": {
        "id": "2zsL95_MF_lf"
      },
      "execution_count": 32,
      "outputs": []
    },
    {
      "cell_type": "code",
      "source": [
        "# kết quả dự đoán sales và giá trị thực tế\n",
        "visualize_predict_gt()"
      ],
      "metadata": {
        "colab": {
          "base_uri": "https://localhost:8080/",
          "height": 560
        },
        "id": "bJVtG3aqHAQJ",
        "outputId": "afd9c32e-3486-4bc8-be29-88f53bc240e4"
      },
      "execution_count": 34,
      "outputs": [
        {
          "output_type": "stream",
          "name": "stdout",
          "text": [
            "[-1.47679883 -0.48419361  3.33509821  0.123994  ]\n"
          ]
        },
        {
          "output_type": "display_data",
          "data": {
            "text/plain": [
              "<Figure size 1000x600 with 1 Axes>"
            ],
            "image/png": "[encoded data removed]"
          },
          "metadata": {}
        }
      ]
    },
    {
      "cell_type": "code",
      "source": [],
      "metadata": {
        "id": "TEDUIF3pHBK4"
      },
      "execution_count": null,
      "outputs": []
    }
  ]
}