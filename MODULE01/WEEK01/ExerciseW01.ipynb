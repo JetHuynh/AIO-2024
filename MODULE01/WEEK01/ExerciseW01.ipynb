{
  "cells": [
    {
      "cell_type": "markdown",
      "metadata": {
        "id": "qIsHkQiIPMm1"
      },
      "source": [
        "**AI VIET NAM – AIO2024**\n",
        "\n",
        "# Basic Python – Exercise\n",
        "\n",
        "Ngày 1 tháng 6 năm 2024"
      ]
    },
    {
      "cell_type": "markdown",
      "metadata": {
        "id": "PakuBWOZPun-"
      },
      "source": [
        "# I. Câu hỏi tự luận"
      ]
    },
    {
      "cell_type": "markdown",
      "metadata": {
        "id": "hBqM6ZkMQIK9"
      },
      "source": [
        "Dùng hàm print để in các variable:"
      ]
    },
    {
      "cell_type": "code",
      "execution_count": null,
      "metadata": {
        "colab": {
          "base_uri": "https://localhost:8080/"
        },
        "id": "da7pnjUXPLQ_",
        "outputId": "e4720ef9-b469-499d-e646-73de132ca1aa"
      },
      "outputs": [
        {
          "name": "stdout",
          "output_type": "stream",
          "text": [
            "Print single variable ( var1 ):  str_var1\n",
            "Print more than one variables : var1 =str_var1, var2 =3, var3 =15.5\n"
          ]
        }
      ],
      "source": [
        "\n",
        "var1 = 'str_var1'\n",
        "var2 = 3\n",
        "var3 = 15.5\n",
        "print ('Print single variable ( var1 ): ', var1 )\n",
        "print (f'Print more than one variables : var1 ={ var1 }, var2 ={ var2 }, var3 ={ var3 }')\n"
      ]
    },
    {
      "cell_type": "code",
      "execution_count": null,
      "metadata": {
        "colab": {
          "base_uri": "https://localhost:8080/"
        },
        "id": "DTgGzUX1zv47",
        "outputId": "584ecca6-43fd-4731-ac7d-567d55962c8a"
      },
      "outputs": [
        {
          "name": "stdout",
          "output_type": "stream",
          "text": [
            "Mounted at /content/drive\n"
          ]
        }
      ],
      "source": [
        "'''\n",
        "from google.colab import drive\n",
        "drive.mount('/content/drive')\n",
        "'''"
      ]
    },
    {
      "cell_type": "markdown",
      "metadata": {
        "id": "mxpF9t4dQq9h"
      },
      "source": [
        "## 1. Viết function thực hiện đánh giá classification model bằng F1-Score."
      ]
    },
    {
      "cell_type": "code",
      "execution_count": null,
      "metadata": {
        "colab": {
          "base_uri": "https://localhost:8080/"
        },
        "id": "EyOLXCUrRYZt",
        "outputId": "b79c4a5f-5734-47c2-fff3-749e93da682a"
      },
      "outputs": [
        {
          "name": "stdout",
          "output_type": "stream",
          "text": [
            "\n",
            "precision is 0.4\n",
            "recall is 0.3333333333333333\n",
            "f1-score is 0.3636363636363636\n",
            "\n",
            "Input parameters must be integer\n",
            "Input parameters must be integer\n",
            "Input parameters must be integer\n",
            "\n",
            "precision is 0.4\n",
            "recall is 1.0\n",
            "f1-score is 0.5714285714285715\n",
            "\n",
            "Input parameters must be integer\n"
          ]
        }
      ],
      "source": [
        "# f1 score is the evaluation metric that is used to evaluate the performance of the machine learning model\n",
        "def Calculate_F1_Score(TruePositive,FalsePositive,FalseNegative):\n",
        "    #validate type parameters\n",
        "    if not isinstance(TruePositive, int) or not isinstance(FalsePositive, int) or not isinstance(FalseNegative, int):\n",
        "        print(\"Input parameters must be integer\")\n",
        "        return None\n",
        "\n",
        "    #validate input parameters\n",
        "    if TruePositive < 0 or FalsePositive < 0 or FalseNegative < 0:\n",
        "        print(\"Input parameters must be greater than zero\")\n",
        "        return None\n",
        "\n",
        "    #calculate F1-Score\n",
        "    precision = TruePositive / (TruePositive + FalsePositive)\n",
        "    recall = TruePositive / (TruePositive + FalseNegative)\n",
        "    f1_score = 2 * (precision * recall) / (precision + recall)\n",
        "\n",
        "    # Print result\n",
        "    print(f'\\nprecision is {precision}')\n",
        "    print(f'recall is {recall}')\n",
        "    print(f'f1-score is {f1_score}\\n')\n",
        "\n",
        "\n",
        "# Examples\n",
        "Calculate_F1_Score (2, 3, 4)\n",
        "Calculate_F1_Score ('a', 3, 4)\n",
        "Calculate_F1_Score (2, 'a', 4)\n",
        "Calculate_F1_Score (2, 3, 'a')\n",
        "Calculate_F1_Score (2, 3, 0)\n",
        "Calculate_F1_Score (2.1 ,3 , 0)\n"
      ]
    },
    {
      "cell_type": "markdown",
      "metadata": {
        "id": "0uMAQ4GvhWaG"
      },
      "source": [
        "## 2. Viết function mô phỏng theo 3 activation function."
      ]
    },
    {
      "cell_type": "markdown",
      "metadata": {
        "id": "bX7KQ-VJhcnX"
      },
      "source": []
    },
    {
      "cell_type": "code",
      "execution_count": null,
      "metadata": {
        "colab": {
          "base_uri": "https://localhost:8080/"
        },
        "id": "2-bKcquNct8I",
        "outputId": "1c7ea1e3-9e06-4c3d-c677-3ec5b38b6beb"
      },
      "outputs": [
        {
          "name": "stdout",
          "output_type": "stream",
          "text": [
            "Activation Function\n",
            "Input x = 1.5\n",
            "Input activation function (sigmoid | relu | elu): sigmoid\n",
            "sigmoid: f(1.5) = 0.8175744761936437\n"
          ]
        }
      ],
      "source": [
        "import math\n",
        "\n",
        "# calculate  Sigmoid Function\n",
        "def Sigmoid(x):\n",
        "    return 1 / (1 + math.exp(-x))\n",
        "\n",
        "# calculate Rectified Linear Unit Function\n",
        "def ReLU(x):\n",
        "    return max(0, x)\n",
        "\n",
        "# calculate Exponential Linear Unit Function\n",
        "def elu(x, alpha=1.0):\n",
        "    return alpha * (math.exp(x) - 1) if x < 0 else x\n",
        "\n",
        "# validate parameter\n",
        "def is_number(value):\n",
        "    try:\n",
        "        float(value)\n",
        "        return True\n",
        "    except ValueError:\n",
        "        return False\n",
        "\n",
        "# ctivation process\n",
        "def ActivationFunction():\n",
        "    print('Activation Function')\n",
        "    x = input('Input x = ')\n",
        "    if not is_number(x):\n",
        "        print(\"X parameter must be a number\")\n",
        "        return None\n",
        "    else:\n",
        "        x = float(x)\n",
        "\n",
        "    activation_function = input('Input activation function (sigmoid | relu | elu): ')\n",
        "    if activation_function == 'sigmoid':\n",
        "        result = Sigmoid(x)\n",
        "    elif activation_function == 'relu':\n",
        "        result = ReLU(x)\n",
        "    elif activation_function == 'elu':\n",
        "        result = elu(x)\n",
        "    else:\n",
        "        print(f'{activation_function} is not supported')\n",
        "        return None\n",
        "\n",
        "    print(f'{activation_function}: f({x}) = {result}')\n",
        "    return\n",
        "\n",
        "# RunExample\n",
        "ActivationFunction()"
      ]
    },
    {
      "cell_type": "markdown",
      "metadata": {
        "id": "KquWJiux0lS2"
      },
      "source": [
        "## 3. Viết function lựa chọn regression loss function để tính loss:"
      ]
    },
    {
      "cell_type": "code",
      "execution_count": null,
      "metadata": {
        "colab": {
          "base_uri": "https://localhost:8080/"
        },
        "id": "5K1nDV7XSynn",
        "outputId": "8c8263cd-aea3-4a4e-afc2-3cfec4d71997"
      },
      "outputs": [
        {
          "name": "stdout",
          "output_type": "stream",
          "text": [
            "Regression Loss Function\n",
            "Input number of sampels (integer number) which are generated: 5\n",
            "Input loss function (MAE | MSE | RMSE): RMSE\n",
            "loss name: RMSE, sample: 0, pred: 9.2536206245425, target: 3.423794984639011, loss: 33.986866991676116\n",
            "loss name: RMSE, sample: 1, pred: 9.514601099090813, target: 7.709712857671053, loss: 3.257621564015313\n",
            "loss name: RMSE, sample: 2, pred: 7.521077457009912, target: 6.536096113877797, loss: 0.9701882463183453\n",
            "loss name: RMSE, sample: 3, pred: 8.708084993040238, target: 8.623156716690408, loss: 0.00721281212375306\n",
            "loss name: RMSE, sample: 4, pred: 8.179144308310466, target: 0.5992502406166855, loss: 57.45479407745937\n",
            "final RMSE: 4.374395585485906\n"
          ]
        }
      ],
      "source": [
        "import math\n",
        "import random\n",
        "# Prepare_MAE Function\n",
        "def PreMAE(y_target, y_pred):\n",
        "    return abs(y_target - y_pred)\n",
        "\n",
        "# Prepare_MSE Function\n",
        "def PreMSE(y_target, y_pred):\n",
        "    return (y_target - y_pred) ** 2\n",
        "\n",
        "\n",
        "# Calculate regression loss function\n",
        "def RegressionLossFunction():\n",
        "    print('Regression Loss Function')\n",
        "    # input&validate number of samples\n",
        "    num_samples = input('Input number of sampels (integer number) which are generated: ')\n",
        "    if not num_samples.isnumeric():\n",
        "        print(\"number of samples must be an integer number\")\n",
        "        return None\n",
        "    else:\n",
        "        num_samples = int(num_samples)\n",
        "    # input&validate loss function\n",
        "    loss_list = ['MAE','MSE','RMSE']\n",
        "    loss_function = input('Input loss function (MAE | MSE | RMSE): ')\n",
        "    if loss_function not in loss_list:\n",
        "        print(f'{loss_function} is not supported')\n",
        "        return None\n",
        "\n",
        "    loss = 0\n",
        "    sigma = 0\n",
        "    for i in range(num_samples):\n",
        "        target = random.uniform(0.0,10.0)\n",
        "        pred = random.uniform(0.0,10.0)\n",
        "\n",
        "        #loss\n",
        "        if loss_function == 'MAE':\n",
        "            loss= PreMAE(target, pred)\n",
        "        else: # MSE&RMSE\n",
        "            loss= PreMSE(target, pred)\n",
        "        sigma += loss\n",
        "        print(f'loss name: {loss_function}, sample: {i}, pred: {pred}, target: {target}, loss: {loss}')\n",
        "\n",
        "\n",
        "    # loss final\n",
        "    loss = sigma / num_samples\n",
        "    # RMSE\n",
        "    if loss_function == 'RMSE':\n",
        "        loss = math.sqrt(loss)\n",
        "\n",
        "    print(f'final {loss_function}: {loss}')\n",
        "    return\n",
        "\n",
        "# RunExample\n",
        "RegressionLossFunction()\n"
      ]
    },
    {
      "cell_type": "markdown",
      "metadata": {
        "id": "g44gtXo8KWLa"
      },
      "source": [
        "## 4. Viết 4 functions để ước lượng các hàm số: sin(x), cos(x), sinh(x), cosh(x)"
      ]
    },
    {
      "cell_type": "code",
      "execution_count": null,
      "metadata": {
        "colab": {
          "base_uri": "https://localhost:8080/"
        },
        "id": "j5ep-fi8EQ7T",
        "outputId": "16e6f29b-005c-4912-d083-6af87d787323"
      },
      "outputs": [
        {
          "name": "stdout",
          "output_type": "stream",
          "text": [
            "1.0000000000000002\n",
            "4.2539467343847745e-17\n",
            "11.548739357257745\n",
            "11.591953275521519\n"
          ]
        }
      ],
      "source": [
        "import math\n",
        "\n",
        "# calc factorial\n",
        "def Factorial(n):\n",
        "    if not isinstance(n, int) or n < 0 :\n",
        "        print(\"Sencond parameter must be an positive integer number\")\n",
        "        return None\n",
        "\n",
        "    result = 1\n",
        "    for i in range(1, n + 1):\n",
        "        result *= i\n",
        "    return result\n",
        "\n",
        "# estimate Sin(x) function\n",
        "def est_Sin(x,n):\n",
        "    if not isinstance(x, float):\n",
        "        print(\"First parameter must be a radian\")\n",
        "        return None\n",
        "\n",
        "    result = 0\n",
        "    for i in range(n):\n",
        "        result += ((-1) ** i) * (x ** (2 * i + 1)) / Factorial(2 * i + 1)\n",
        "    return result\n",
        "\n",
        "# estimate Cos(x) function\n",
        "def est_Cos(x,n):\n",
        "    if not isinstance(x, float):\n",
        "        print(\"First parameter must be a radian\")\n",
        "        return None\n",
        "\n",
        "    result = 0\n",
        "    for i in range(n):\n",
        "        result += ((-1) ** i) * (x ** (2 * i)) / Factorial(2 * i)\n",
        "    return result\n",
        "\n",
        "# estimate Sinh(x) function\n",
        "def est_Sinh(x,n):\n",
        "    if not isinstance(x, float):\n",
        "        print(\"First parameter must be a radian\")\n",
        "        return None\n",
        "\n",
        "    result = 0\n",
        "    for i in range(n):\n",
        "        result += (x ** (2 * i + 1)) / Factorial(2 * i + 1)\n",
        "    return result\n",
        "\n",
        "# estimate Cosh(x) function\n",
        "def est_Cosh(x,n):\n",
        "    if not isinstance(x, float):\n",
        "        print(\"First parameter must be a radian\")\n",
        "        return None\n",
        "\n",
        "    result = 0\n",
        "    for i in range(n):\n",
        "        result += (x ** (2 * i)) / Factorial(2 * i)\n",
        "    return result\n",
        "\n",
        "# RunExample\n",
        "print(est_Sin(math.pi/2, 10))\n",
        "print(est_Cos(math.pi/2, 10))\n",
        "print(est_Sinh(math.pi, 10))\n",
        "print(est_Cosh(math.pi, 10))"
      ]
    },
    {
      "cell_type": "markdown",
      "metadata": {
        "id": "lpHfFjMSB3b3"
      },
      "source": [
        "## 5. Viết function thực hiện Mean Difference of n^th Root Error"
      ]
    },
    {
      "cell_type": "code",
      "execution_count": 1,
      "metadata": {
        "colab": {
          "base_uri": "https://localhost:8080/"
        },
        "id": "F0cGIFMGX_n7",
        "outputId": "140131aa-7f77-4896-feda-1dc718c654f5"
      },
      "outputs": [
        {
          "name": "stdout",
          "output_type": "stream",
          "text": [
            "MD_nRE: 0.025031328369998107\n",
            "MD_nRE: 0.03544417213033135\n",
            "MD_nRE: 0.05625552183565574\n",
            "MD_nRE: 0.45836890322464546\n"
          ]
        }
      ],
      "source": [
        "# calculate MD_nRE\n",
        "def Calculate_MD_nRE( y,y_hat,n,p):\n",
        "    result = ((y ** (1 / n)) - (y_hat ** (1 / n))) ** p\n",
        "    print(f'MD_nRE: {result}')\n",
        "    return\n",
        "\n",
        "# RunExample\n",
        "Calculate_MD_nRE(100, 99.5, 2, 1)\n",
        "Calculate_MD_nRE(50, 49.5, 2, 1)\n",
        "Calculate_MD_nRE(20, 19.5, 2, 1)\n",
        "Calculate_MD_nRE(0.6, 0.1, 2, 1)\n"
      ]
    },
    {
      "cell_type": "markdown",
      "metadata": {
        "id": "eK4U12UtKPTa"
      },
      "source": [
        "# II. Câu hỏi trắc nghiệm"
      ]
    },
    {
      "cell_type": "markdown",
      "metadata": {
        "id": "nWxeGBMyK3Bq"
      },
      "source": [
        "### Câu hỏi 1 : Viết function thực hiện đánh giá classification model bằng F1-Score. Function nhận vào 3 giá trị tp, fp, fn và trả về F1-score"
      ]
    },
    {
      "cell_type": "code",
      "execution_count": 2,
      "metadata": {
        "colab": {
          "base_uri": "https://localhost:8080/"
        },
        "id": "z0s4X7I9IZw8",
        "outputId": "97b3d01b-0555-439d-ee9a-9216312e9efe"
      },
      "outputs": [
        {
          "name": "stdout",
          "output_type": "stream",
          "text": [
            "0.31\n"
          ]
        }
      ],
      "source": [
        "import math\n",
        "def calc_f1_score (tp , fp , fn):\n",
        "# Your code here\n",
        "    precision = tp / (tp + fp)\n",
        "    recall = tp / (tp + fn)\n",
        "    f1_score = 2 * (precision * recall) / (precision + recall)\n",
        "    return f1_score\n",
        "# End your code\n",
        "assert round ( calc_f1_score (tp =2, fp =3, fn =5) , 2) == 0.33\n",
        "print ( round ( calc_f1_score (tp =2, fp =4, fn =5) , 2))"
      ]
    },
    {
      "cell_type": "markdown",
      "metadata": {
        "id": "GMp6FS4PLVbh"
      },
      "source": [
        "### Câu hỏi 2 : Viết function is_number nhận input có thể là string hoặc một số kiểm tra n (một số) có hợp lệ hay không (vd: n=’10’, is_number(n) sẽ trả về True ngược lại là False). Đầu ra của chương trình sau đây là gì?"
      ]
    },
    {
      "cell_type": "code",
      "execution_count": 3,
      "metadata": {
        "colab": {
          "base_uri": "https://localhost:8080/"
        },
        "id": "mrW7sLm9LMO_",
        "outputId": "1448cca6-b47a-4b10-d3bc-f40a296d5e6e"
      },
      "outputs": [
        {
          "name": "stdout",
          "output_type": "stream",
          "text": [
            "True\n",
            "False\n"
          ]
        }
      ],
      "source": [
        "import math\n",
        "def is_number (n):\n",
        "# Your code here\n",
        "    try:\n",
        "        float(n)\n",
        "        return True\n",
        "    except ValueError:\n",
        "        return False\n",
        "# End your code\n",
        "\n",
        "assert is_number (3) == 1.0\n",
        "assert is_number ('-2a') == 0.0\n",
        "print ( is_number (1))\n",
        "print ( is_number ('n'))"
      ]
    },
    {
      "cell_type": "markdown",
      "metadata": {
        "id": "eppXujGsMMGY"
      },
      "source": [
        "### Câu hỏi 3 : Đoạn code dưới đây đang thực hiện activation function nào?"
      ]
    },
    {
      "cell_type": "code",
      "execution_count": 5,
      "metadata": {
        "colab": {
          "base_uri": "https://localhost:8080/"
        },
        "id": "C_mbQ---Ld9_",
        "outputId": "68fa8dba-bf9c-4697-cb0a-dbc0e2db94a5"
      },
      "outputs": [
        {
          "name": "stdout",
          "output_type": "stream",
          "text": [
            "0.0\n",
            "ReLU\n"
          ]
        }
      ],
      "source": [
        "x = -2.0\n",
        "if x <=0:\n",
        "  y = 0.0\n",
        "else:\n",
        "  y = 1.0\n",
        "print (y)\n",
        "print ('ReLU')"
      ]
    },
    {
      "cell_type": "markdown",
      "metadata": {
        "id": "mUQ70hNeWcZ2"
      },
      "source": [
        "### Câu hỏi 4 : Viết function thực hiện Sigmoid Function f(x) = 1/(1 + e^−x). Nhận input là x và return kết quả tương ứng trong Sigmoid Function. Đầu ra của chương trình sau đây là gì?"
      ]
    },
    {
      "cell_type": "code",
      "execution_count": 6,
      "metadata": {
        "colab": {
          "base_uri": "https://localhost:8080/"
        },
        "id": "cRr_VoOvLgx1",
        "outputId": "22105f9e-3b80-4e0d-81bf-76028e61b1f4"
      },
      "outputs": [
        {
          "name": "stdout",
          "output_type": "stream",
          "text": [
            "0.88\n"
          ]
        }
      ],
      "source": [
        "import math\n",
        "def calc_sig (x):\n",
        "# Your code here\n",
        "    return 1 / (1 + math.exp(-x))\n",
        "# End your code\n",
        "assert round ( calc_sig (3) , 2) ==0.95\n",
        "print ( round ( calc_sig (2) , 2))"
      ]
    },
    {
      "cell_type": "markdown",
      "metadata": {
        "id": "lWGISpWcXNsL"
      },
      "source": [
        "### Câu hỏi 5 : Viết function thực hiện Elu Function. Nhận input là x vàreturn kết quả tương ứng trong Elu Function. Đầu ra của chương trình sau đây là gì khi α = 0.01?"
      ]
    },
    {
      "cell_type": "code",
      "execution_count": 7,
      "metadata": {
        "colab": {
          "base_uri": "https://localhost:8080/"
        },
        "id": "TeTnf3MDXheO",
        "outputId": "4749d503-d399-48b5-b2be-a827bc320e38"
      },
      "outputs": [
        {
          "name": "stdout",
          "output_type": "stream",
          "text": [
            "-0.01\n"
          ]
        }
      ],
      "source": [
        "import math\n",
        "def calc_elu (x):\n",
        "# Your code here\n",
        "    alpha = 0.01\n",
        "    return alpha * (math.exp(x) - 1) if x < 0 else x\n",
        "# End your code\n",
        "assert round ( calc_elu (1))==1\n",
        "print ( round ( calc_elu ( -1) , 2))"
      ]
    },
    {
      "cell_type": "markdown",
      "metadata": {
        "id": "JqfhjfXjYGIP"
      },
      "source": [
        "### Câu hỏi 6 : Viết function nhận 2 giá trị x, và tên của activation function act_name activationfunction chỉ có 3 loại (sigmoid, relu, elu), thực hiện tính toán activation function tương ứng vớiname nhận được trên giá trị của x và trả kết quả. Đầu ra của chương trình sau đây là gì?"
      ]
    },
    {
      "cell_type": "code",
      "execution_count": 8,
      "metadata": {
        "colab": {
          "base_uri": "https://localhost:8080/"
        },
        "id": "jCsMLZ_6Xhau",
        "outputId": "921500c7-6f28-4561-fefe-9a1fe19e7455"
      },
      "outputs": [
        {
          "name": "stdout",
          "output_type": "stream",
          "text": [
            "0.95\n"
          ]
        }
      ],
      "source": [
        "import math\n",
        "def calc_activation_func (x, act_name ):\n",
        "# Your code here\n",
        "    if act_name == 'sigmoid':\n",
        "        return 1 / (1 + math.exp(-x))\n",
        "    elif act_name == 'relu':\n",
        "        return max(0, x)\n",
        "# End your code\n",
        "assert calc_activation_func (x = 1, act_name ='relu') == 1\n",
        "print ( round ( calc_activation_func (x = 3, act_name ='sigmoid'), 2))"
      ]
    },
    {
      "cell_type": "markdown",
      "metadata": {
        "id": "P-3AJsdqY6wz"
      },
      "source": [
        "### Câu hỏi 7 : Viết function tính absolute error = |y −yˆ|. Nhận input là y và yˆ, return về kết quả absolute error tương ứng. Đầu ra của chương trình sau đây là gì?"
      ]
    },
    {
      "cell_type": "code",
      "execution_count": 9,
      "metadata": {
        "colab": {
          "base_uri": "https://localhost:8080/"
        },
        "id": "o68HEjCNLg6e",
        "outputId": "c9954eb6-9de3-4e30-bb06-5f4c1a26004a"
      },
      "outputs": [
        {
          "name": "stdout",
          "output_type": "stream",
          "text": [
            "7\n"
          ]
        }
      ],
      "source": [
        "def calc_ae (y, y_hat ):\n",
        "# Your code here\n",
        "    return abs(y - y_hat)\n",
        "# End your code\n",
        "y = 1\n",
        "y_hat = 6\n",
        "assert calc_ae (y, y_hat )==5\n",
        "y = 2\n",
        "y_hat = 9\n",
        "print ( calc_ae (y, y_hat ))"
      ]
    },
    {
      "cell_type": "markdown",
      "metadata": {
        "id": "FAmtMLxSZVvY"
      },
      "source": [
        "### Câu hỏi 8 : Viết function tính squared error = (y−yˆ)2. Nhận input là y và yˆ, return về kết quả squared error tương ứng. Đầu ra của chương trình sau đây là gì?"
      ]
    },
    {
      "cell_type": "code",
      "execution_count": 10,
      "metadata": {
        "colab": {
          "base_uri": "https://localhost:8080/"
        },
        "id": "fBN0_gMnLhBq",
        "outputId": "47faa021-52b2-4a11-c199-238fcdd73193"
      },
      "outputs": [
        {
          "name": "stdout",
          "output_type": "stream",
          "text": [
            "1\n"
          ]
        }
      ],
      "source": [
        "def calc_se (y, y_hat ):\n",
        "# Your code here\n",
        "    return (y - y_hat) ** 2\n",
        "# End your code\n",
        "y = 4\n",
        "y_hat = 2\n",
        "assert calc_se (y, y_hat ) == 4\n",
        "print ( calc_se (2, 1))"
      ]
    },
    {
      "cell_type": "markdown",
      "metadata": {
        "id": "ggcxPTGxaFw5"
      },
      "source": [
        "### Câu hỏi 9 : Dựa vào công thức xấp xỉ cos và điều kiện được giới thiệu các bạn click ở đây. Viết function xấp xỉ cos khi nhận x là giá trị muốn tính cos(x) và n là số lần lặp muốn xấp xỉ. Return về kết quả cos(x) với bậc xấp xỉ tương ứng. Đầu ra của chương trình sau đây là gì?"
      ]
    },
    {
      "cell_type": "code",
      "execution_count": 11,
      "metadata": {
        "colab": {
          "base_uri": "https://localhost:8080/"
        },
        "id": "ejJWl3F8Zer3",
        "outputId": "3933c6a9-07b9-4d06-b2e9-624eea14b129"
      },
      "outputs": [
        {
          "name": "stdout",
          "output_type": "stream",
          "text": [
            "-1.0\n"
          ]
        }
      ],
      "source": [
        "def approx_cos (x, n):\n",
        "# Your code here\n",
        "    result = 0\n",
        "    for i in range(n):\n",
        "        result += ((-1) ** i) * (x ** (2 * i)) / math.factorial(2 * i)\n",
        "    return result\n",
        "# End your code\n",
        "assert round ( approx_cos (x=1, n =10) , 2) ==0.54\n",
        "print ( round ( approx_cos (x=3.14 , n =10) , 2))"
      ]
    },
    {
      "cell_type": "markdown",
      "metadata": {
        "id": "WcbmVhQjbX04"
      },
      "source": [
        "### Câu hỏi 10 : Dựa vào công thức xấp xỉ sin và điều kiện được giới thiệu các bạn click ở đây. Viết function xấp xỉ sin khi nhận x là giá trị muốn tính sin(x) và n là số lần lặp muốn xấp xỉ. Return về kết quả sin(x) với bậc xấp xỉ tương ứng. Đầu ra của chương trình sau đây là gì?"
      ]
    },
    {
      "cell_type": "code",
      "execution_count": 12,
      "metadata": {
        "colab": {
          "base_uri": "https://localhost:8080/"
        },
        "id": "rAZLTuRlbDzI",
        "outputId": "a217be34-8aaa-46d0-c05f-19b26b81ea9b"
      },
      "outputs": [
        {
          "name": "stdout",
          "output_type": "stream",
          "text": [
            "0.0016\n"
          ]
        }
      ],
      "source": [
        "def approx_sin (x, n):\n",
        "# Your code here\n",
        "    result = 0\n",
        "    for i in range(n):\n",
        "        result += ((-1) ** i) * (x ** (2 * i + 1)) / math.factorial(2 * i + 1)\n",
        "    return result\n",
        "# End your code\n",
        "assert round ( approx_sin (x=1, n =10) , 4) ==0.8415\n",
        "print ( round ( approx_sin (x=3.14 , n =10) , 4))"
      ]
    },
    {
      "cell_type": "markdown",
      "metadata": {
        "id": "ckG64M3McR_Z"
      },
      "source": [
        "### Câu hỏi 11 : Dựa vào công thức xấp xỉ sinh và điều kiện được giới thiệu các bạn click ở đây. Viếtfunction xấp xỉ sinh khi nhận x là giá trị muốn tính sinh(x) và n là số lần lặp muốn xấp xỉ. Return vềkết quả sinh(x) với bậc xấp xỉ tương ứng. Đầu ra của chương trình sau đây là gì?"
      ]
    },
    {
      "cell_type": "code",
      "execution_count": 13,
      "metadata": {
        "colab": {
          "base_uri": "https://localhost:8080/"
        },
        "id": "Z7bqcqM5Zeoi",
        "outputId": "8db460b3-8806-457d-b458-7e90181fecba"
      },
      "outputs": [
        {
          "name": "stdout",
          "output_type": "stream",
          "text": [
            "11.53\n"
          ]
        }
      ],
      "source": [
        "def approx_sinh (x, n):\n",
        "# Your code here\n",
        "    result = 0\n",
        "    for i in range(n):\n",
        "        result += (x ** (2 * i + 1)) / math.factorial(2 * i + 1)\n",
        "    return result\n",
        "# End your code\n",
        "assert round ( approx_sinh (x=1, n =10) , 2) ==1.18\n",
        "print ( round ( approx_sinh (x=3.14 , n =10) , 2))"
      ]
    },
    {
      "cell_type": "markdown",
      "metadata": {
        "id": "R5qxikAGcp_6"
      },
      "source": [
        "\n",
        "### Câu hỏi 12 : Dựa vào công thức xấp xỉ cosh và điều kiện được giới thiệu các bạn click ở đây. Viết function xấp xỉ cosh khi nhận x là giá trị muốn tính cosh(x) và n là số lần lặp muốn xấp xỉ. Return về kết quả cosh(x) với bậc xấp xỉ tương ứng. Đầu ra của chương trình sau đây là gì?"
      ]
    },
    {
      "cell_type": "code",
      "execution_count": 14,
      "metadata": {
        "colab": {
          "base_uri": "https://localhost:8080/"
        },
        "id": "GeebK_dycpno",
        "outputId": "51df30bc-52f3-4cbd-b219-d7f647003520"
      },
      "outputs": [
        {
          "name": "stdout",
          "output_type": "stream",
          "text": [
            "11.57\n"
          ]
        }
      ],
      "source": [
        "def approx_cosh (x, n):\n",
        "# Your code here\n",
        "    result = 0\n",
        "    for i in range(n):\n",
        "        result += (x ** (2 * i)) / math.factorial(2 * i)\n",
        "    return result\n",
        "# End your code\n",
        "assert round ( approx_cosh (x=1, n =10) , 2) ==1.54\n",
        "print ( round ( approx_cosh (x=3.14 , n =10) , 2))"
      ]
    },
    {
      "cell_type": "markdown",
      "metadata": {
        "id": "0b30KVcLdniz"
      },
      "source": [
        "### Câu hỏi 13 : Đoạn code nào thực hiện đúng Mean Difference of nth Root Error được miêu tả ở trên?"
      ]
    },
    {
      "cell_type": "code",
      "execution_count": 16,
      "metadata": {
        "colab": {
          "base_uri": "https://localhost:8080/"
        },
        "id": "CNai852BZelJ",
        "outputId": "e64ba8a9-b12d-4038-e5e1-9c576e5e85f7"
      },
      "outputs": [
        {
          "name": "stdout",
          "output_type": "stream",
          "text": [
            "D\n"
          ]
        }
      ],
      "source": [
        "#(A)\n",
        "def md_nre_single_sample (y, y_hat , n, p):\n",
        "    y_root = y ** (1/n)\n",
        "    y_hat_root = y_hat ** (1/n)\n",
        "    difference = y_root - y_hat_root\n",
        "    loss = difference ** p\n",
        "    return loss\n",
        "# (B)\n",
        "def md_nre_single_sample1 (y, y_hat , n, p):\n",
        "    y_root = y ** (1/n)\n",
        "    y_hat_root = y_hat ** (1/2) #wrong >>1/n\n",
        "    difference = y_root - y_hat_root\n",
        "    loss = difference ** p\n",
        "    return loss\n",
        "# (C)\n",
        "def md_nre_single_sample2 (y, y_hat , n, p):\n",
        "    y_root = y ** (1/n)\n",
        "    y_hat_root = y_hat ** (1/n)\n",
        "    difference = y_root / y_hat_root #wrong >> y-y_hat\n",
        "    loss = difference ** p\n",
        "    return loss\n",
        "# (D)\n",
        "def md_nre_single_sample3 (y, y_hat , n, p):\n",
        "    y_root = y ** (1/n)\n",
        "    y_hat_root = y_hat ** (1/n)\n",
        "    difference = y_root - y_hat_root\n",
        "    loss = difference #wrong >>diff**p\n",
        "    return loss\n",
        "\n",
        "print('A')"
      ]
    },
    {
      "cell_type": "code",
      "execution_count": null,
      "metadata": {
        "id": "JVlfasIdZeef"
      },
      "outputs": [],
      "source": []
    },
    {
      "cell_type": "code",
      "execution_count": null,
      "metadata": {
        "id": "e8a7rBdkZeXE"
      },
      "outputs": [],
      "source": []
    }
  ],
  "metadata": {
    "colab": {
      "provenance": []
    },
    "kernelspec": {
      "display_name": "Python 3",
      "name": "python3"
    },
    "language_info": {
      "name": "python",
      "version": "3.9.0"
    }
  },
  "nbformat": 4,
  "nbformat_minor": 0
}
