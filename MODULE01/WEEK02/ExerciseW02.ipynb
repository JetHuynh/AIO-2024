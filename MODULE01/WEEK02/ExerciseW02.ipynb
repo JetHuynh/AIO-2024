{
  "cells": [
    {
      "cell_type": "markdown",
      "metadata": {
        "id": "E3peYViSj2OC"
      },
      "source": [
        "\n",
        "## AI VIET NAM – COURSE 2024\n",
        "#  Data Structure – Exercise\n",
        "### Ngày 10 tháng 6 năm 2024"
      ]
    },
    {
      "cell_type": "markdown",
      "metadata": {
        "id": "jUAJjHGjkbRv"
      },
      "source": [
        "# I. Câu hỏi tự luận"
      ]
    },
    {
      "cell_type": "markdown",
      "metadata": {
        "id": "zfXyLWKckfnE"
      },
      "source": [
        "# 1. Cho một list các số nguyên num_list và một sliding window có kích thước size k di chuyển từ trái sang phải. Mỗi lần dịch chuyển 1 vị trí sang phải có thể nhìn thấy đươc k số trong num_list và tìm số lớn nhất trong k số này sau mỗi lần trượt k phải lớn hơn hoặc bằng 1\n",
        "\n",
        "Input: num_list = [3, 4, 5, 1, -44 , 5 ,10, 12 ,33, 1] với k=3\n",
        "\n",
        "Output: [5, 5, 5, 5, 10, 12, 33, 33]\n",
        "\n",
        "Ví dụ:\n",
        "\n",
        "[3, 4, 5], 1, -44 , 5 ,10, 12 ,33, 1 => max 5\n",
        "\n",
        "3, [4, 5, 1], -44 , 5 ,10, 12 ,33, 1 => max 5\n",
        "\n",
        "3, 4, [5, 1, -44] , 5 ,10, 12 ,33, 1 => max 5\n",
        "\n",
        "3, 4, 5, [1, -44 , 5] ,10, 12 ,33, 1 => max 5\n",
        "\n",
        "3, 4, 5, 1, [-44 , 5 ,10], 12 ,33, 1 => max 10\n",
        "\n",
        "3, 4, 5, 1, -44 , [5 ,10, 12] ,33, 1 => max 12\n",
        "\n",
        "3, 4, 5, 1, -44 , 5 ,[10, 12 ,33], 1 => max 33\n",
        "\n",
        "3, 4, 5, 1, -44 , 5 ,10, [12 ,33, 1] => max 33"
      ]
    },
    {
      "cell_type": "code",
      "execution_count": 22,
      "metadata": {
        "colab": {
          "base_uri": "https://localhost:8080/"
        },
        "id": "4tGDF9sLHuFb",
        "outputId": "c633ac60-95dc-4dae-c8c6-35b22360a96b"
      },
      "outputs": [
        {
          "data": {
            "text/plain": [
              "[5, 5, 5, 5, 10, 12, 33, 33]"
            ]
          },
          "execution_count": 22,
          "metadata": {},
          "output_type": "execute_result"
        }
      ],
      "source": [
        "#1.num_list - max_sliding_window\n",
        "def max_sliding_window(num_list, k):\n",
        "    result_list = []\n",
        "    for i in range(len(num_list) - k + 1):\n",
        "        max_num = max(num_list[i:i+k])\n",
        "        result_list.append(max_num)\n",
        "    return result_list\n",
        "\n",
        "num_list = [3, 4, 5, 1, -44 , 5 ,10, 12 ,33, 1]\n",
        "k = 3\n",
        "max_sliding_window(num_list, k)"
      ]
    },
    {
      "cell_type": "markdown",
      "metadata": {
        "id": "jZdS5jkvvkcj"
      },
      "source": [
        "# 2. Thực hiện theo các yêu cầu sau.\n",
        "\n",
        "# Viết function trả về một dictionary đếm số lượng chữ xuất hiện trong một từ, với key là chữ cái và value là số lần xuất hiện\n",
        "• Input: một từ\n",
        "\n",
        "• Output: dictionary đếm số lần các chữ xuất hiện\n",
        "\n",
        "• Note: Giả sử các từ nhập vào đều có các chữ cái thuộc [a-z] hoặc [A-Z]\n",
        "\n",
        "# Examples\n",
        "string = ’Happiness ’\n",
        "\n",
        "count_chars ( string )\n",
        "\n",
        "`>> {’H’: 1 , ’a’: 1 , ’e’: 1 , ’i’: 1 , ’n’: 1 , ’p’: 2 , ’s’: 2}`\n",
        "\n",
        "string = ’smiles ’\n",
        "\n",
        "count_chars ( string )\n",
        "\n",
        "`>> {’e’: 1 , ’i’: 1 , ’l’: 1 , ’m’: 1 , ’s’: 2}`"
      ]
    },
    {
      "cell_type": "code",
      "execution_count": 28,
      "metadata": {
        "colab": {
          "base_uri": "https://localhost:8080/"
        },
        "id": "kcewkEEWHmI0",
        "outputId": "01f6c1a2-2463-466d-a357-0a404a4a269e"
      },
      "outputs": [
        {
          "name": "stdout",
          "output_type": "stream",
          "text": [
            "{'H': 1, 'a': 1, 'e': 1, 'i': 1, 'n': 1, 'p': 2, 's': 2}\n",
            "{'e': 1, 'i': 1, 'l': 1, 'm': 1, 's': 2}\n"
          ]
        }
      ],
      "source": [
        "#2.dictionary - Character Count\n",
        "def count_chars(string):\n",
        "    result = {}\n",
        "    for char in string:\n",
        "        if char in result:\n",
        "            result[char] += 1\n",
        "        else:\n",
        "            result[char] = 1\n",
        "    #count = dict(sorted(result.items()))\n",
        "    result = dict(sorted(result.items(), key=lambda x: x[0]))\n",
        "    return result\n",
        "\n",
        "print(count_chars('Happiness'))\n",
        "print(count_chars('smiles'))"
      ]
    },
    {
      "cell_type": "markdown",
      "metadata": {
        "id": "1-QiJ6_F00bv"
      },
      "source": [
        "# 3. Thực hiện theo các yêu cầu sau.\n",
        "# Viết function đọc các câu trong một file txt, đếm số lượng các từ xuất hiện và trả về một dictionary với key là từ và value là số lần từ đó xuất hiện.\n",
        "• **Input**: Đường dẫn đến file txt\n",
        "\n",
        "• **Output**: dictionary đếm số lần các từ xuất hiện\n",
        "\n",
        "• **Note**:\n",
        "– Giả sử các từ trong file txt đều có các chữ cái thuộc [a-z] hoặc [A-Z]\n",
        "– Không cần các thao tác xử lý string phức tạp nhưng cần xử lý các từ đều là viết thường\n",
        "– Các bạn dùng lệnh này để download\n",
        "!gdown https://drive.google.com/uc?id=1IBScGdW2xlNsc9v5zSAya548kNgiOrko\n",
        "\n",
        "# Examples\n",
        "! gdown https :// drive . google . com/uc?id =1 IBScGdW2xlNsc9v5zSAya548kNgiOrko\n",
        "\n",
        "file_path = ’/ content / P1_data . txt ’\n",
        "\n",
        "word_count ( file_path )\n",
        "\n",
        "`>>{’a’: 7,`\n",
        "\n",
        "`’again ’: 1,`\n",
        "\n",
        "`’and ’: 1,`\n",
        "\n",
        "`’are ’: 1,`\n",
        "\n",
        "`’at ’: 1,`\n",
        "\n",
        "`’be ’: 1,`\n",
        "\n",
        "`’become ’: 2,`\n",
        "\n",
        "`...}`"
      ]
    },
    {
      "cell_type": "code",
      "execution_count": 26,
      "metadata": {
        "colab": {
          "base_uri": "https://localhost:8080/"
        },
        "id": "gcLKmsGNI-_P",
        "outputId": "c97d1d39-96f3-442c-e2e5-f6a2b0f2fad1"
      },
      "outputs": [
        {
          "name": "stdout",
          "output_type": "stream",
          "text": [
            "Downloading...\n",
            "From: https://drive.google.com/uc?id=1IBScGdW2xlNsc9v5zSAya548kNgiOrko\n",
            "To: /content/P1_data.txt\n",
            "\r  0% 0.00/747 [00:00<?, ?B/s]\r100% 747/747 [00:00<00:00, 3.05MB/s]\n"
          ]
        }
      ],
      "source": [
        "!gdown https://drive.google.com/uc?id=1IBScGdW2xlNsc9v5zSAya548kNgiOrko"
      ]
    },
    {
      "cell_type": "code",
      "execution_count": 1,
      "metadata": {
        "colab": {
          "base_uri": "https://localhost:8080/"
        },
        "collapsed": true,
        "id": "pBaBerGk1QLi",
        "outputId": "269317c5-a382-4487-a654-7dd267031283"
      },
      "outputs": [
        {
          "data": {
            "text/plain": [
              "{'a': 7,\n",
              " 'again': 1,\n",
              " 'and': 1,\n",
              " 'are': 1,\n",
              " 'at': 1,\n",
              " 'be': 1,\n",
              " 'become': 2,\n",
              " 'bricks': 1,\n",
              " 'busy': 1,\n",
              " 'but': 1,\n",
              " 'came': 1,\n",
              " 'can': 3,\n",
              " 'cannot': 1,\n",
              " 'change': 1,\n",
              " 'comes': 2,\n",
              " 'conquers': 1,\n",
              " 'courage': 1,\n",
              " 'day': 1,\n",
              " 'different': 1,\n",
              " 'employed': 1,\n",
              " 'enough': 1,\n",
              " 'everything': 1,\n",
              " 'firm': 1,\n",
              " 'for': 3,\n",
              " 'foundation': 1,\n",
              " 'from': 1,\n",
              " 'get': 2,\n",
              " 'have': 1,\n",
              " 'he': 1,\n",
              " 'help': 1,\n",
              " 'him': 1,\n",
              " 'himself': 1,\n",
              " 'his': 2,\n",
              " 'if': 1,\n",
              " 'in': 4,\n",
              " 'is': 3,\n",
              " 'it': 2,\n",
              " 'just': 2,\n",
              " 'kind': 1,\n",
              " 'lay': 1,\n",
              " 'life': 2,\n",
              " 'looking': 1,\n",
              " 'majority': 1,\n",
              " 'makes': 1,\n",
              " 'man': 6,\n",
              " 'mightiest': 1,\n",
              " 'mistakes': 1,\n",
              " 'morning': 1,\n",
              " 'not': 1,\n",
              " 'of': 4,\n",
              " 'one': 4,\n",
              " 'opportunity': 1,\n",
              " 'other': 1,\n",
              " 'others': 1,\n",
              " 'people': 1,\n",
              " 'positive': 1,\n",
              " 'problems': 1,\n",
              " 'profit': 1,\n",
              " 'rather': 1,\n",
              " 'ready': 1,\n",
              " 'secret': 1,\n",
              " 'small': 1,\n",
              " 'solve': 1,\n",
              " 'success': 3,\n",
              " 'successful': 2,\n",
              " 'the': 5,\n",
              " 'them': 1,\n",
              " 'they': 1,\n",
              " 'thinking': 1,\n",
              " 'those': 1,\n",
              " 'thought': 1,\n",
              " 'thrown': 1,\n",
              " 'to': 3,\n",
              " 'too': 1,\n",
              " 'try': 2,\n",
              " 'up': 1,\n",
              " 'usually': 1,\n",
              " 'value': 1,\n",
              " 'want': 2,\n",
              " 'warrior': 1,\n",
              " 'way': 1,\n",
              " 'we': 3,\n",
              " 'what': 1,\n",
              " 'when': 2,\n",
              " 'who': 3,\n",
              " 'whole': 1,\n",
              " 'will': 2,\n",
              " 'with': 4,\n",
              " 'you': 3,\n",
              " 'your': 1}"
            ]
          },
          "execution_count": 1,
          "metadata": {},
          "output_type": "execute_result"
        }
      ],
      "source": [
        "#3.file - Word count\n",
        "def word_count(file_path):\n",
        "    with open(file_path, 'r') as file_object:\n",
        "        file_content = file_object.read() #load nội dung file\n",
        "        file_content = file_content.lower() #xử lý - chuyển tấc cả các từ sang chữ thường\n",
        "    list_word = file_content.split() #băm chuỗi nội dung thành một list\n",
        "    dict_count = {} # khai báo dictionary trả về\n",
        "    for word in list_word:\n",
        "        if word in dict_count:\n",
        "            dict_count[word] += 1\n",
        "        else:\n",
        "            dict_count[word] = 1\n",
        "\n",
        "    #sắp xếp lại dictionary\n",
        "    dict_count = dict(sorted(dict_count.items(), key=lambda x: x[0]))\n",
        "    return dict_count\n",
        "\n",
        "file_path = '/content/P1_data.txt'\n",
        "word_count(file_path)\n"
      ]
    },
    {
      "cell_type": "markdown",
      "metadata": {
        "id": "KNAakpjC1P24"
      },
      "source": [
        "# 4. Khoảng cách Levenshtein.\n",
        "## Viết chương trình tính khoảng cách chỉnh sửa tối thiểu Levenshtein. Khoảng cách Levenshtein thể hiện khoảng cách khác biệt giữa 2 chuỗi ký tự. Khoảng cách Levenshtein giữa chuỗi S và chuỗi T là số bước ít nhất biến chuỗi S thành chuỗi T thông qua 3 phép biến đổi là:\n",
        "• Xoá một ký tự\n",
        "\n",
        "• Thêm một ký tự\n",
        "\n",
        "• Thay thế ký tự này bằng ký tự khác"
      ]
    },
    {
      "cell_type": "code",
      "execution_count": 12,
      "metadata": {
        "colab": {
          "base_uri": "https://localhost:8080/"
        },
        "id": "mnvNDMDzRPwT",
        "outputId": "1dcbfe76-a2a2-4e1c-9b87-d4f9f7dd5bcf"
      },
      "outputs": [
        {
          "name": "stdout",
          "output_type": "stream",
          "text": [
            "1\n",
            "3\n"
          ]
        }
      ],
      "source": [
        "#4.Matrix (List 2D) -  Levenshtein Distance\n",
        "def levenshtein_distance(source, target):\n",
        "    m = len(source) #số dòng\n",
        "    n = len(target) #số cột\n",
        "    #1.khai báo ma trận lưu trữ(m+1 x n+1)\n",
        "    distance = [[0] * (n + 1) for _ in range(m + 1)]\n",
        "    #2.1.hoàn thiện cột đầu tiên(0-m)\n",
        "    for i in range(m + 1):\n",
        "        distance[i][0] = i\n",
        "    #2.2.hoàn thiện dòng đầu tiên (0-n)\n",
        "    for j in range(n + 1):\n",
        "        distance[0][j] = j\n",
        "    #3.hoàn thiện các ô còn lại\n",
        "    for i in range(1, m + 1):\n",
        "        for j in range(1, n + 1):\n",
        "            if source[i - 1] == target[j - 1]:\n",
        "                sub_unit = 0\n",
        "            else:\n",
        "                sub_unit = 1\n",
        "            sub_cost = distance[i - 1][j - 1] + sub_unit\n",
        "            insert_cost = distance[i][j - 1] + 1\n",
        "            delete_cost = distance[i - 1][j] + 1\n",
        "            distance[i][j] = min(sub_cost, insert_cost, delete_cost)\n",
        "    #4.trả về giá trị ô cuối cùng\n",
        "    return distance[m][n]\n",
        "\n",
        "source = 'yu'\n",
        "target = 'you'\n",
        "print(levenshtein_distance(source, target))\n",
        "print(levenshtein_distance('kitten', 'sitting'))"
      ]
    },
    {
      "cell_type": "markdown",
      "metadata": {
        "id": "ZlsLCZKcj1Xi"
      },
      "source": [
        "# II. Câu hỏi trắc nghiệm"
      ]
    },
    {
      "cell_type": "markdown",
      "metadata": {
        "id": "mymChmC_FTl6"
      },
      "source": [
        "## Câu hỏi 1:(Code) Hoàn thành chương trình sau với mô tả bài toán từ câu I.1. Đầu ra của chương trìnhdưới đây là gì?"
      ]
    },
    {
      "cell_type": "code",
      "execution_count": 17,
      "metadata": {
        "colab": {
          "base_uri": "https://localhost:8080/"
        },
        "id": "6ic_DRXtFRv8",
        "outputId": "e4ccb551-21de-4b42-89ed-909383290ba4"
      },
      "outputs": [
        {
          "name": "stdout",
          "output_type": "stream",
          "text": [
            "[5, 5, 5, 5, 10, 12, 33, 33]\n"
          ]
        }
      ],
      "source": [
        "#1.max_kernel\n",
        "def max_kernel(num_list, k):\n",
        "# Your Code Here\n",
        "    result_list = []\n",
        "    for i in range(len(num_list) - k + 1):\n",
        "        max_num = max(num_list[i:i+k])\n",
        "        result_list.append(max_num)\n",
        "    return result_list\n",
        "# End Code Here\n",
        "\n",
        "\n",
        "assert max_kernel([3 , 4 , 5 , 1 , -44] , 3) == [5, 5, 5]\n",
        "num_list = [3, 4, 5, 1, -44 , 5 ,10, 12 ,33, 1]\n",
        "k = 3\n",
        "print( max_kernel(num_list, k))"
      ]
    },
    {
      "cell_type": "markdown",
      "metadata": {
        "id": "M-fJ0nEQFSal"
      },
      "source": [
        "## Câu hỏi 2:(Code) Hoàn thành chương trình sau với mô tả bài toán từ câu I.2. Đầu ra của chương trìnhdưới đây là gì?"
      ]
    },
    {
      "cell_type": "code",
      "execution_count": 18,
      "metadata": {
        "colab": {
          "base_uri": "https://localhost:8080/"
        },
        "id": "7MZ_c___FSNr",
        "outputId": "225067a0-6ab3-4830-d0b4-71899f4b129b"
      },
      "outputs": [
        {
          "name": "stdout",
          "output_type": "stream",
          "text": [
            "{'s': 2, 'm': 1, 'i': 1, 'l': 1, 'e': 1}\n"
          ]
        }
      ],
      "source": [
        "#2.character_count\n",
        "def character_count(word):\n",
        "# Your Code Here\n",
        "    result = {}\n",
        "    for char in word:\n",
        "        if char in result:\n",
        "            result[char] += 1\n",
        "        else:\n",
        "            result[char] = 1\n",
        "    return result\n",
        "# End Code Here\n",
        "\n",
        "assert character_count(\"Baby\") == {'B': 1, 'a': 1, 'b': 1, 'y': 1}\n",
        "print(character_count('smiles'))"
      ]
    },
    {
      "cell_type": "markdown",
      "metadata": {
        "id": "mxiCgzT6H2kk"
      },
      "source": [
        "## Câu hỏi 3:(Code) Hoàn thành chương trình sau với mô tả bài toán từ câu I.3. Đầu ra của chương trìnhdưới đây là gì?"
      ]
    },
    {
      "cell_type": "code",
      "execution_count": 19,
      "metadata": {
        "colab": {
          "base_uri": "https://localhost:8080/"
        },
        "id": "Iz3heCJ9H2NT",
        "outputId": "13f58638-657b-4371-8cff-1b08fd4ca01c"
      },
      "outputs": [
        {
          "name": "stdout",
          "output_type": "stream",
          "text": [
            "6\n"
          ]
        }
      ],
      "source": [
        "#3.count_word\n",
        "#!gdown https :// drive . google .com/uc?id =1 IBScGdW2xlNsc9v5zSAya548kNgiOrko\n",
        "def count_word(file_path):\n",
        "# Your Code Here\n",
        "    with open(file_path, 'r') as file_object:\n",
        "        file_content = file_object.read() #load nội dung file\n",
        "        file_content = file_content.lower() #xử lý - chuyển tấc cả các từ sang chữ thường\n",
        "    list_word = file_content.split() #băm chuỗi nội dung thành một list\n",
        "    dict_count = {} # khai báo dictionary trả về\n",
        "    for word in list_word:\n",
        "        if word in dict_count:\n",
        "            dict_count[word] += 1\n",
        "        else:\n",
        "            dict_count[word] = 1\n",
        "\n",
        "    #sắp xếp lại dictionary\n",
        "    dict_count = dict(sorted(dict_count.items(), key=lambda x: x[0]))\n",
        "    return dict_count\n",
        "# End Code Here\n",
        "\n",
        "file_path = '/content/P1_data.txt'\n",
        "result = count_word ( file_path )\n",
        "assert result['who'] == 3\n",
        "print(result['man'])"
      ]
    },
    {
      "cell_type": "markdown",
      "metadata": {
        "id": "hNVrWiPLI3Gu"
      },
      "source": [
        "## Câu hỏi 4:(Code) Hoàn thành chương trình sau với mô tả bài toán từ câu I.4. Đầu ra của chương trìnhdưới đây là gì?"
      ]
    },
    {
      "cell_type": "code",
      "execution_count": 20,
      "metadata": {
        "colab": {
          "base_uri": "https://localhost:8080/"
        },
        "id": "DssDUMJQFSDG",
        "outputId": "c8333fb0-b422-424c-f42c-21a838c9bbab"
      },
      "outputs": [
        {
          "name": "stdout",
          "output_type": "stream",
          "text": [
            "3\n"
          ]
        }
      ],
      "source": [
        "#4.levenshtein_distance\n",
        "def levenshtein_distance(token1, token2):\n",
        "# Your Code Here\n",
        "    m = len(token1) #số dòng\n",
        "    n = len(token2) #số cột\n",
        "    #1.khai báo ma trận lưu trữ(m+1 x n+1)\n",
        "    distance = [[0] * (n + 1) for _ in range(m + 1)]\n",
        "    #2.1.hoàn thiện cột đầu tiên(0-m)\n",
        "    for i in range(m + 1):\n",
        "        distance[i][0] = i\n",
        "    #2.2.hoàn thiện dòng đầu tiên (0-n)\n",
        "    for j in range(n + 1):\n",
        "        distance[0][j] = j\n",
        "    #3.hoàn thiện các ô còn lại\n",
        "    for i in range(1, m + 1):\n",
        "        for j in range(1, n + 1):\n",
        "            if token1[i - 1] == token2[j - 1]:\n",
        "                sub_unit = 0\n",
        "            else:\n",
        "                sub_unit = 1\n",
        "            sub_cost = distance[i - 1][j - 1] + sub_unit\n",
        "            insert_cost = distance[i][j - 1] + 1\n",
        "            delete_cost = distance[i - 1][j] + 1\n",
        "            distance[i][j] = min(sub_cost, insert_cost, delete_cost)\n",
        "    #4.trả về giá trị ô cuối cùng\n",
        "    return distance[m][n]\n",
        "\n",
        "# End Code Here\n",
        "\n",
        "assert levenshtein_distance(\"hi\", \"hello\") == 4.0\n",
        "print(levenshtein_distance(\"hola\", \"hello\"))"
      ]
    },
    {
      "cell_type": "markdown",
      "metadata": {
        "id": "-8D11w6hJ752"
      },
      "source": [
        "## Câu hỏi 5:(Code) Hoàn thành chương trình sau. Đầu ra của chương trình dưới đây là gì?"
      ]
    },
    {
      "cell_type": "code",
      "execution_count": 22,
      "metadata": {
        "colab": {
          "base_uri": "https://localhost:8080/"
        },
        "id": "_A49HZlSJ7h3",
        "outputId": "beef776f-7dee-4f05-d69c-15269b5409db"
      },
      "outputs": [
        {
          "name": "stdout",
          "output_type": "stream",
          "text": [
            "True\n"
          ]
        }
      ],
      "source": [
        "#5.check_the_number\n",
        "def check_the_number(N):\n",
        "    list_of_numbers = []\n",
        "    result = \"\"\n",
        "    for i in range (1, 5):\n",
        "    # Your code here\n",
        "    #Su dung append them i vao trong list_of_number\n",
        "        list_of_numbers.append(i)\n",
        "    if N in list_of_numbers :\n",
        "        results = \"True\"\n",
        "    if N not in list_of_numbers :\n",
        "        results = \"False\"\n",
        "    return results\n",
        "\n",
        "N = 7\n",
        "assert check_the_number(N) == \"False\"\n",
        "\n",
        "N = 2\n",
        "results = check_the_number(N)\n",
        "print(results)"
      ]
    },
    {
      "cell_type": "markdown",
      "metadata": {
        "id": "pBsxr6PmLF3U"
      },
      "source": [
        "## Câu hỏi 6:(Code) Hãy hoàn thành chương trình dưới đây. Đầu ra của chương trình là gì?"
      ]
    },
    {
      "cell_type": "code",
      "execution_count": 2,
      "metadata": {
        "colab": {
          "base_uri": "https://localhost:8080/"
        },
        "id": "ss5OhIl9J7Yu",
        "outputId": "195b4ffe-954e-411d-a1b6-39ee34bd89e9"
      },
      "outputs": [
        {
          "name": "stdout",
          "output_type": "stream",
          "text": [
            "[2, 2, 2, 1, 1]\n"
          ]
        }
      ],
      "source": [
        "#6.append_function\n",
        "def append_function(data, max, min):\n",
        "    result = []\n",
        "    for i in data:\n",
        "        # Your code here\n",
        "        # Neu i < min thi them min vao result\n",
        "        if i < min:\n",
        "            result.append(min)\n",
        "        elif i > max:\n",
        "            result.append(max)\n",
        "        else:\n",
        "            result.append(i)\n",
        "    return result\n",
        "my_list = [5, 2, 5, 0, 1]\n",
        "max = 1\n",
        "min = 0\n",
        "assert append_function(max = max, min = min, data = my_list) == [1, 1, 1, 0, 1]\n",
        "my_list = [10 , 2, 5, 0, 1]\n",
        "max = 2\n",
        "min = 1\n",
        "print(append_function(max = max, min = min, data = my_list))"
      ]
    },
    {
      "cell_type": "markdown",
      "metadata": {
        "id": "g1iYjGqmMgJZ"
      },
      "source": [
        "## Câu hỏi 7:(code) Hãy hoàn thành chương trình dưới đây. Đầu ra của chương trình là gì?"
      ]
    },
    {
      "cell_type": "code",
      "execution_count": 3,
      "metadata": {
        "colab": {
          "base_uri": "https://localhost:8080/"
        },
        "id": "toq6jritJ7RX",
        "outputId": "08ec5ffb-fc2d-4600-fb14-1d7fca5ea9f8"
      },
      "outputs": [
        {
          "name": "stdout",
          "output_type": "stream",
          "text": [
            "[1, 2, 3, 4, 0, 0]\n"
          ]
        }
      ],
      "source": [
        "#7.extend_function\n",
        "def extend_function(x, y):\n",
        "    # Your code here\n",
        "    #Su dung extend de noi y vao x\n",
        "    x.extend(y)\n",
        "    return x\n",
        "list_num1 = ['a', 2, 5]\n",
        "list_num2 = [1, 1]\n",
        "list_num3 = [0, 0]\n",
        "assert extend_function(list_num1, extend_function(list_num2, list_num3)) == ['a', 2, 5, 1, 1, 0, 0]\n",
        "list_num1 = [1, 2]\n",
        "list_num2 = [3, 4]\n",
        "list_num3 = [0, 0]\n",
        "print(extend_function(list_num1, extend_function(list_num2, list_num3)))"
      ]
    },
    {
      "cell_type": "markdown",
      "metadata": {
        "id": "fl-k2bf7N1uN"
      },
      "source": [
        "## Câu hỏi 8:(code) Hãy hoàn thành chương trình tìm phần tử có giá trị nhỏ nhất trong một list dướiđây. Đầu ra của chương trình là gì?"
      ]
    },
    {
      "cell_type": "code",
      "execution_count": 2,
      "metadata": {
        "colab": {
          "base_uri": "https://localhost:8080/"
        },
        "id": "wVVGaASKJ7Hq",
        "outputId": "ad681743-ecb7-4279-88e8-23170fab1dc7"
      },
      "outputs": [
        {
          "name": "stdout",
          "output_type": "stream",
          "text": [
            "-1\n"
          ]
        }
      ],
      "source": [
        "#8.min_function\n",
        "def min_function(n):\n",
        "# Your code here\n",
        "    min_value = min(n)\n",
        "    return min_value\n",
        "my_list = [1, 22, 93, -100]\n",
        "assert min_function(my_list) == -100\n",
        "my_list = [1, 2, 3, -1]\n",
        "print(min_function(my_list))"
      ]
    },
    {
      "cell_type": "markdown",
      "metadata": {
        "id": "1-I5zRaFQVgr"
      },
      "source": [
        "## Câu hỏi 9:(code) Hãy hoàn thành chương trình tìm phần tử có giá trị lớn nhất trong một list dưới đây. Đầu ra của chương trình là gì?"
      ]
    },
    {
      "cell_type": "code",
      "execution_count": 3,
      "metadata": {
        "colab": {
          "base_uri": "https://localhost:8080/"
        },
        "id": "kHqgwuCtJ3rA",
        "outputId": "68b4b9aa-a330-47f3-def9-df57427306ee"
      },
      "outputs": [
        {
          "name": "stdout",
          "output_type": "stream",
          "text": [
            "9\n"
          ]
        }
      ],
      "source": [
        "#9.max_function\n",
        "def max_function(n):\n",
        "# Your code here\n",
        "    max_value = max(n)\n",
        "    return max_value\n",
        "\n",
        "my_list = [1001 , 9, 100 , 0]\n",
        "assert max_function(my_list) == 1001\n",
        "my_list = [1, 9, 9, 0]\n",
        "print(max_function(my_list))"
      ]
    },
    {
      "cell_type": "markdown",
      "metadata": {
        "id": "UWxrI7pEQUmG"
      },
      "source": [
        "## Câu hỏi 10:(code) Hãy hoàn thành chương trình dưới đây. Đầu ra của chương trình là gì?"
      ]
    },
    {
      "cell_type": "code",
      "execution_count": 7,
      "metadata": {
        "colab": {
          "base_uri": "https://localhost:8080/"
        },
        "id": "mDAbutALQ3kj",
        "outputId": "5ffa6976-4a4a-4765-a118-3fb5055f0b40"
      },
      "outputs": [
        {
          "name": "stdout",
          "output_type": "stream",
          "text": [
            "True\n"
          ]
        }
      ],
      "source": [
        "#10.compare_function\n",
        "#Thuc hien duyet tung phan tu trong integers , so sanh tung phan tu voi number , neu bang nhau tra ve True , khac nhau tra ve false\n",
        "#vi du: integers = [1, 2, 3], number = 2, ban se tao ra list [False , True , False ]\n",
        "\n",
        "def compare_function ( integers , number = 1):\n",
        "    result = []\n",
        "    for i in integers:\n",
        "        if i == number:\n",
        "            result.append(True)\n",
        "        else:\n",
        "            result.append(False)\n",
        "    return any(result)\n",
        "\n",
        "my_list = [1, 3, 9, 4]\n",
        "assert compare_function(my_list, -1) == False\n",
        "my_list = [1, 2, 3, 4]\n",
        "print(compare_function(my_list, 2))"
      ]
    },
    {
      "cell_type": "markdown",
      "metadata": {
        "id": "_-yLnhVWTaHh"
      },
      "source": [
        "## Câu hỏi 11:(code) Hãy hoàn thành chương trình dưới đây. Đầu ra của chương trình là gì?bold text"
      ]
    },
    {
      "cell_type": "code",
      "execution_count": 8,
      "metadata": {
        "colab": {
          "base_uri": "https://localhost:8080/"
        },
        "id": "0KKTmSy0QUPd",
        "outputId": "6d502295-94d8-47d5-abf4-3b8658902b31"
      },
      "outputs": [
        {
          "name": "stdout",
          "output_type": "stream",
          "text": [
            "1.0\n"
          ]
        }
      ],
      "source": [
        "#11.abs_function\n",
        "# Your code here : Tra ve gia tri trung binh cua list bang cach chia var cho so luong phan tu trong list_mums\n",
        "def abs_function(list_nums = [0, 1, 2]):\n",
        "    var = 0\n",
        "    for i in list_nums:\n",
        "        var += i\n",
        "    return var / len(list_nums)\n",
        "\n",
        "assert abs_function([4 , 6, 8]) == 6\n",
        "print(abs_function())"
      ]
    },
    {
      "cell_type": "markdown",
      "metadata": {
        "id": "8rNs7h1TUHJq"
      },
      "source": [
        "## Câu hỏi 12:(code) Hãy hoàn thành chương trình dưới đây. Đầu ra của chương trình dưới đây là gì?"
      ]
    },
    {
      "cell_type": "code",
      "execution_count": 10,
      "metadata": {
        "colab": {
          "base_uri": "https://localhost:8080/"
        },
        "id": "Xf47g5kkQUMm",
        "outputId": "506e8fdc-65a1-4a15-86f6-c4565194a1cf"
      },
      "outputs": [
        {
          "name": "stdout",
          "output_type": "stream",
          "text": [
            "[3, 6]\n"
          ]
        }
      ],
      "source": [
        "#12.modulo_function\n",
        "def modulo_function(data):\n",
        "    var = []\n",
        "    for i in data :\n",
        "    # Your code here\n",
        "        if i % 3 == 0:\n",
        "            var.append(i)\n",
        "    # Neu i chia het cho 3 thi them i vao list var\n",
        "    return var\n",
        "assert modulo_function([3 , 9, 4, 5]) == [3, 9]\n",
        "print(modulo_function([1 , 2, 3, 5, 6]))"
      ]
    },
    {
      "cell_type": "markdown",
      "metadata": {
        "id": "GnTo-QxzUrcg"
      },
      "source": [
        "## Câu hỏi 13:(code) Hãy hoàn thành chương trình sau đây thực hiện tính giai thừa của 1 số. Đầu ra của chương trình dưới đây là gì?"
      ]
    },
    {
      "cell_type": "code",
      "execution_count": 11,
      "metadata": {
        "colab": {
          "base_uri": "https://localhost:8080/"
        },
        "id": "bKOlSIouQUIm",
        "outputId": "9e489d58-1cab-41d2-ff39-ad607b407baa"
      },
      "outputs": [
        {
          "name": "stdout",
          "output_type": "stream",
          "text": [
            "24\n"
          ]
        }
      ],
      "source": [
        "#13.factorial_function\n",
        "def factorial_function (y):\n",
        "    var = 1\n",
        "    while (y > 1):\n",
        "    # Your code here\n",
        "        var *= y\n",
        "        y -= 1\n",
        "    return var\n",
        "assert factorial_function(8) == 40320\n",
        "print(factorial_function(4))"
      ]
    },
    {
      "cell_type": "markdown",
      "metadata": {
        "id": "y2t039CAVUwl"
      },
      "source": [
        "## Câu hỏi 14:(code) Hãy hoàn thành chương trình đảo ngược chuỗi dưới đây. Đầu ra của chương trình là gì?"
      ]
    },
    {
      "cell_type": "code",
      "execution_count": 13,
      "metadata": {
        "colab": {
          "base_uri": "https://localhost:8080/"
        },
        "id": "3kMWqLbRQUFN",
        "outputId": "55b2116c-3ae4-4543-c58f-49263db86d6a"
      },
      "outputs": [
        {
          "name": "stdout",
          "output_type": "stream",
          "text": [
            "tocirpa\n"
          ]
        }
      ],
      "source": [
        "#14.reverse_function\n",
        "def reverse_function(x):\n",
        "# your code here\n",
        "    return x[::-1]\n",
        "x = 'I can do it'\n",
        "assert reverse_function(x)==\"ti od nac I\"\n",
        "x = 'apricot'\n",
        "print(reverse_function(x))\n"
      ]
    },
    {
      "cell_type": "markdown",
      "metadata": {
        "id": "bfJK1R3UWmoL"
      },
      "source": [
        "## Câu hỏi 15:(code) Hãy hoàn thành chương trình dưới đây. Đầu ra của chương trình là gì?"
      ]
    },
    {
      "cell_type": "code",
      "execution_count": 14,
      "metadata": {
        "colab": {
          "base_uri": "https://localhost:8080/"
        },
        "id": "FRqRYOUhQUBx",
        "outputId": "09fc1ac1-65cd-4002-e30a-54e2ceb47d03"
      },
      "outputs": [
        {
          "name": "stdout",
          "output_type": "stream",
          "text": [
            "['T', 'T', 'T', 'N']\n"
          ]
        }
      ],
      "source": [
        "#15.check_function\n",
        "def function_helper (x):\n",
        "    # Your code here\n",
        "    if x > 0:\n",
        "        return 'T'\n",
        "    else:\n",
        "        return 'N'\n",
        "    # Neu x >0 tra ve ’T ’, nguoc lai tra ve ’N’\n",
        "def check_function ( data ):\n",
        "    res = [ function_helper (x) for x in data ]\n",
        "    return res\n",
        "data = [10 , 0, -10, -1]\n",
        "assert check_function(data) == ['T', 'N', 'N', 'N']\n",
        "data = [2, 3, 5, -1]\n",
        "print(check_function(data))"
      ]
    },
    {
      "cell_type": "markdown",
      "metadata": {
        "id": "_TRJD442XYxT"
      },
      "source": [
        "## Câu hỏi 16:(code) Hãy hoàn thành chương trình dưới đây để loại bỏ những phần tử trùng nhau. Đầu ra của chương trình là gì?"
      ]
    },
    {
      "cell_type": "code",
      "execution_count": 15,
      "metadata": {
        "colab": {
          "base_uri": "https://localhost:8080/"
        },
        "id": "CsTXdRAjXYbE",
        "outputId": "f17940da-1ac0-49b7-aff3-c058f1f8df51"
      },
      "outputs": [
        {
          "name": "stdout",
          "output_type": "stream",
          "text": [
            "[9, 8, 1]\n"
          ]
        }
      ],
      "source": [
        "#16.distinct_function\n",
        "def function_helper(x, data):\n",
        "    for i in data :\n",
        "    # Your code here\n",
        "    # Neu x == i thi return 0\n",
        "        if x == i:\n",
        "            return 0\n",
        "    return 1\n",
        "def distinct_function(data):\n",
        "    res = []\n",
        "    for i in data:\n",
        "        if function_helper(i, res):\n",
        "            res.append (i)\n",
        "    return res\n",
        "lst = [10 , 10, 9, 7, 7]\n",
        "assert distinct_function(lst) ==[10 , 9, 7]\n",
        "lst = [9, 9, 8, 1, 1]\n",
        "print(distinct_function(lst))\n"
      ]
    },
    {
      "cell_type": "code",
      "execution_count": null,
      "metadata": {
        "id": "-Dz3yr7WYWVL"
      },
      "outputs": [],
      "source": []
    }
  ],
  "metadata": {
    "colab": {
      "provenance": []
    },
    "kernelspec": {
      "display_name": "Python 3",
      "name": "python3"
    },
    "language_info": {
      "name": "python"
    }
  },
  "nbformat": 4,
  "nbformat_minor": 0
}
